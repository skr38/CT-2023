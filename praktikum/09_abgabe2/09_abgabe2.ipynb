{
 "cells": [
  {
   "attachments": {},
   "cell_type": "markdown",
   "metadata": {},
   "source": [
    "# Computational Thinking WS2023/24 - Abgabe\n",
    "**Autoren:** \n",
    "+ Dr. Benedikt Zönnchen\n",
    "+ Prof. Martin Hobelsberger\n",
    "+ Prof. Martin Orehek\n",
    "+ Prof. Benedikt Dietrich"
   ]
  },
  {
   "attachments": {},
   "cell_type": "markdown",
   "metadata": {},
   "source": [
    "**Anmerkungen:**\n",
    "\n",
    "In diesem Notebook werden wir uns Stück für Stück einen Kontext erbauen, um mit Daten besser und bequemer umgehen zu können.\n",
    "Dabei verzichten wir auf Pakete wie\n",
    "\n",
    "+ ``numpy``\n",
    "+ ``pandas``\n",
    "\n",
    "und starten stattdessen von Neuem. Für den letzten Teil dieses Notebooks müssen aber beide Pakete installiert sein."
   ]
  },
  {
   "cell_type": "markdown",
   "metadata": {},
   "source": [
    "### CSV-Dateien\n",
    "\n",
    "Ein gängiges Format, um Daten zu speichern sind sogenannte CSV-Dateien, wobei CSV für *Comma-Separated Values* steht. In diesen Dateien enthält typischerweise die erste Zeile die Namen der Spalten, durch Kommas getrennt. Alle weiteren Zeilen enthalten die Daten, wiederum jeweils durch Kommas getrennt. Ein Beispiel einer Datei, in welcher Namen, Matrikelnummer, die erzielten Punkte und Noten von Studierenden abgespeichert werden, könnte wie folgt aussehen:\n",
    "\n",
    "``` \n",
    "Matrikelnummer,Name,Vorname,Punkte,Note\n",
    "12345678,Müller,Hans,79,2.3\n",
    "44445555,Musterfrau,Maria,99,1.0\n",
    "...\n",
    "```\n",
    "\n",
    "Der Name der ersten Spalte lautet in diesem Beispiel `Matrikelnummer`, der Name der zweiten Spalte `Name`, usw.. \n",
    "Der Student Hans Müller mit der Matrikelnummer 12345678 hat 79 Punkte erzielt, was der Note 2.3 entspricht.\n",
    "\n",
    "In den folgenden Aufgaben wollen wir unsere eigene Datenstruktur konstruieren, welche eine CSV-Datei repräsentieren soll. Diese Datenstruktur ``data`` ist ein Dictionary, welches lauter Listen enthält.\n",
    "Jede Liste repräsentiert eine Spalte der CSV-Datei.\n",
    "Die ``keys`` des Dictionarys repräsentieren den Spaltennamen.\n",
    "\n",
    "Die Aufgaben bauen teilweise aufeinander auf.\n",
    "Es ist insbesondere wichtig, dass Sie **Aufgabe 1**, **Aufgabe 2** und **Aufgabe 3** zuerst lösen, da Sie damit die angesprochene Datenstruktur erzeugen."
   ]
  },
  {
   "cell_type": "code",
   "execution_count": 1,
   "metadata": {},
   "outputs": [],
   "source": [
    "import otter\n",
    "import csv\n",
    "\n",
    "grader = otter.Notebook('09_abgabe2.ipynb')\n",
    "\n",
    "path_to_csv_file = './data/test-data.csv'"
   ]
  },
  {
   "cell_type": "markdown",
   "metadata": {},
   "source": [
    "Folgender Code gibt die ersten ``n`` Zeilen der CSV-Datei ``./data/test-data.csv`` aus.\n",
    "Dabei verwenden wir aus dem Standardpaket ``csv`` die Funktion ``reader``, welche einen neuen sog. Handle erzeugt, mithilfe dem wir durch die CSV-Datei *iterieren* können."
   ]
  },
  {
   "cell_type": "markdown",
   "metadata": {},
   "source": [
    "***Hinweis:*** Debuggen Sie, bevor sie weitermachen, unbedingt folgenden Code Zeile für Zeile und stellen Sie sicher, dass sie verstehen, welche Werte welche Variable bei den einzelnen Durchläufen annehmen. "
   ]
  },
  {
   "cell_type": "code",
   "execution_count": 3,
   "metadata": {},
   "outputs": [],
   "source": [
    "# n = 8\n",
    "# with open(path_to_csv_file, newline='') as csvfile:\n",
    "#     handle = csv.reader(csvfile, delimiter=',')\n",
    "#     count = 1\n",
    "#     for row in handle:\n",
    "#         if count >= n:\n",
    "#             break\n",
    "#         row_as_string = ''\n",
    "#         print(f\"Zeile {count}: \")\n",
    "#         for col in row:\n",
    "#             print(col)\n",
    "#         print(\"\")\n",
    "#         count += 1"
   ]
  },
  {
   "cell_type": "code",
   "execution_count": 4,
   "metadata": {},
   "outputs": [],
   "source": [
    "#######################################################SNIPPETS##################################################################\n",
    "# def structure_csv(path_to_csv_file):\n",
    "#     '''\n",
    "#     structures given csv file and returns dictionary with keys representing the first row and their value beeing all values in their column (within one list) except themselves\n",
    "#     '''\n",
    "\n",
    "#     with open(path_to_csv_file, newline='') as csvfile:\n",
    "#         handle = csv.reader(csvfile, delimiter=',')\n",
    "#         dict2d = {}         #final dictionary for return\n",
    "#         list_keys = []      #list of all keys\n",
    "#         list_values = []    #list of all values\n",
    "#         _ = 1               #first used to determine if key (first row) or value (subsequent rows) - then for determining startingpoint of slice for list_values\n",
    "\n",
    "#         for row in handle:\n",
    "#             if _ == 1:                      #saves all keys out of first row\n",
    "#                 for key in row:\n",
    "#                     list_keys.append(key)\n",
    "#                 _ = 0                       #first row done\n",
    "#             else:                           #saves all values out of subsequent rows\n",
    "#                 for value in row:\n",
    "#                     list_values.append(value)\n",
    "        \n",
    "\n",
    "#         for key in list_keys:               #sets up keys in dictionary with corresponding value as an empty list\n",
    "#             dict2d[key] = [] \n",
    "\n",
    "#         for key in dict2d:                  #fills dictionary valueslist with appropriate values\n",
    "#             dict2d[key] = (list(list_values[_::len(list_keys)] ) ) \n",
    "#             _ += 1\n",
    "\n",
    "#         return(dict2d)\n",
    "\n",
    "\n",
    "\n",
    "\n",
    "# print (dict2d)\n",
    "# print (list_keys)\n",
    "# print (list_values)\n",
    "\n",
    "\n",
    "\n",
    "\n",
    "\n",
    "\n",
    "\n",
    "# list insert::::::::::\n",
    "\n",
    "# list_values = ['1.0', '2.0', 'Toster', '5', '2.3', '21', 'Auto', '9']\n",
    "# list_keys = ['x', 'y', 'name', 'price']\n",
    "# dict2d = {'x': [], 'y': [], 'name': [], 'price': []}\n",
    "\n",
    "# keycycle = 0\n",
    "# for key in dict2d:\n",
    "#     dict2d[key] = (list(list_values[keycycle::len(list_keys)] ) ) \n",
    "#     keycycle += 1\n",
    "\n",
    "# print (dict2d)\n",
    "\n",
    "\n",
    "##Garbage:::::::::::::::\n",
    "\n",
    "#    {k: [d[k] for d in dicts] for k in dicts[0]}\n",
    "#     for row in handle:\n",
    "#         print (dict(row))\n",
    "\n",
    "\n",
    "#for i in range(len list)\n",
    "            \n",
    "# dict2d = dict(zip(list_keys[:], list_values[:] ))\n",
    "\n",
    "\n",
    "\n",
    "\n",
    "\n",
    "# counter = 0\n",
    "# for row in handle:\n",
    "#     if counter == 0:\n",
    "#         for key in row:\n",
    "#             dict2d[key]=[]\n",
    "#         counter += 1\n",
    "#     else:\n",
    "#         pass\n",
    "\n",
    "# counter = 0\n",
    "# for row in handle:\n",
    "#     if counter == 0:\n",
    "#         for key in row:\n",
    "#             dict2d.keys append {key, []} #\n",
    "#             counter += 1\n",
    "#     if counter > 0:\n",
    "#         for value in row:\n",
    "#             dict2d.keys append {, [value]} \n",
    "\n",
    "\n",
    " # for k in dicts[0]:\n",
    "        # dict2d[k] = [d[k] for d in dicts]\n",
    "\n",
    "    # counter = 0\n",
    "    # for row in handle:\n",
    "    #     if counter == 0:\n",
    "    #         for key in row:\n",
    "    #             list_keys.append(key)\n",
    "    #         counter += 1\n",
    "    #     else:\n",
    "    #         for i in range(len(list_keys)):\n",
    "    #             for value in row:\n",
    "    #                 list_values[i].append(value)\n",
    "                \n",
    "    # dict2d = dict(zip(list_keys[:], list_values[:]))\n",
    "\n",
    "\n",
    "\n",
    "\n",
    "\n",
    "\n",
    "\n",
    "# try f too deep\n",
    "\n",
    "# def read_column(name, path_to_csv_file):\n",
    "#     Data= []\n",
    "#     list=[]\n",
    "#     Zeile=0\n",
    "#     counter= 0\n",
    "#     with open(path_to_csv_file, newline='') as csvfile:\n",
    "#         handle = csv.reader(csvfile, delimiter=',')\n",
    "#         for row in handle:\n",
    "#             if counter == 0:\n",
    "#                 for suche in row:\n",
    "#                     if suche == name:\n",
    "#                         counter=1\n",
    "#                         break\n",
    "#                     else:\n",
    "#                         Zeile+= 1\n",
    "#             else: pass\n",
    "#     with open(path_to_csv_file, newline='') as csvfile:\n",
    "#         handle = csv.reader(csvfile, delimiter=',')\n",
    "#         for row in handle:\n",
    "\n",
    "#             list.append(row)\n",
    "#         for i in range(1,3):\n",
    "#             Data.append(list[i][Zeile])\n",
    "#     return(Data)\n",
    "    \n",
    "# print(read_column('y', path_to_csv_file))\n",
    "\n",
    "# print(read_column('blablub', path_to_csv_file))\n",
    "        "
   ]
  },
  {
   "cell_type": "markdown",
   "metadata": {
    "deletable": false,
    "editable": false
   },
   "source": [
    "***\n",
    "***Aufgabe 1 (Lesen einer Spalte).***\n",
    "\n",
    "Schreiben Sie eine Funktion ``read_column(name, path_to_csv_file)``, welche Ihnen die Werte der Spalte mit dem Namen (Header) ``name`` als Liste zurückliefert.\n",
    "``path_to_csv_file`` ist der Dateipfad zur jeweiligen CSV-Datei.\n",
    "\n",
    "Angenommen die CSV-Datei sähe wie folgt aus:\n",
    "\n",
    "```\n",
    "x,y,name,price\n",
    "1.0,2.0,Toster,5\n",
    "2.3,21,Auto,9\n",
    "```\n",
    "\n",
    "dann sollte \n",
    "\n",
    "```python\n",
    "read_column('y', './data/test-data.csv')\n",
    "```\n",
    "\n",
    "folgendes zurückliefern:\n",
    "\n",
    "```python\n",
    "['2.0', '21']\n",
    "```\n",
    "\n",
    "Gehen Sie bei Ihrer Lösung wie folgt vor:\n",
    "\n",
    "1. Überlegen Sie sich als erstes, wie sie herausfinden können, welche die gesuchte Spalte ist. \n",
    "1. Schreiben Sie eine Funktion `read_column(name, path_to_csv_file)`, welche den Index der Spalte mit dem Namen `name` ermittelt und ausgibt. Für einen Aufruf `read_column('y', './data/test-data.csv')` sollte die Funktion also `1`, für `read_column('price', './data/test-data.csv')` die `3` ausgeben.\n",
    "1. Erweitern Sie nun den Code, sodass Daten der gesuchten Spalte ausgegeben werden, also z.B. `'2.0'` und `'21'` wenn die Funktion mit `read_column('y', './data/test-data.csv')` aufgerufen wird.\n",
    "1. Erweitern Sie nun Ihren Code und erzeugen zu Beginn der Funktion eine leere Liste `data`. Fügen Sie alle Daten aus der gesuchten Spalte zur Liste hinzu. Die Funktion soll `data` zurückliefern.\n",
    "1. Erweitern Sie Ihre Funktion nun noch um eine Fehlerbehandlung: Sollte der gesuchte Namen nicht Teil der Daten sein, soll eine Liste zurückgegeben werden.\n",
    "\n",
    "**Hinweis 1:** Beachten Sie, dass die eingelesenen Daten alle Strings zurückgeliefert werden. Wir werden uns diesem Problem weiter unten annehmen.\n",
    "\n",
    "**Hinweis 2:** Bedenken Sie, dass die erste Zeile, welche Sie einlesen, sich von allen anderen Zeilen unterscheidet, da es sich um die Namen der Spalten handelt!"
   ]
  },
  {
   "cell_type": "code",
   "execution_count": 3,
   "metadata": {
    "tags": []
   },
   "outputs": [
    {
     "name": "stdout",
     "output_type": "stream",
     "text": [
      "['2.0', '21']\n",
      "['5', '9']\n"
     ]
    }
   ],
   "source": [
    "def structure_csv(path_to_csv_file, gimmeall = False):\n",
    "    '''\n",
    "    structures given csv file and returns dictionary with keys representing the first row and their value beeing all values in their column (within one list) except themselves\n",
    "    '''\n",
    "\n",
    "    with open(path_to_csv_file, newline='') as csvfile:\n",
    "        handle = csv.reader(csvfile, delimiter=',')\n",
    "        result = {}         #final dictionary for return\n",
    "        list_keys = []      #list of all keys\n",
    "        list_values = []    #list of all values\n",
    "        _ = True               #first used to determine if key (first row) or value (subsequent rows) - then for determining startingpoint of slice for list_values\n",
    "\n",
    "        for row in handle:\n",
    "            if _:                      #saves all keys out of first row\n",
    "                for key in row:\n",
    "                    list_keys.append(key)\n",
    "                _ = int(0)                       #first row done\n",
    "            else:                           #saves all values out of subsequent rows\n",
    "                for value in row:\n",
    "                    list_values.append(value)\n",
    "        \n",
    "\n",
    "        for key in list_keys:               #sets up keys in dictionary with corresponding value as an empty list\n",
    "            result[key] = [] \n",
    "\n",
    "        for key in result:                  #fills dictionary valueslist with appropriate values\n",
    "            result[key] = (list(list_values[_::len(list_keys)] ) ) \n",
    "            _ += 1\n",
    "\n",
    "        if gimmeall == True:\n",
    "            return(list_keys, list_values, result)\n",
    "        else:\n",
    "            return(result)\n",
    "    \n",
    "\n",
    "def read_column(name, path_to_csv_file):\n",
    "    '''\n",
    "    returns desired columns (choosen by name input) values as a list\n",
    "    '''\n",
    "\n",
    "    _ = structure_csv(path_to_csv_file)\n",
    "\n",
    "    if name in _:\n",
    "        return(_[name])\n",
    "    \n",
    "    else:\n",
    "        return([])  \n",
    "\n",
    "###Check    \n",
    "# print(read_column('y', path_to_csv_file))\n",
    "# print(read_column('price', path_to_csv_file))"
   ]
  },
  {
   "cell_type": "code",
   "execution_count": 6,
   "metadata": {},
   "outputs": [],
   "source": [
    "###Proof of concept\n",
    "# with open(path_to_csv_file, newline='') as csvfile:\n",
    "#     handle = csv.reader(csvfile, delimiter=',')\n",
    "#     result = {}         #final dictionary for return\n",
    "#     list_keys = []      #list of all keys\n",
    "#     list_values = []    #list of all values\n",
    "#     _ = 1               #first used to determine if key (first row) or value (subsequent rows) - then for determining startingpoint of slice for list_values\n",
    "\n",
    "#     for row in handle:\n",
    "#         if _ == 1:                      #saves all keys out of first row\n",
    "#             for key in row:\n",
    "#                 list_keys.append(key)\n",
    "#             _ = 0                       #first row done\n",
    "#         else:                           #saves all values out of subsequent rows\n",
    "#             for value in row:\n",
    "#                 list_values.append(value)\n",
    "    \n",
    "\n",
    "#     for key in list_keys:               #sets up keys in dictionary with corresponding value as an empty list\n",
    "#         result[key] = [] \n",
    "\n",
    "#     for key in result:                  #fills dictionary valueslist with appropriate values\n",
    "#         result[key] = (list(list_values[_::len(list_keys)] ) ) \n",
    "#         _ += 1\n",
    "\n",
    "#     print(result)"
   ]
  },
  {
   "cell_type": "code",
   "execution_count": 7,
   "metadata": {
    "deletable": false,
    "editable": false
   },
   "outputs": [
    {
     "data": {
      "text/html": [
       "<p><strong><pre style='display: inline;'>q1</pre></strong> passed! 🌟</p><p><strong><pre style='display: inline;'>q1 - 1</pre> message:</strong> Das sieht gut aus.</p>"
      ],
      "text/plain": [
       "q1 results: All test cases passed!\n",
       "q1 - 1 message: Das sieht gut aus."
      ]
     },
     "execution_count": 7,
     "metadata": {},
     "output_type": "execute_result"
    }
   ],
   "source": [
    "grader.check(\"q1\")"
   ]
  },
  {
   "cell_type": "markdown",
   "metadata": {},
   "source": [
    "### Einschub - Funktionen als Referenz\n",
    "\n",
    "In Python ist es möglich, einer Funktion eine Funktion als Parameter zu übergeben. Hier ein kleiner Beispielcode:"
   ]
  },
  {
   "cell_type": "code",
   "execution_count": 8,
   "metadata": {},
   "outputs": [],
   "source": [
    "def multiply(a, b):\n",
    "    return a * b\n",
    "\n",
    "def add(a, b):\n",
    "    return a + b\n",
    "\n",
    "def do_math(function_name, operand1, operand2):\n",
    "    result = function_name(operand1, operand2)\n",
    "    return result\n",
    "\n",
    "# result1 = do_math(multiply, 2, 3)\n",
    "# result2 = do_math(add, 2, 3)\n",
    "# print(f\"{result1=}\")\n",
    "# print(f\"{result2=}\")"
   ]
  },
  {
   "cell_type": "markdown",
   "metadata": {
    "deletable": false,
    "editable": false
   },
   "source": [
    "***\n",
    "***Aufgabe 2 (Erweiterung mit Parser).***\n",
    "\n",
    "Mit der Möglichkeit Funktionen als Parameter zu übergeben erreicht man, dass eine Funktion eine Funktion unserer Wahl aufruft. Das ist für unseren Spaltenleser `read_colum` besonders praktisch, da man so Daten direkt beim Einlesen vorverarbeiten kann.\n",
    "\n",
    "In der folgenden Aufgabe sollen Sie die oben definierte Funktion `read_column` noch um den optionalen Parameter `parser` erweitern. Übergibt man für ``parser`` eine Funktion, soll diese Funktion für alle Daten der Spalte angewendet werden.\n",
    "\n",
    "***Beispiel 1:***\n",
    "\n",
    "Der Code \n",
    "\n",
    "```python\n",
    "    def to_int(value):\n",
    "        return int(value)\n",
    "\n",
    "    read_column(['price'], './data/test-data.csv', to_int)\n",
    "```\n",
    "\n",
    "soll folgendes zurückliefern:\n",
    "\n",
    "```python\n",
    "    [5, 9]\n",
    "```\n",
    "\n",
    "***Beispiel 2:***\n",
    "\n",
    "Der Code \n",
    "\n",
    "```python\n",
    "    def multiply_by_two(value):\n",
    "        return int(value) * 2 # Achtung: Beachten Sie die Konvertierung in int!\n",
    "\n",
    "    read_column(['price'], './data/test-data.csv', multiply_by_two)\n",
    "```\n",
    "\n",
    "soll folgendes zurückliefern:\n",
    "\n",
    "```python\n",
    "    [10, 18]\n",
    "```\n",
    "\n",
    "***Beispiel 3:***\n",
    "\n",
    "Wird `read_column` nur mit zwei Parametern aufgerufen, soll `parser` den Default-Wert `None` haben. In diesem Fall soll der Wert der Spalte unverändert zurückgegeben werden.\n",
    "\n",
    "Der Aufruf\n",
    "\n",
    "```python\n",
    "    read_column(['price'], './data/test-data.csv')\n",
    "```\n",
    "\n",
    "soll also folgendes zurückliefern:\n",
    "\n",
    "```python\n",
    "    ['5', '9']\n",
    "```"
   ]
  },
  {
   "cell_type": "code",
   "execution_count": 31,
   "metadata": {
    "tags": []
   },
   "outputs": [],
   "source": [
    "def to_int(_): #default changed for better compatibility\n",
    "        return int(float(_))\n",
    "\n",
    "def multiply_by_two(_): #default changed for better compatibility\n",
    "        solution = None\n",
    "        try:\n",
    "            solution = int(_) * 2 \n",
    "        except:\n",
    "            try:\n",
    "                solution = int( (float(_) * 2 ) )\n",
    "            except:\n",
    "                solution = (float(_) * 2 )                \n",
    "        return (solution)\n",
    "\n",
    "def read_column(name, path_to_csv_file, parser = None):\n",
    "    '''\n",
    "    returns desired columns (choosen by name input) values as a list\n",
    "    '''\n",
    "\n",
    "    _ = structure_csv(path_to_csv_file)\n",
    "\n",
    "    if parser == None:\n",
    "        if name in _:\n",
    "            return(_[name])\n",
    "        \n",
    "        else:\n",
    "            return([])\n",
    "\n",
    "    else:\n",
    "        try:\n",
    "            value_list = [parser(i) for i in _[name]]\n",
    "            return(value_list)\n",
    "        \n",
    "        except:\n",
    "            print('Unsupported datatype for given parser function by read_column')\n",
    "            return([])\n",
    "\n",
    "         \n",
    "\n",
    "###Check\n",
    "# print(read_column('name', './data/test-data.csv', to_int))\n",
    "# print(read_column('price', './data/test-data.csv', multiply_by_two))\n",
    "# print(read_column('price', './data/test-data.csv'))"
   ]
  },
  {
   "cell_type": "markdown",
   "metadata": {
    "deletable": false,
    "editable": false
   },
   "source": [
    "***Aufgabe 3 (Erzeugen eines Dictionaries aus der CSV-Datei).*** \n",
    "\n",
    "Schreiben Sie eine Funktion ``read(names, path_to_csv_file, parsers=None)``, welche Ihnen die Spalten, definiert in ``names``, in ein Dictionary steckt.\n",
    "Dabei sollen die ``keys`` des Dictionarys aus den Namen ``names`` bestehen und die ``values`` des Dictionarys aus den Spalten (als Listen) bestehen.\n",
    "Die Funktion soll das konstruierte Dictionary zurückliefern.\n",
    "\n",
    "Mit Hilfe des Parameters `parsers` soll eine Liste an `parser` übergeben werden können.\n",
    "Gibt es für den ``i``-ten Namen einen Parser ``parsers[i]``, d.h. entspricht der Wert von `parsers[i]` nicht `None`, so sollte jeder Wert ``value`` der entsprechenden Spalte durch den Wert ``parser[i](value)`` ersetzt werden.\n",
    "\n",
    "\n",
    "***Beispiele***\n",
    "\n",
    "Für folgende CSV-Datei\n",
    "\n",
    "```\n",
    "x,y,name,price\n",
    "1.0,2.0,Toster,5\n",
    "2.3,21,Auto,9\n",
    "```\n",
    "\n",
    "ergibt\n",
    "\n",
    "```python\n",
    "data = read(['y', 'x'], path_to_csv_file)\n",
    "print(data)\n",
    "```\n",
    "\n",
    "folgende Ausgabe\n",
    "\n",
    "```python\n",
    "{'y': ['2.0','21'], 'x': ['1.0','2.3']}\n",
    "```\n",
    "\n",
    "und\n",
    "\n",
    "```python\n",
    "\n",
    "def multiply_by_two(x):\n",
    "    return 2*x\n",
    "\n",
    "data = read(['price', 'x'], path_to_csv_file, [multiply_by_two, None])\n",
    "print(data)\n",
    "```\n",
    "\n",
    "führt zu folgender Ausgabe\n",
    "\n",
    "```python\n",
    "{'price': [10.0,18.0], 'x': [1.0,2.3]}\n",
    "```\n",
    "\n",
    "**Tipp 1:** Sie können (müssen aber nicht) Ihre Funktion ``read_column`` verwenden.\n",
    "\n",
    "**Tipp 2:** Setzen Sie die Funktion erst Mal ohne `parsers` um. Wenn das normale Einlesen der Spalten in das Dictionary funktioniert, erweitern Sie Ihren Code um die Funktionalität `parsers`."
   ]
  },
  {
   "cell_type": "code",
   "execution_count": 6,
   "metadata": {
    "tags": []
   },
   "outputs": [],
   "source": [
    "def read(names, path_to_csv_file, parser1 = None, parser2 = None): ###parser2 used on interim basis to fix data1 call in cell 42\n",
    "    '''\n",
    "    another dictionary producer - this time just with parts of the full dict\n",
    "    '''\n",
    "\n",
    "    output = {}\n",
    "    _ = structure_csv(path_to_csv_file)\n",
    "\n",
    "    if parser1 == None:\n",
    "        for name in names:\n",
    "            output[name] = _[name]\n",
    "\n",
    "        return(output) \n",
    "    \n",
    "    elif parser2 == None:       \n",
    "        try:\n",
    "            for name in names:\n",
    "                output[name] = [parser1(i) for i in _[name]]\n",
    "            return(output)\n",
    "         \n",
    "        except:\n",
    "            print('Unsupported datatype for given parser function by read')\n",
    "            return({})\n",
    "\n",
    "    else:   \n",
    "        try:\n",
    "            for name in names:\n",
    "                output[name] = [parser2(parser1(i)) for i in _[name]]\n",
    "            return(output)\n",
    "         \n",
    "        except:\n",
    "            print('Unsupported datatype for given parser function by read')\n",
    "            return({})\n",
    "\n",
    "###Check\n",
    "# data = read(['y', 'x'], path_to_csv_file)\n",
    "# print(data)\n",
    "# table = read(['price', 'x'], path_to_csv_file, multiply_by_two)\n",
    "# print(table)"
   ]
  },
  {
   "cell_type": "code",
   "execution_count": 11,
   "metadata": {
    "deletable": false,
    "editable": false
   },
   "outputs": [
    {
     "data": {
      "text/html": [
       "<p><strong><pre style='display: inline;'>q3</pre></strong> passed! 🚀</p><p><strong><pre style='display: inline;'>q3 - 1</pre> message:</strong> Das sieht gut aus.</p>"
      ],
      "text/plain": [
       "q3 results: All test cases passed!\n",
       "q3 - 1 message: Das sieht gut aus."
      ]
     },
     "execution_count": 11,
     "metadata": {},
     "output_type": "execute_result"
    }
   ],
   "source": [
    "grader.check(\"q3\")"
   ]
  },
  {
   "cell_type": "markdown",
   "metadata": {},
   "source": [
    "Wir können eine CSV-Datei nun bequem in eine Python-Datenstruktur einlesen.\n",
    "Diese Datenstruktur bezeichnen wir von nun an als ``data``."
   ]
  },
  {
   "cell_type": "markdown",
   "metadata": {
    "deletable": false,
    "editable": false
   },
   "source": [
    "***Aufgabe 4 (Anzahl der Zeilen).*** \n",
    "\n",
    "Schreiben Sie eine Funktion ``len_data(data)``, welche die Anzahl der Zeilen von ``data`` zurückliefert.\n",
    "\n",
    "Der Code \n",
    "\n",
    "```python\n",
    "print(len_data(read(['y'], './data/test-data.csv')))\n",
    "```\n",
    "\n",
    "sollte beispielsweise \n",
    "\n",
    "``2`` \n",
    "\n",
    "zurückliefern. \n",
    "\n",
    "Existiert der key nicht, oder ist die Liste leer, soll die Funktion ``0`` zurückliefern."
   ]
  },
  {
   "cell_type": "code",
   "execution_count": 7,
   "metadata": {
    "tags": []
   },
   "outputs": [
    {
     "name": "stdout",
     "output_type": "stream",
     "text": [
      "{'y': ['2.0', '21']}\n",
      "2\n"
     ]
    }
   ],
   "source": [
    "def len_data(data):\n",
    "    '''\n",
    "    returns the length of the value safed to a key in data\n",
    "    '''\n",
    "    \n",
    "    try:\n",
    "        if data != {}:\n",
    "            for key in data:\n",
    "                return(len(data[key]))\n",
    "        return(0)\n",
    "    \n",
    "    except:\n",
    "        print('Error: given data empty at len_data')\n",
    "\n",
    "\n",
    "###Check\n",
    "# print(read(['y'], path_to_csv_file))\n",
    "# print(len_data(read(['y'], path_to_csv_file)))\n",
    "\n",
    "# x = {'y': ['2.0', '21']}\n",
    "# for key in x:\n",
    "#     length_key = len(x[key])\n",
    "#     print (length_key)"
   ]
  },
  {
   "cell_type": "code",
   "execution_count": 13,
   "metadata": {
    "deletable": false,
    "editable": false
   },
   "outputs": [
    {
     "data": {
      "text/html": [
       "<p><strong><pre style='display: inline;'>q4</pre></strong> passed! 🚀</p><p><strong><pre style='display: inline;'>q4 - 1</pre> message:</strong> Das sieht gut aus.</p>"
      ],
      "text/plain": [
       "q4 results: All test cases passed!\n",
       "q4 - 1 message: Das sieht gut aus."
      ]
     },
     "execution_count": 13,
     "metadata": {},
     "output_type": "execute_result"
    }
   ],
   "source": [
    "grader.check(\"q4\")"
   ]
  },
  {
   "cell_type": "markdown",
   "metadata": {
    "deletable": false,
    "editable": false
   },
   "source": [
    "***Aufgabe 5 (Spaltennamen).*** \n",
    "\n",
    "Schreiben Sie eine Funktion ``get_names(data)``, welche eine Liste mit allen Spaltennamen unserer Datenstruktur ``data`` zurückliefert.\n",
    "\n",
    "Beispielsweise sollte:\n",
    "\n",
    "```python\n",
    "get_names({'x': [1,2], 'name': ['Anna', 'Klaus']})\n",
    "```\n",
    "\n",
    "``['x', 'name']`` oder ``['name', 'x']`` ausgeben."
   ]
  },
  {
   "cell_type": "code",
   "execution_count": 14,
   "metadata": {
    "tags": []
   },
   "outputs": [],
   "source": [
    "def get_names(data):\n",
    "    '''\n",
    "    returns all keys given in data\n",
    "    '''\n",
    "\n",
    "    try:\n",
    "        if data != {}:\n",
    "            return([key for key in data])\n",
    "        return []\n",
    "    \n",
    "    except:\n",
    "        return []\n",
    "\n",
    "###Check\n",
    "# get_names(read(['y', 'price'], path_to_csv_file))"
   ]
  },
  {
   "cell_type": "code",
   "execution_count": 15,
   "metadata": {
    "deletable": false,
    "editable": false
   },
   "outputs": [
    {
     "data": {
      "text/html": [
       "<p><strong><pre style='display: inline;'>q5</pre></strong> passed! 🍀</p><p><strong><pre style='display: inline;'>q5 - 1</pre> message:</strong> Das sieht gut aus.</p>"
      ],
      "text/plain": [
       "q5 results: All test cases passed!\n",
       "q5 - 1 message: Das sieht gut aus."
      ]
     },
     "execution_count": 15,
     "metadata": {},
     "output_type": "execute_result"
    }
   ],
   "source": [
    "grader.check(\"q5\")"
   ]
  },
  {
   "cell_type": "markdown",
   "metadata": {
    "deletable": false,
    "editable": false
   },
   "source": [
    "***Aufgabe 6 (Zeilen auswählen).*** \n",
    "\n",
    "Schreiben Sie eine Funktion ``get_row(data, i)``, welche ein Dictionary zurückliefert, wobei die ``keys`` die Spaltennamen unserer Datenstruktur ``data`` sind und die ``values`` der ``i``-te Wert der dazugehörenden Spalte ist.\n",
    "\n",
    "Beispielsweise sollte\n",
    "\n",
    "```python\n",
    "my_data = {'x': [1,2,3], \n",
    "           'name': ['Anna', 'Klaus','Nina']\n",
    "           }\n",
    "get_row(my_data, 1)\n",
    "```\n",
    "\n",
    "``{'x': 2, 'name': 'Klaus'}`` ausgeben.\n",
    "\n",
    "Ist ``i`` außerhalb des gültigen Wertebereichs (für das gegebene Beispiel wäre das für `i > 2` der Fall), soll die Funktion ein leeres Dictionary zurückliefern. "
   ]
  },
  {
   "cell_type": "code",
   "execution_count": 15,
   "metadata": {
    "tags": []
   },
   "outputs": [
    {
     "data": {
      "text/plain": [
       "{'x': 3, 'name': 'Nina'}"
      ]
     },
     "execution_count": 15,
     "metadata": {},
     "output_type": "execute_result"
    }
   ],
   "source": [
    "def get_row(data, _n):\n",
    "    '''\n",
    "    gets _n. rows for each given key in list\n",
    "    '''\n",
    "\n",
    "    result = {}\n",
    "\n",
    "    if (data != {}) and ((_n + 1) <= len_data(data)):\n",
    "        return { key: values[_n] for key, values in data.items() }  \n",
    "    return {}\n",
    "\n",
    "###Check\n",
    "#get_row({'x': [1,2,3], 'name': ['Anna', 'Klaus','Nina']}, 2)"
   ]
  },
  {
   "cell_type": "code",
   "execution_count": 17,
   "metadata": {
    "deletable": false,
    "editable": false
   },
   "outputs": [
    {
     "data": {
      "text/html": [
       "<p><strong><pre style='display: inline;'>q6</pre></strong> passed! 🌟</p><p><strong><pre style='display: inline;'>q6 - 1</pre> message:</strong> Das sieht gut aus.</p>"
      ],
      "text/plain": [
       "q6 results: All test cases passed!\n",
       "q6 - 1 message: Das sieht gut aus."
      ]
     },
     "execution_count": 17,
     "metadata": {},
     "output_type": "execute_result"
    }
   ],
   "source": [
    "grader.check(\"q6\")"
   ]
  },
  {
   "cell_type": "markdown",
   "metadata": {
    "deletable": false,
    "editable": false
   },
   "source": [
    "<!-- BEGIN QUESTION -->\n",
    "\n",
    "***\n",
    "***Aufgabe 7 (Zeilen filtern).***\n",
    "\n",
    "Beschreiben Sie welche Auswirkungen folgende Funktion `filter_data()` hat."
   ]
  },
  {
   "cell_type": "code",
   "execution_count": 16,
   "metadata": {
    "deletable": false,
    "editable": false
   },
   "outputs": [],
   "source": [
    "def keep_all(_):\n",
    "    return True                                 #Gibt immer True zurück -> alle Werte werden in Fkt wieder eingefügt\n",
    "\n",
    "def price_is_less_than_nine(_):\n",
    "    return True if _['price'] < 9 else False    #Überprüft ob der Preis kleiner als 9 ist\n",
    "\n",
    "def filter_data(data, predicate = keep_all):\n",
    "    copy = {name: [] for name in get_names(data)} #Neues Dict mit gleichen keys wie data wird erzeugt, values sind leere Listen\n",
    "    for i in range(len_data(data)):             #iteriert so oft, wie es elemente in der Liste, welche in data als value einem key zugewiesen ist, gibt\n",
    "        row = get_row(data, i)                  #holt sich für die aktuell i-te Reihe die elemente aus den listen aller keys\n",
    "        if predicate(row):                      #überprüft, ob das element der aktuellen Reihe unter dem key 'price' kleiner als 9 ist \n",
    "            for name in row:                    #wenn es kleiner istfügt er alle elemente in\n",
    "                copy[name].append(row[name])    #die korrespondierenden listen in der value zu dem key in der aktuellen Zeile ein\n",
    "    return copy                                 #gibt das überarbeitete dict zurück\n",
    "\n",
    "\n",
    "###Check\n",
    "# data = {'price': [5, 32, 7, 11], 'name': ['Tasse', 'Stuhl', 'Block', 'Koffer']}\n",
    "# print(filter_data(data, price_is_less_than_nine))\n",
    "\n",
    "# filter_data(data, price_is_less_than_nine)\n",
    "\n",
    "#print(data)"
   ]
  },
  {
   "cell_type": "markdown",
   "metadata": {},
   "source": [
    "Abhängig vom gegebenen parser gibt die Fkt entweder das ursprüngliche dictionary data aus, oder aber eine bearbeitete Variante davon - siehe Kommentare in Funktion"
   ]
  },
  {
   "cell_type": "markdown",
   "metadata": {
    "deletable": false,
    "editable": false
   },
   "source": [
    "<!-- END QUESTION -->\n",
    "\n",
    "***Aufgabe 8 (Spalten aggregieren).*** \n",
    "\n",
    "Um Daten zu analysieren wollen wir verschiedene Operationen über Spalten durchführen, welche ausschließlich numerische Werte enthalten.\n",
    "Jede dieser Operationen liefert genau einen numerischen Wert zurück.\n",
    "\n",
    "Schreiben Sie folgende Funktionen:\n",
    "\n",
    "+ ``sum_col(data, col_name)``: gibt die Summe aller Spalteneinträge mit dem Namen ``name`` zurück\n",
    "+ ``avg_col(data, col_name)``: gibt den Durchschnittswert der Spalteneinträge mit dem Namen ``name`` zurück\n",
    "+ ``max_col(data, col_name)``:  gibt den größten Wert der Spalteneinträge mit dem Namen ``name`` zurück\n",
    "+ ``min_col(data, col_name)``:  gibt den kleinsten Wert der Spalteneinträge mit dem Namen ``name`` zurück\n",
    "\n",
    "**Empfehlung:** Verzichten Sie bei Ihrer Implementierung auf die Verwendung der ``Python``-Built-in Funktionen ``sum``, ``max``, ``min``. Dadurch lernen Sie bei der Umsetzung der Aufgabe deutlich mehr."
   ]
  },
  {
   "cell_type": "code",
   "execution_count": 17,
   "metadata": {
    "tags": []
   },
   "outputs": [],
   "source": [
    "def sum_col(data, key):\n",
    "    '''\n",
    "    returns sum of all values of column asserted to key in data\n",
    "    '''\n",
    "    \n",
    "    value = 0\n",
    "    \n",
    "    try:\n",
    "        for i in data[key]:\n",
    "            value += float(i)\n",
    "        return(float(value))\n",
    "    except:\n",
    "        print('Value error in function sum_col')\n",
    "        return(None)\n",
    "    \n",
    "\n",
    "def avg_col(data, key):\n",
    "    '''\n",
    "    returns average value of column asserted to key in data\n",
    "    '''\n",
    "    \n",
    "    try:\n",
    "        return( (sum_col(data, key)) / (len_data(data)) )\n",
    "    except:\n",
    "        print('Value error in function avg_col')\n",
    "        return(None)\n",
    "\n",
    "\n",
    "def max_col(data, key):\n",
    "    '''\n",
    "    returns max value of column asserted to key in data\n",
    "    '''\n",
    "    \n",
    "    value = 0.0\n",
    "\n",
    "    try:\n",
    "        for i in data[key]:\n",
    "            value = float(i) if float(i) > float(value) else float(value)\n",
    "        return( float(value) )\n",
    "    except:\n",
    "        print(f'Value error in function max_col at value = {value} and i = {i}')\n",
    "        return(value)\n",
    "\n",
    "\n",
    "def min_col(data, key):\n",
    "    '''\n",
    "    returns min value of column asserted to key in data\n",
    "    '''\n",
    "    \n",
    "    try:\n",
    "        value = data[key][0]\n",
    "        for i in data[key]:\n",
    "            value = float(i) if float(i) <= float(value) else float(value)\n",
    "        return(value)\n",
    "    except:\n",
    "        print(f'Value error in function min_col at value = {value} and i = {i}')\n",
    "        return(None)\n",
    "\n",
    "###Check\n",
    "# data = {'price': [19, 5, 32, 7, 2, 11], 'name': ['Tasse', 'Stuhl', 'Block', 'Koffer']}\n",
    "# print(sum_col(data, 'price'))\n",
    "# print(avg_col(data, 'price'))\n",
    "# print(max_col(data, 'price'))\n",
    "# print(min_col(data, 'price'))"
   ]
  },
  {
   "cell_type": "code",
   "execution_count": 20,
   "metadata": {
    "deletable": false,
    "editable": false
   },
   "outputs": [
    {
     "data": {
      "text/html": [
       "<p><strong><pre style='display: inline;'>q8</pre></strong> passed! 🎉</p><p><strong><pre style='display: inline;'>q8 - 1</pre> message:</strong> Das sieht gut aus.</p><p><strong><pre style='display: inline;'>q8 - 2</pre> message:</strong> Das sieht gut aus.</p><p><strong><pre style='display: inline;'>q8 - 3</pre> message:</strong> Das sieht gut aus.</p><p><strong><pre style='display: inline;'>q8 - 4</pre> message:</strong> Das sieht gut aus.</p>"
      ],
      "text/plain": [
       "q8 results: All test cases passed!\n",
       "q8 - 1 message: Das sieht gut aus.\n",
       "q8 - 2 message: Das sieht gut aus.\n",
       "q8 - 3 message: Das sieht gut aus.\n",
       "q8 - 4 message: Das sieht gut aus."
      ]
     },
     "execution_count": 20,
     "metadata": {},
     "output_type": "execute_result"
    }
   ],
   "source": [
    "grader.check(\"q8\")"
   ]
  },
  {
   "cell_type": "markdown",
   "metadata": {
    "deletable": false,
    "editable": false
   },
   "source": [
    "***Aufgabe 9 (Datenverarbeitung)***.\n",
    "\n",
    "Nun wollen wir die geschriebenen Funktionen nutzen, um einen einfachen Datensatz zu verarbeiten. Gegeben ist ein von ChatGPT erzeugter Datensatz `./data/exam_results.csv`. Dieser beinhaltet Name, ID und erreichte Punkte von Studierenden in einer Prüfung. \n",
    "\n",
    "Werten Sie die Daten mit Hilfe der geschriebenen Funktionen wie folgt aus:\n",
    "\n",
    "1. Bestimmen Sie die durchschnittlich erreichte Punktezahl und geben diese aus.\n",
    "1. Bestimmen Sie die minimal erreichte Punktezahl und geben diese aus.\n",
    "1. Bestimmen Sie die maximal erreichte Punktezahl und geben diese aus.\n",
    "1. Berechnen Sie für alle Student:innen die Note. Schreiben Sie hierfür eine Funktion `points_to_grade(points)`, welche folgendes Bewertungsschema umsetzt und für eine (!) übergebene Punktezahl die zugehörige Note zurückliefert:\n",
    "\n",
    "    | von einschließlich | bis einschließlich | Note |\n",
    "    |--------------------|--------------------|------|\n",
    "    | 0                  | 49                 | 5.0  |\n",
    "    | 50                 | 62                 | 4.0  |\n",
    "    | 63                 | 75                 | 3.0  |\n",
    "    | 76                 | 89                 | 2.0  |\n",
    "    | 90                 | 100                | 1.0  |\n",
    "\n",
    "\n",
    "\n",
    "1. Ermitteln Sie die Durchschnittsnote der Prüfung.\n",
    "1. Ermitteln Sie die Häufigkeit jeder einzelnen Noten, d.h. wie oft gab es eine 1.0, wie oft eine 2.0, usw.\n",
    "\n",
    "Das Ergebnis Ihrer Auswertesoftware könnte z.B. wie folgt aussehen:\n",
    "\n",
    "```\n",
    "Die durchschnittlich erreichte Punktezahl beträgt: 81.05\n",
    "Die minimal erreichte Punktezahl beträgt: 59\n",
    "Die maximal erreichte Punktezahl beträgt: 100\n",
    "\n",
    "Die durchschnittlich erreichte Note beträgt: 2.10\n",
    "\n",
    "Häufigkeiten der einzelnen Noten:\n",
    "1.0: 21\n",
    "2.0: 30\n",
    "3.0: 23\n",
    "4.0: 3\n",
    "5.0: 0\n",
    "```"
   ]
  },
  {
   "cell_type": "code",
   "execution_count": 18,
   "metadata": {
    "tags": []
   },
   "outputs": [],
   "source": [
    "def evalsoftware(datapath, eval_key, dataformat = None):\n",
    "    '''\n",
    "    evaluates given csv data (column beneath the given eval_key) from datapath \n",
    "    '''\n",
    "\n",
    "    ##variables\n",
    "    #points\n",
    "    avg_p = 0.0\n",
    "    min_p = 0.0\n",
    "    max_p = 0.0\n",
    "    \n",
    "    #grades\n",
    "    sum_g = 0.0\n",
    "    num_g = 0.0\n",
    "    avg_g = 0.0\n",
    "    fre_g = [0, 0, 0, 0, 0]  #grades:[1, 2, 3, 4, 5]\n",
    "\n",
    "    #data\n",
    "    dat = structure_csv(datapath)\n",
    "\n",
    "    ##computation\n",
    "    try: \n",
    "        #average points\n",
    "        avg_p = round((avg_col(dat, eval_key)), 2)\n",
    "\n",
    "        #minimum points\n",
    "        min_p = round((min_col(dat, eval_key)), 2)\n",
    "\n",
    "        #maximum points\n",
    "        max_p = round((max_col(dat, eval_key)), 2)\n",
    "        \n",
    "        #absolute frequency of grades\n",
    "        for i in dat[eval_key]:            \n",
    "            i = int(i)\n",
    "            _ = 4 - (i>49) - (i>62) - (i>75) - (i>89)\n",
    "            fre_g[_] += 1 if (0<=_<=4) else print(f'Error: Value missing or out of range at i = {i} in evalsoftware at #absolute frequency')\n",
    "        \n",
    "        #num of grades\n",
    "        num_g = sum(fre_g)\n",
    "\n",
    "        #sum of grades\n",
    "        for n in range(0,(len(fre_g))):\n",
    "            sum_g += ( (n + 1) * fre_g[n])\n",
    "    \n",
    "        #average grade\n",
    "        avg_g = round((sum_g / num_g), 2)\n",
    "        \n",
    "\n",
    "        ##printout\n",
    "        print(f'Die durchschnittlich erreichte Punktezahl beträgt: ', avg_p, '\\n'\n",
    "                'Die minimal erreichte Punktezahl beträgt: ', min_p, '\\n'\n",
    "                'Die maximal erreichte Punktezahl beträgt: ', max_p, '\\n\\n'\n",
    "                'Die durchschnittlich erreichte Note ist: ', avg_g, '\\n\\n'\n",
    "                'Häufigkeit der einzelnen Noten: \\n'\n",
    "                '1.0:', fre_g[0], '\\n'\n",
    "                '2.0:', fre_g[1], '\\n'\n",
    "                '3.0:', fre_g[2], '\\n'\n",
    "                '4.0:', fre_g[3], '\\n'\n",
    "                '5.0:', fre_g[4], '\\n')\n",
    "        \n",
    "        ###return #disabled because no need\n",
    "        ##return('your desired dataformat')\n",
    "    except:\n",
    "        print('Error: Values given not evaluable in evalsoftware at ##computation')\n",
    "\n",
    "###Check\n",
    "# testpath = './data/exam_results.csv'\n",
    "# evalsoftware(testpath, 'Points')"
   ]
  },
  {
   "cell_type": "markdown",
   "metadata": {},
   "source": [
    "## Bonusaufgabe\n",
    "\n",
    "Die Bearbeitung folgender Aufgabe ist freiwillig gedacht. Für eine erfolgreiche Abgabe ist die Lösung dieser Aufgabe nicht notwendig."
   ]
  },
  {
   "cell_type": "markdown",
   "metadata": {},
   "source": [
    "### Einschub - Lambdas\n",
    "\n",
    "In den bisherigen Aufgaben haben wir Funktionen als Parameter übergeben. Hierfür haben wir zunächst eine eigene Funktion definiert und dann den Namen der Funktion als Parameter z.B. an `read_column` übergeben. \n",
    "\n",
    "Eine deutlich kürzere Schreibweise, um Funktionen als Parameter zu übergeben sind sog. Lambdas. Lambdas sind kleine anonyme Funktionen, d.h. Sie haben keinen Funktionsnamen. Die Syntax lautet dabei wie folgt: \n",
    "\n",
    "```python\n",
    "lambda arguments: expression\n",
    "```\n",
    "\n",
    "Hier ein einfaches Beispiel, wie Lambdas verwendet werden können:"
   ]
  },
  {
   "cell_type": "code",
   "execution_count": 22,
   "metadata": {},
   "outputs": [],
   "source": [
    "# def add(x, y):\n",
    "#     return x + y\n",
    "\n",
    "# def do_math(function, x, y):\n",
    "#     return function(x, y)\n",
    "\n",
    "# # Mit Hilfe der Funktion\n",
    "# result_function = add(2, 3)\n",
    "\n",
    "# # Mit Hilfe einer Lambda-Funktion\n",
    "# result_lambda = do_math(lambda x, y: x + y, 2, 3)\n",
    "\n",
    "###Check\n",
    "# print(result_function)\n",
    "# print(result_lambda)"
   ]
  },
  {
   "cell_type": "markdown",
   "metadata": {
    "deletable": false,
    "editable": false
   },
   "source": [
    "***Aufgabe 10 (Datenvisualisierung).*** \n",
    "\n",
    "Mithilfe unserer bisher implementierten Funktionen sind wir in der Lage erste Analysen eines Datensatzes durchzuführen. \n",
    "\n",
    "Der Datensatz ``./data/GlobalTemperature.csv`` enthält Informationen über die globale Temperaturentwicklung von 1750 bis 2015.\n",
    "Öffnen Sie den Datensatz (z.B. mit Excel oder einem Texteditor) und sehen Sie sich dessen Struktur an.\n",
    "Wir möchten daraus einen Graphen/Plot erzeugen , der uns die mittlere (Land)-Temperatur pro Jahr darstellt.\n",
    "D.h. auf der $x$-Achse sollen die Jahre angetragen werden und auf der $y$-Achse die mittlere Temperatur in jenem Jahr.\n",
    "Diese Informationen stehen in der Spalte ``LandAverageTemperature`` (Temperaturwerte allerdings pro Monat) und ``dt`` (allerdings Datum mit Tag, Monat und Jahr).\n",
    "\n",
    "Wir wollen diese Informationen in unserer Datenstruktur (Dictionary aus Listen) abspeichern, sodass wir diese weiter verarbeiten können.\n",
    "Schreiben Sie hierfür eine Funktion ``compute_global_mean_temperature(data)`` die Ihnen folgendes Dictionary zurückliefert:\n",
    "\n",
    "```python\n",
    "data_temperature = {'Year': [1750, 1751, ..., 2015], 'Mean Temperature': [...]}\n",
    "```\n",
    "\n",
    "dabei beinhalte ist ``data_temperature['Mean Temperature']`` eine Liste aus ``float`` und beinhaltet die mittleren Jahrestemperaturen.\n",
    "``data_temperature['Year']`` ist hingegen eine Liste aus ``int`` und beinhaltet die dazu passenden Jahre.\n",
    "\n",
    "Sie können davon ausgehen, dass der Datensatz für jedes Jahr mindestens einen Wert enthält.\n",
    "\n",
    "Der darauffolgende Code, welcher einen Plot erzeugt, sollte, nachdem Sie die Funktione implementiert haben, funktionieren.\n",
    "\n",
    "**Hinweise:** Es gibt Monate in denen kein Wert eingetragen ist, diese filtern wir bereits im folgenden Code. \n",
    "Außerdem wandeln wir bereits das Datum in der Form ``'1781-10-01'`` in eine ganze Zahl ``1781`` um. Dies müssen Sie nicht mehr machen.\n",
    "Ganz am Ende des Notebooks plotten wir den Graphen mit ``Pandas``.\n",
    "Hier sehen Sie wie der Plot aussehen sollte."
   ]
  },
  {
   "cell_type": "code",
   "execution_count": 23,
   "metadata": {
    "tags": []
   },
   "outputs": [],
   "source": [
    "data1 = read(['dt', 'LandAverageTemperature'], './data/GlobalTemperatures.csv', \n",
    "            (lambda date: date.split('-')[0] if '-' in date else (float(date) if date != '' else 'NaN')))\n",
    "\n",
    "data = filter_data(data1, lambda row: type(row['LandAverageTemperature']) == float)\n",
    "\n",
    "###Original (funktioniert bei mir leider aus diversen Gründen nicht)\n",
    "# data = read(['dt', 'LandAverageTemperature'], './data/GlobalTemperatures.csv', [\n",
    "#     lambda date: int(date.split('-')[0]),\n",
    "#     lambda temperature: float(temperature) if temperature != '' else 'NaN'])\n",
    "\n",
    "###Check\n",
    "# print(data1)\n",
    "# print(data1['dt'])\n",
    "# print(data1['LandAverageTemperature'])\n",
    "# print(data)\n",
    "# print(data['dt'])\n",
    "# print(data['LandAverageTemperature'])"
   ]
  },
  {
   "cell_type": "code",
   "execution_count": 24,
   "metadata": {
    "tags": []
   },
   "outputs": [],
   "source": [
    "def compute_global_mean_temperature(a_dict):\n",
    "    '''\n",
    "    computes yearly global mean temp and returns it in certain structure within a dict with lists as values\n",
    "    returns {'Year': [years], 'Mean Temperature': [temperature_per_year]}\n",
    "    '''\n",
    "\n",
    "    _n = 0\n",
    "\n",
    "    for i in range((len(a_dict['dt'])-1), -1, -1):\n",
    "        if int(a_dict['dt'][i]) == int(a_dict['dt'][(i-1)]):\n",
    "            a_dict['LandAverageTemperature'][(i-1)] += a_dict['LandAverageTemperature'][i]\n",
    "            del a_dict['LandAverageTemperature'][i]\n",
    "            del a_dict['dt'][i]\n",
    "            _n += 1\n",
    "        else:\n",
    "            a_dict['LandAverageTemperature'][i] = ((a_dict['LandAverageTemperature'][i]) / (_n+1))\n",
    "            a_dict['dt'][i] = int(a_dict['dt'][i])\n",
    "            _n = 0\n",
    "\n",
    "    return({'Year': a_dict['dt'], 'Mean Temperature': a_dict['LandAverageTemperature'] })\n",
    "\n",
    "\n",
    "# ##Check\n",
    "# newest=compute_global_mean_temperature(data)\n",
    "\n",
    "# print(len(newest['Mean Temperature']))\n",
    "\n",
    "# print(newest['Year'][0])\n",
    "# print(newest['Mean Temperature'][0])\n",
    "\n",
    "# print(newest['Year'][150])\n",
    "# print(newest['Mean Temperature'][150])\n",
    "\n",
    "# print(newest['Year'][265])\n",
    "# print(newest['Mean Temperature'][265])\n",
    "\n",
    "# print(newest)\n",
    "# print(newest['Year'])\n",
    "# print(newest['Mean Temperature'])"
   ]
  },
  {
   "cell_type": "code",
   "execution_count": 25,
   "metadata": {
    "tags": []
   },
   "outputs": [
    {
     "data": {
      "text/plain": [
       "Text(0, 0.5, 'Temperatur')"
      ]
     },
     "execution_count": 25,
     "metadata": {},
     "output_type": "execute_result"
    },
    {
     "data": {
      "image/png": "[encoded data removed]",
      "text/plain": [
       "<Figure size 640x480 with 1 Axes>"
      ]
     },
     "metadata": {},
     "output_type": "display_data"
    }
   ],
   "source": [
    "import matplotlib.pyplot as plt\n",
    "import numpy as np\n",
    "\n",
    "data_temperature = compute_global_mean_temperature(data)\n",
    "\n",
    "first_year = int(min_col(data_temperature, 'Year')) ###Bei mir Fehler ohne int() ... Wieso ist python hier so hartnäckig trotz der übergebenen integers\n",
    "mean_first = 1951-first_year\n",
    "mean_last = 1980-first_year\n",
    "corresponding = data_temperature['Mean Temperature'][mean_first:(mean_last+1)]\n",
    "corresponding_mean = sum(corresponding) / len(corresponding)\n",
    "\n",
    "\n",
    "plt.plot(data_temperature['Year'], np.array(data_temperature['Mean Temperature'])-corresponding_mean)\n",
    "\n",
    "plt.title(f'Globale mittlere Temperaturabweichung im Vergleich zum Mittel zwischen den Jahren 1951 und 1980')\n",
    "plt.xlabel('Jahr')\n",
    "plt.ylabel('Temperatur')"
   ]
  },
  {
   "cell_type": "code",
   "execution_count": 26,
   "metadata": {
    "deletable": false,
    "editable": false
   },
   "outputs": [
    {
     "data": {
      "text/html": [
       "<p><strong><pre style='display: inline;'>q10</pre></strong> passed! 🌈</p><p><strong><pre style='display: inline;'>q10 - 1</pre> message:</strong> Das sieht gut aus.</p>"
      ],
      "text/plain": [
       "q10 results: All test cases passed!\n",
       "q10 - 1 message: Das sieht gut aus."
      ]
     },
     "execution_count": 26,
     "metadata": {},
     "output_type": "execute_result"
    }
   ],
   "source": [
    "grader.check(\"q10\")"
   ]
  },
  {
   "cell_type": "markdown",
   "metadata": {},
   "source": [
    "***\n",
    "\n",
    "Im folgenden sehen Sie eine Möglichkeit wie wir die gleiche Darstellung mit ``Pandas`` erzeugen können.\n",
    "\n",
    "Leider nur ein TypeError :/        \n",
    "Problem bei Transformation - übernimmt Werte unter 'Year' immer als str anstatt als int wie von lambda date: geliefert"
   ]
  },
  {
   "cell_type": "code",
   "execution_count": 27,
   "metadata": {},
   "outputs": [],
   "source": [
    "# import pandas as pd\n",
    "\n",
    "# df = pd.read_csv('./data/GlobalTemperatures.csv')                                        # read data\n",
    "# df = df.dropna(subset=['LandAverageTemperature'])                                        # remove rows where there is no data for the temperature\n",
    "# df['Year'] = df['dt'].transform(lambda date: int(date.split('-')[0]))                    # add column for the year\n",
    "\n",
    "# mean = df[(df['Year'] >= 1951) & (df['Year'] <= 1980)]['LandAverageTemperature'].mean()  # compute the mean between 1750 and 1951\n",
    "\n",
    "# df = df.groupby(['Year']).mean()                                                         # compute the yearly mean\n",
    "\n",
    "# df['Temperaturabweichung'] = df['LandAverageTemperature'].transform(lambda x: x - mean)  # subtract the mean between 1750 and 1951\n",
    "\n",
    "# # plot it\n",
    "# df['Temperaturabweichung'].plot(ylabel='Temperatur', xlabel='Jahr', title= 'Globale mittlere Temperaturabweichung im Vergleich zum Mittel zwischen 1951 und 1980')"
   ]
  },
  {
   "cell_type": "code",
   "execution_count": 28,
   "metadata": {},
   "outputs": [
    {
     "data": {
      "text/plain": [
       "<Axes: title={'center': 'Globale mittlere Temperaturabweichung im Vergleich zum Mittel zwischen 1951 und 1980'}, xlabel='Jahr', ylabel='Temperatur'>"
      ]
     },
     "execution_count": 28,
     "metadata": {},
     "output_type": "execute_result"
    },
    {
     "data": {
      "image/png": "[encoded data removed]",
      "text/plain": [
       "<Figure size 640x480 with 1 Axes>"
      ]
     },
     "metadata": {},
     "output_type": "display_data"
    }
   ],
   "source": [
    "###So macht der Code bei mir (zumindest soweit ich das verstanden habe) das, was er soll:\n",
    "\n",
    "import pandas as pd\n",
    "\n",
    "df = pd.read_csv('./data/GlobalTemperatures.csv')\n",
    "df = df.dropna(subset=['LandAverageTemperature'])\n",
    "df['Year'] = df['dt'].transform(lambda date: int(date.split('-')[0]))  \n",
    "\n",
    "mean = df[(df['Year'] >= 1951) & (df['Year'] <= 1980)]['LandAverageTemperature'].mean()\n",
    "\n",
    "df = df.groupby(['Year'])['LandAverageTemperature'].mean().reset_index()\n",
    "\n",
    "df['Temperaturabweichung'] = df['LandAverageTemperature'] - mean\n",
    "\n",
    "df.plot(x='Year', y='Temperaturabweichung', ylabel='Temperatur', xlabel='Jahr', title='Globale mittlere Temperaturabweichung im Vergleich zum Mittel zwischen 1951 und 1980')"
   ]
  },
  {
   "cell_type": "markdown",
   "metadata": {
    "deletable": false,
    "editable": false
   },
   "source": [
    "## Abgabe **Please save before exporting!**\n",
    "\n",
    "Dieses Notebook ist eine **Abgabe**! Zur erfolgreichen Abgabe wird erwartet, dass Sie die Aufgabe in Moodle hochgeladen und mit Ihrem Praktikumsleiter durchgesprochen haben. Zum Hochladen in Moodle führen Sie alles von oben nach unten aus, speichern Sie Ihr Notebook und laden Sie die generierte .zip-Datei in Moodle hoch."
   ]
  },
  {
   "cell_type": "code",
   "execution_count": 29,
   "metadata": {
    "deletable": false,
    "editable": false
   },
   "outputs": [],
   "source": [
    "# # Save your notebook first, then run this cell to export your submission.\n",
    "# grader.export(pdf=False)"
   ]
  }
 ],
 "metadata": {
  "kernelspec": {
   "display_name": "Python 3 (ipykernel)",
   "language": "python",
   "name": "python3"
  },
  "language_info": {
   "codemirror_mode": {
    "name": "ipython",
    "version": 3
   },
   "file_extension": ".py",
   "mimetype": "text/x-python",
   "name": "python",
   "nbconvert_exporter": "python",
   "pygments_lexer": "ipython3",
   "version": "3.11.6"
  },
  "otter": {
   "OK_FORMAT": false,
   "assignment_name": "09_abgabe2",
   "tests": {
    "q1": "from otter.test_files import test_case\n\nOK_FORMAT = False\n\nname = \"q1\"\npoints = 5\n\n@test_case(points=None, hidden=False, \n    success_message=\"Das sieht gut aus.\", \n    failure_message=\"Schlägt für die test-data.csv Datei\")\ndef test_read_column_simple(env):\n    path = './data/test-data.csv'\n    assert env['read_column']('x', path) == ['1.0', '2.3']\n    assert env['read_column']('name', path) == ['Toster', 'Auto']\n    assert env['read_column']('blablub', path) == []\n    \n",
    "q10": "from otter.test_files import test_case\n\nOK_FORMAT = False\n\nname = \"q10\"\npoints = 5\n\n@test_case(points=None, hidden=False, \n    success_message=\"Das sieht gut aus.\", \n    failure_message=\"Da ist was schief gegangen.\")\ndef test_compute_global_mean_temperature_simple(env):\n    test_data = {'dt': [1900, 1900, 1901, 1901], 'LandAverageTemperature': [3.0, 7.0, 5.0, 15.0]}\n    assert env['compute_global_mean_temperature'](test_data) == {'Year': [1900, 1901], 'Mean Temperature': [5.0, 10.0]}\n    \n",
    "q2": "from otter.test_files import test_case\n\nOK_FORMAT = False\n\nname = \"q2\"\npoints = 5\n\n",
    "q3": "from otter.test_files import test_case\n\nOK_FORMAT = False\n\nname = \"q3\"\npoints = 5\n\n@test_case(points=None, hidden=False, \n    success_message=\"Das sieht gut aus.\", \n    failure_message=\"Schlägt für die test-data.csv Datei\")\ndef test_read_simple(env):\n    path = './data/test-data.csv'\n    assert env['read'](['x', 'name'], path) == {'x': ['1.0', '2.3'], 'name': ['Toster', 'Auto']}\n    \n",
    "q4": "from otter.test_files import test_case\n\nOK_FORMAT = False\n\nname = \"q4\"\npoints = 1\n\n@test_case(points=1, hidden=False, \n    success_message=\"Das sieht gut aus.\", \n    failure_message=\"Da ist was schief gegangen.\")\ndef test_len_data_simple(env):\n    assert env['len_data']({'x': [1,2], 'test': ['abc', 'def']}) == 2\n    assert env['len_data']({}) == 0, 'Leeres dict sollte 0 zurückliefern'\n    \n",
    "q5": "from otter.test_files import test_case\n\nOK_FORMAT = False\n\nname = \"q5\"\npoints = 1\n\n@test_case(points=1, hidden=False, \n    success_message=\"Das sieht gut aus.\", \n    failure_message=\"Da ist was schief gegangen.\")\ndef test_get_names(env):\n    assert 'test' in env['get_names']({'x': [1,2], 'test': ['abc', 'def']}) \n    assert 'x' in env['get_names']({'x': [1,2], 'test': ['abc', 'def']})\n    assert 'avg temp' in env['get_names']({'x': [1,2], 'avg temp': [1.2, 3.2], 'test': ['abc', 'def']}) \n    assert len(env['get_names']({})) == 0\n    \n",
    "q6": "from otter.test_files import test_case\n\nOK_FORMAT = False\n\nname = \"q6\"\npoints = 2\n\n@test_case(points=2, hidden=False, \n    success_message=\"Das sieht gut aus.\", \n    failure_message=\"Da ist was schief gegangen.\")\ndef test_get_row(env):\n    assert env['get_row']({'x': [1,2], 'test': ['abc', 'def']}, 0) == {'x': 1, 'test': 'abc'}\n    assert env['get_row']({'x': [1,2], 'test': ['abc', 'def']}, 3) == {}, 'Ein zu großer Index sollte ein leeres dict zurückliefern'\n    assert env['get_row']({}, 3) == {}, 'Leeres dict sollte ein leeres dict zurückliefern'\n    \n",
    "q8": "from otter.test_files import test_case\n\nOK_FORMAT = False\n\nname = \"q8\"\npoints = 4\n\n@test_case(points=1, hidden=False, \n    success_message=\"Das sieht gut aus.\", \n    failure_message=\"Da ist was schief gegangen.\")\ndef test_sum_col(env):\n    assert env['sum_col']({'x': [1,2,3], 'test': ['abc', 'def', 'das']}, 'x') == 6\n    \n@test_case(points=1, hidden=False, \n    success_message=\"Das sieht gut aus.\", \n    failure_message=\"Da ist was schief gegangen.\")\ndef test_avg_col(env):\n    assert env['avg_col']({'x': [1,2,3], 'test': ['abc', 'def', 'das']}, 'x') == 2\n    \n@test_case(points=1, hidden=False, \n    success_message=\"Das sieht gut aus.\", \n    failure_message=\"Da ist was schief gegangen.\")\ndef test_max_col(env):\n    assert env['max_col']({'x': [1,-2,3], 'test': ['abc', 'def', 'das']}, 'x') == 3\n    \n@test_case(points=1, hidden=False, \n    success_message=\"Das sieht gut aus.\", \n    failure_message=\"Da ist was schief gegangen.\")\ndef test_min_col(env):\n    assert env['min_col']({'x': [1,-2,3], 'test': ['abc', 'def', 'das']}, 'x') == -2\n    \n"
   }
  },
  "vscode": {
   "interpreter": {
    "hash": "881d337900756e70a76eada1facb65e60ce30b1cc249c92e2adf60a26cf555a8"
   }
  }
 },
 "nbformat": 4,
 "nbformat_minor": 4
}
