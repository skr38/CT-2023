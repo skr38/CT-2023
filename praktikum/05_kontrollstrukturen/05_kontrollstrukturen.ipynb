{
 "cells": [
  {
   "cell_type": "code",
   "execution_count": null,
   "metadata": {
    "deletable": false,
    "editable": false
   },
   "outputs": [],
   "source": [
    "# Initialize Otter\n",
    "import otter\n",
    "grader = otter.Notebook(\"05_kontrollstrukturen.ipynb\")"
   ]
  },
  {
   "cell_type": "markdown",
   "metadata": {},
   "source": [
    "# Computational Thinking WS2023/24\n",
    "\n",
    "## Kontrollstrukturen\n",
    "\n",
    "**Autoren:** \n",
    "+ Prof. Benedikt Dietrich"
   ]
  },
  {
   "cell_type": "markdown",
   "metadata": {},
   "source": [
    "## Ein Essensautomat für die Mensa"
   ]
  },
  {
   "cell_type": "markdown",
   "metadata": {},
   "source": [
    "In der folgenden Aufgabe soll eine Menü-Führung für den Mensa-Essensautomat \"DasKlingtJaLecker\" entwickelt werden. Das Menü soll als einfacher Text ausgegeben werden. Der Nutzer soll mit der Tastatur sein Essen zusammenstellen können.\n",
    "\n",
    "Die einzelnen Menüpunkte sind mit folgendem Text gegeben:\n",
    "\n",
    "```text\n",
    "    Bitte wählen Sie Ihre Vorspeise:\n",
    "    1) Suppe\n",
    "    2) keine Vorspeise\n",
    "\n",
    "    Bitte wählen Sie Ihr Hautspeise: \n",
    "    1) Fleischgericht\n",
    "    2) Fisch\n",
    "    3) Vegetarisch\n",
    "    4) kein Hauptgericht\n",
    "\n",
    "    Bitte wählen Sie Ihre Nachspeise:\n",
    "    1) Kekse\n",
    "    2) Pudding\n",
    "    3) keine Nachspeise\n",
    "```\n",
    "\n",
    "Am Ende soll eine Zusammenfassung der Bestellung in folgender Form ausgegeben werden:\n",
    "\n",
    "```text\n",
    "    Sie haben gewählt:\n",
    "\n",
    "    Vorspeise: keine Vorspeise\n",
    "    Hauptgericht: Fisch\n",
    "    Nachspeise: Kekse\n",
    "```\n",
    "\n",
    "Sollte ein Nutzer sowohl Vor-, Haupt- und Nachspeise gewählt haben, soll außerdem am Ende die folgende Nachricht ausgegeben werden:\n",
    "\n",
    "```text\n",
    "    Hunger ist der beste Koch!\n",
    "```\n",
    "\n",
    "Wählt ein Nutzer weder Vor-, Haupt- und Nachspeise, soll am am Ende die folgende Nachricht ausgegeben werden:\n",
    "\n",
    "```text\n",
    "    Sie haben wohl keinen Hunger. Vielleicht sehen wir uns später nochmal.\n",
    "```"
   ]
  },
  {
   "cell_type": "markdown",
   "metadata": {},
   "source": [
    "Mit Hilfe der Built-In Funktion `int()` können Sie den den String in eine Zahl umwandeln, mit der Sie auch rechnen können: "
   ]
  },
  {
   "cell_type": "code",
   "execution_count": null,
   "metadata": {},
   "outputs": [],
   "source": [
    "alter_string = input(\"Bitte geben Sie Ihr Alter ein: \")\n",
    "alter_int = int(alter_string)\n",
    "print(f\"Sie sind {alter_int} Jahre jung.\")\n",
    "print(f\"Der Typ von alter ist: {type(alter_int)}\")"
   ]
  },
  {
   "cell_type": "markdown",
   "metadata": {},
   "source": [
    "### Einschub - Divide and Conquer\n",
    "\n",
    "Die oben beschriebenen Anforderungen an unseren Automaten klingen erst einmal komplex. Um eine komplexe Aufgabe in der Informatik zu lösen bedient man sich eines Ansatzes namens *Divide & Conquer*: Man teilt das große, scheinbar komplexe oder gar unlösbare Problem in mehrere kleinere Probleme, die sich für sich lösen lassen (divide). Die Kombination der Einzellösungen ergibt dann idealerweise die Lösung des Gesamtproblems (conquer)."
   ]
  },
  {
   "cell_type": "markdown",
   "metadata": {
    "deletable": false,
    "editable": false
   },
   "source": [
    "### Aufgabe 2\n",
    "\n",
    "Zerlegen Sie obige Anforderungen in mindestens drei Teilprobleme."
   ]
  },
  {
   "cell_type": "markdown",
   "metadata": {},
   "source": [
    "### Aufgabe 3\n",
    "\n",
    "Schreiben Sie ein Programm, welches den Nutzer auffordert 1, 2 oder 3 auszuwählen. Wenn der Nutzer eine falsche Eingabe tätigt (eine falsche Zahl), soll Ihr Programm eine Fehlermeldung ausgeben. Ansonsten soll ausgegeben werden:\n",
    "\n",
    "```text\n",
    "    Sie haben x) gewählt\n",
    "```\n",
    "\n",
    "wobei x natürlich durch den entsprechenden Buchstaben zu ersetzen ist."
   ]
  },
  {
   "cell_type": "code",
   "execution_count": null,
   "metadata": {
    "tags": []
   },
   "outputs": [],
   "source": [
    "..."
   ]
  },
  {
   "cell_type": "markdown",
   "metadata": {
    "deletable": false,
    "editable": false
   },
   "source": [
    "### Aufgabe 4\n",
    "\n",
    "Kopieren Sie den Code von oben in die nächste Zelle und ändern Sie den Code nun so ab, dass der Nutzer so lange aufgefordert wird auszuwählen, bis er eine gültige Zahl eingetippt hat. Gibt der Nutzer etwas anderes ein soll der Text\n",
    "\n",
    "```text\n",
    "    Falsche Eingabe.\n",
    "```\n",
    "\n",
    "ausgegeben werden und der Nutzer erneut aufgefordert werden, auszuwählen."
   ]
  },
  {
   "cell_type": "code",
   "execution_count": null,
   "metadata": {
    "tags": []
   },
   "outputs": [],
   "source": [
    "choice = None\n",
    "\n",
    "..."
   ]
  },
  {
   "cell_type": "markdown",
   "metadata": {
    "deletable": false,
    "editable": false
   },
   "source": [
    "### Aufgabe 5\n",
    "\n",
    "Erstellen Sie nun ein Programm, das den Nutzer jeweils fragt, was er als Vor-, Haupt- und Nachspeise essen will. Sollte der Nutzer für einen der Punkte etwas ungültiges eingeben, soll er, wie in Aufgabe 4 gelöst, erneut aufgefordert werden, einen gültigen Menüpunkt auszuwählen.\n",
    "\n",
    "Verzichten Sie noch auf die Zusammenfassung der Bestellung."
   ]
  },
  {
   "cell_type": "code",
   "execution_count": null,
   "metadata": {
    "tags": []
   },
   "outputs": [],
   "source": [
    "..."
   ]
  },
  {
   "cell_type": "markdown",
   "metadata": {},
   "source": [
    "### Einschub - Listen in der for-Schleife\n",
    "\n",
    "Wir werden Listen noch im Detail behandeln. Hier sollen Sie Listen aber schon einmal \"ausprobieren\". \n",
    "\n",
    "Folgendes Code-Beispiel zeigt, wie man Listen von Strings in Kombination mit `for`-Schleifen effizient verwenden kann:"
   ]
  },
  {
   "cell_type": "code",
   "execution_count": null,
   "metadata": {},
   "outputs": [],
   "source": [
    "vorspeisen = [\"Suppe\", \"keine Vorspeise\"]\n",
    "for index, vorspeise in enumerate(vorspeisen):\n",
    "    print(f\"{index + 1}) {vorspeise}\")"
   ]
  },
  {
   "cell_type": "markdown",
   "metadata": {
    "deletable": false,
    "editable": false
   },
   "source": [
    "### Aufgabe 6\n",
    "\n",
    "Kopieren Sie Ihr Programm von oben in eine Zelle und vereinfachen Sie Ihr Programm mit Hilfe des im \"Einschub - Listen in der for-Schleife\" gegebenen Source Codes. Wenden Sie dies auch für Haupt- und Nachspeise an."
   ]
  },
  {
   "cell_type": "code",
   "execution_count": null,
   "metadata": {
    "tags": []
   },
   "outputs": [],
   "source": [
    "..."
   ]
  },
  {
   "cell_type": "markdown",
   "metadata": {
    "deletable": false,
    "editable": false
   },
   "source": [
    "### Aufgabe 7\n",
    "\n",
    "Erweitern Sie das Programm mit den besonderen Ausgaben:\n",
    "\n",
    "Sollte ein Nutzer sowohl Vor-, Haupt- und Nachspeise gewählt haben, soll außerdem am Ende die folgende Nachricht ausgegeben werden:\n",
    "\n",
    "```text\n",
    "    Hunger ist der beste Koch!\n",
    "```\n",
    "\n",
    "Wählt ein Nutzer weder Vor-, Haupt- und Nachspeise, soll am am Ende die folgende Nachricht ausgegeben werden:\n",
    "\n",
    "```text\n",
    "    Sie haben wohl keinen Hunger. Vielleicht sehen wir uns später nochmal.\n",
    "```"
   ]
  },
  {
   "cell_type": "code",
   "execution_count": null,
   "metadata": {
    "tags": []
   },
   "outputs": [],
   "source": [
    "\n",
    "..."
   ]
  },
  {
   "cell_type": "markdown",
   "metadata": {
    "deletable": false,
    "editable": false
   },
   "source": [
    "### Aufgabe 8\n",
    "\n",
    "Folgender Code liefert ein gesuchtes Element eines bestimmten Index zurück:"
   ]
  },
  {
   "cell_type": "code",
   "execution_count": null,
   "metadata": {
    "deletable": false,
    "editable": false
   },
   "outputs": [],
   "source": [
    "buchstaben = [\"a)\", \"b)\", \"c)\", \"d)\"]\n",
    "\n",
    "index = 2\n",
    "print(index)\n",
    "print(buchstaben[index]) # Wählt das index-te Element der Liste aus (Index beginnt bei 0!)"
   ]
  },
  {
   "cell_type": "markdown",
   "metadata": {
    "deletable": false,
    "editable": false
   },
   "source": [
    "Überlegen Sie sich, wie Sie dies für die Ausgabe der Zusammenfassung der Bestellung nutzen können und erweitern Sie den Source Code in einer neuen Zelle entsprechend."
   ]
  },
  {
   "cell_type": "code",
   "execution_count": null,
   "metadata": {
    "tags": []
   },
   "outputs": [],
   "source": [
    "..."
   ]
  },
  {
   "cell_type": "markdown",
   "metadata": {},
   "source": [
    "### Aufgabe 9\n",
    "\n",
    "Ein Problem kann in Software auf unzählige Arten und Weisen gelöst werden. Die verschiedenen Lösungen unterscheiden sich bezüglich der Qualität der Software. Klassische Software-Qualitätskriterien sind unter anderem\n",
    "\n",
    "* Erweiterbarkeit\n",
    "* Wartbarkeit\n",
    "* Lesbarkeit\n",
    "* Effizienz\n",
    "* Funktionalität\n",
    "* ...\n",
    "\n",
    "Ändern Sie den Mensaspeiseplan indem Sie ein Hauptgericht hinzufügen. Außerdem sind die Kekse aus, d.h. dieser Eintrag soll von Ihrem Programm entfernt werden. An welchen Stellen müssen Sie Änderungen durchführen? Wie beurteilen Sie Ihr Programm bezüglich Erweiterbarkeit? Haben Sie eine Idee, wie Sie die Anzahl an Stellen reduzieren könnten?"
   ]
  },
  {
   "cell_type": "markdown",
   "metadata": {},
   "source": [
    "*Notieren Sie hier Ihre Änderungen und Ihre Idee, wie Sie das Programm hinsichtlich Erweiterbarkeit verbessern könnten.*"
   ]
  },
  {
   "cell_type": "markdown",
   "metadata": {
    "deletable": false,
    "editable": false
   },
   "source": [
    "---\n",
    "\n",
    "**Hinweis**: Durch Auswertung der folgenden Zelle werden alle Tests ausgeführt.\n",
    "Sie sollten das Notebook zuvor bis hier hin von oben nach unten ausgewertet haben.\n",
    "\n"
   ]
  },
  {
   "cell_type": "code",
   "execution_count": null,
   "metadata": {
    "deletable": false,
    "editable": false
   },
   "outputs": [],
   "source": [
    "grader.check_all()"
   ]
  }
 ],
 "metadata": {
  "kernelspec": {
   "display_name": "Python 3",
   "language": "python",
   "name": "python3"
  },
  "language_info": {
   "codemirror_mode": {
    "name": "ipython",
    "version": 3
   },
   "file_extension": ".py",
   "mimetype": "text/x-python",
   "name": "python",
   "nbconvert_exporter": "python",
   "pygments_lexer": "ipython3",
   "version": "3.10.12"
  },
  "otter": {
   "OK_FORMAT": false,
   "assignment_name": "04_kontrollstrukturen",
   "tests": {}
  }
 },
 "nbformat": 4,
 "nbformat_minor": 2
}
