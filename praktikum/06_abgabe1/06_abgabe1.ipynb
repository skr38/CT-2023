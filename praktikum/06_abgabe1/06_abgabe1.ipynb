{
 "cells": [
  {
   "cell_type": "code",
   "execution_count": 2,
   "metadata": {
    "deletable": false,
    "editable": false
   },
   "outputs": [],
   "source": [
    "# Initialize Otter\n",
    "import otter\n",
    "grader = otter.Notebook(\"06_abgabe1.ipynb\")"
   ]
  },
  {
   "cell_type": "markdown",
   "metadata": {},
   "source": [
    "# Computational Thinking WS2023/24\n",
    "**Autoren:** \n",
    "+ Prof. Benedikt Dietrich\n",
    "+ Prof. Martin Hobelsberger\n",
    "+ Prof. Martin Orehek"
   ]
  },
  {
   "cell_type": "markdown",
   "metadata": {},
   "source": [
    "## Divide and Conquer\n",
    "\n",
    "Ein in der Informatik wichtiges Prinzip ist \"*Divide & Conquer*\", d.h. teile und herrsche. \n",
    "Gemeint ist die erfolgreiche Lösung einer komplexen Problemstellung durch die Aufteilung in mehrere kleine, leicht zu lösende Teilprobleme.\n",
    "Die Herausforderung liegt hierbei in der Identifikation der einzelnen Teilprobleme.\n",
    "Dieses Prinzip wollen wir in der Aufgabe *Herr der Rauten* anwenden.\n",
    "Die einzelnen Teilprobleme sind hier noch vorgegeben.\n",
    "In den weiteren Praktikumsaufgaben obliegt die Anwendung des *Divide & Conquer* Prinzips immer stärker Ihnen."
   ]
  },
  {
   "cell_type": "markdown",
   "metadata": {},
   "source": [
    "\n",
    "## 1. Herr der Rauten \n",
    "\n",
    "Im Folgenden sollen Sie ein Programm erstellen, das eine Raute in einer vom Nutzer vorgegebener Größe zeichnet. \n",
    "Die Ausgabe des Programms soll wie folgt aussehen:\n",
    "\n",
    "```text \n",
    "Bitte geben Sie die gewünschte Rautengröße (3-10) ein: 10\n",
    "\n",
    "Ihre Raute:\n",
    "\n",
    "    **\n",
    "   *  *\n",
    "  *    *\n",
    " *      *\n",
    "*        *\n",
    "*        *\n",
    " *      *\n",
    "  *    *\n",
    "   *  *\n",
    "    **\n",
    "``` \n",
    "\n",
    "Hierzu werden Sie Schritt für Schritt den notwendigen Algorithmus nach dem Prinzip *Divide & Conquer* herleiten.\n",
    "\n",
    "Für unsere Raute bedeutet dies konkret, dass wir nicht versuchen sofort die komplette  Raute auszugeben, sondern zunächst einmal nur die notwendigen Leerzeichen auszugeben und dann die obere Hälfte der Raute generieren. Von dieser Lösung aus erweitern wir dann unser Programm, um auch die untere Hälfte der Raute auszugeben. "
   ]
  },
  {
   "cell_type": "markdown",
   "metadata": {
    "deletable": false,
    "editable": false
   },
   "source": [
    "\n",
    "### 1.1 Nutzereingabe abfragen\n",
    "\n",
    "Schreiben Sie eine Funktion `getRautenGroesse()`, welche den Nutzer um die Eingabe der Rautengröße bittet. Der eingegebene Wert soll zwischen 3 und einschließlich 10 liegen. Ist dies nicht der Fall, soll die Funktion den Nutzer darauf hinweisen und erneut um eine Eingabe bitten bis ein Wert zwischen 3 und 10 eingegeben wurde.\n",
    "\n",
    "Eine Beispielausgabe der Funktion könnte so aussehen:\n",
    "\n",
    "```text\n",
    "    Bitte geben Sie die gewünschte Rautengröße (3-10) ein: 1\n",
    "    Fehler: Der eingegebene Wert muss zwischen 3 und einschließlich 10 liegen.\n",
    "    Bitte geben Sie die gewünschte Rautengröße (3-10) ein: 100\n",
    "    Fehler: Der eingegebene Wert muss zwischen 3 und einschließlich 10 liegen.\n",
    "    Bitte geben Sie die gewünschte Rautengröße (3-10) ein: 4\n",
    "    Sie haben eine Rautengröße von 4 gewählt.\n",
    "```\n"
   ]
  },
  {
   "cell_type": "code",
   "execution_count": 3,
   "metadata": {
    "tags": []
   },
   "outputs": [],
   "source": [
    "def getRautenGroesse():\n",
    "    '''\n",
    "    Gets Userinput in desired int Range of 3 to 10\n",
    "    '''\n",
    "    _rautenGroesse = None\n",
    "    while _rautenGroesse == None:\n",
    "        _rautenGroesse = input('Bitte geben Sie die gewünschte Rautengröße (3-10) ein:')\n",
    "        try:\n",
    "            if int(_rautenGroesse) in range(3, 10):\n",
    "                continue\n",
    "            else:\n",
    "                _rautenGroesse = None\n",
    "                print('Fehler: Der eingegebene Wert muss zwischen 3 und einschließlich 10 liegen')\n",
    "        except:\n",
    "            _rautenGroesse = None\n",
    "            print('Fehler: Der eingegebene Wert muss zwischen 3 und einschließlich 10 liegen')\n",
    "    return _rautenGroesse\n",
    "#Test:  getRautenGroesse()\n"
   ]
  },
  {
   "cell_type": "markdown",
   "metadata": {},
   "source": [
    "***"
   ]
  },
  {
   "cell_type": "markdown",
   "metadata": {
    "deletable": false,
    "editable": false
   },
   "source": [
    "### 1.2 Analyse des Problems\n",
    "\n",
    "Eine Raute besteht aus einer bestimmten Anzahl an Zeilen. Jede Zeile besteht aus einer bestimmten Menge an führenden Leerzeichen, einem Stern, einer bestimmten Anzahl an mittleren Leerzeichen, einem weiteren Stern und einem Zeilenumbruch.\n",
    "\n",
    "Zeichnen Sie den oberen (!) Teil einer Raute einer beliebigen Größe zwischen 3 und 10 auf ein Karo-Papier. Füllen Sie dann für Ihre Raute die folgende Tabelle aus:\n",
    "\n",
    "Raute 9:\n",
    "| Zeile | Führende Leerzeichen | Mittlere Leerzeichen | \n",
    "|-------|----------------------|----------------------|\n",
    "|   0   | 4                    |   0                  |\n",
    "|   1   | 3                    |   1                  |\n",
    "|   2   | 2                    |   3                  |\n",
    "|   3   | 1                    |   5                  |\n",
    "|   4   | 0                    |   7                  |\n",
    "|   5   | 1                    |   5                  |\n",
    "|   6   | 2                    |   3                  |\n",
    "|   7   | 3                    |   1                  |\n",
    "|   8   | 4                    |   0                  |\n",
    "\n",
    "Raute 10:\n",
    "| Zeile | Führende Leerzeichen | Mittlere Leerzeichen | \n",
    "|-------|----------------------|----------------------|\n",
    "|   0   | 4                    |   0                  |\n",
    "|   1   | 3                    |   2                  |\n",
    "|   2   | 2                    |   4                  |\n",
    "|   3   | 1                    |   6                  |\n",
    "|   4   | 0                    |   8                  |\n",
    "|   5   | 0                    |   8                  |\n",
    "|   6   | 1                    |   6                  |\n",
    "|   7   | 2                    |   4                  |\n",
    "|   8   | 3                    |   2                  |\n",
    "|   9   | 4                    |   0                  |\n",
    "\n",
    "Leiten Sie nun aus der Tabelle ab, wie die Anzahl an Zeilen, die Anzahl an führenden Leerzeichen und die Anzahl an mittleren Leerzeichen von der Rautengröße abhängt. \n",
    "**Wichtig:** Fokussieren Sie hier erst mal nur auf die obere Hälfte der Raute!\n",
    "\n",
    "Gerade Rautengröße:\n",
    "\n",
    "Führende Leerzeichen: {Rautengröße}/2 -1 -{aktuelle Zeile} \n",
    "\n",
    "Mittlere Leerzeichen: 2*{aktuelle Zeile}\n",
    "\n",
    "\n",
    "\n",
    "Ungerade Rautengröße:\n",
    "\n",
    "Führende Leerzeichen: {Rautengröße+1}/2 -1 -{aktuelle Zeile}\n",
    "\n",
    "Mittlere Leerzeichen: 2*{aktuelle Zeile} -1 außer bei Zeile 0\n",
    "                    "
   ]
  },
  {
   "cell_type": "markdown",
   "metadata": {},
   "source": [
    "***"
   ]
  },
  {
   "cell_type": "markdown",
   "metadata": {
    "deletable": false,
    "editable": false
   },
   "source": [
    "### 1.3 Leerzeichen ausgeben\n",
    "\n",
    "Schreiben Sie zunächst eine Funktion `printSpaces()`, welcher die gewünschte Anzahl an auszugebenden Leerzeichen übergeben wird. Die Funktion soll dann die entsprechende Zahl an Leerzeichen ausgeben, aber ohne Zeilenumbruch!\n",
    "\n",
    "*Hinweis:* Um nur ein Leerzeichen ohne Zeilenumbruch auszugeben können Sie folgende Syntax verwenden:\n",
    "\n",
    "```python\n",
    "    print(\" \", end=\"\")\n",
    "```"
   ]
  },
  {
   "cell_type": "code",
   "execution_count": 4,
   "metadata": {
    "tags": []
   },
   "outputs": [],
   "source": [
    "def printSpaces(_spaceCount):\n",
    "    '''\n",
    "    Prints spacecount times Space\n",
    "    '''\n",
    "    while _spaceCount > 0:\n",
    "        print(' ', end= '')\n",
    "        _spaceCount -= 1 \n"
   ]
  },
  {
   "cell_type": "markdown",
   "metadata": {},
   "source": [
    "***"
   ]
  },
  {
   "cell_type": "markdown",
   "metadata": {
    "deletable": false,
    "editable": false
   },
   "source": [
    "### 1.4 Den oberen Teil der Raute zeichnen\n",
    "\n",
    "Schreiben Sie nun eine Funktion `printRauteObereHaelfte()`, welcher die gewünschte Größe der Raute übergeben wird. Die Funktion soll dann in einer `for`-Schleife Zeile für Zeile der Raute ausgeben. Berechnen Sie hierfür in der `for`-Schleife in Abhängigkeit der aktuellen Zeilenzahl die Variablen `fuehrendeLeerzeichen` und `mittlereLeerzeichen`. Nutzen Sie dann die Funktion `printLeerzeichen()` und `print(*)` um die gewünschten Leerzeichen und Sterne auszugeben.\n",
    "\n",
    "Für eine Raute der Größe 5 sollte das z.B. wie folgt aussehen:\n",
    "\n",
    "```text\n",
    "    **\n",
    "   *  * \n",
    "  *    *\n",
    " *      *\n",
    "*        *\n",
    "```"
   ]
  },
  {
   "cell_type": "code",
   "execution_count": 5,
   "metadata": {
    "tags": []
   },
   "outputs": [
    {
     "name": "stdout",
     "output_type": "stream",
     "text": [
      "   **\n",
      "  *  *\n",
      " *    *\n",
      "*      *\n"
     ]
    }
   ],
   "source": [
    "def printRauteObereHaelfte(_rhombusSize):\n",
    "    '''\n",
    "    prints upper half rhombus at desired size\n",
    "    '''\n",
    "    _upperRhombusLineCounter = 0\n",
    "    if (_rhombusSize % 2) == 0: #GeradeGroesse\n",
    "\n",
    "        for _ in range( ( int(_rhombusSize) // 2) ):\n",
    "            printSpaces( ( ( (int(_rhombusSize) // 2) - 1) - int(_upperRhombusLineCounter) ) )\n",
    "            print('*', end= '')\n",
    "            printSpaces( ( int(_upperRhombusLineCounter)*2) )\n",
    "\n",
    "            print('*') #End of line\n",
    "\n",
    "            _upperRhombusLineCounter += 1\n",
    "        \n",
    "    if (_rhombusSize % 2) != 0: #UngeradeGroesse\n",
    "\n",
    "        for _ in range( ( ( int(_rhombusSize) + 1) // 2 ) ) :\n",
    "            printSpaces( ( ( int(_rhombusSize) // 2) - int(_upperRhombusLineCounter) ) )\n",
    "            print('*', end= '')\n",
    "            printSpaces( ( ( int(_upperRhombusLineCounter) * 2 ) - 1 ) )\n",
    "            \n",
    "            if _ > 0:\n",
    "                print('*') #End of line\n",
    "            else:\n",
    "                print('') #End of line\n",
    "\n",
    "            _upperRhombusLineCounter += 1\n",
    "\n",
    "\n",
    "#for i in range(3,11):       #Test\n",
    " \n",
    "i = 8\n",
    "printRauteObereHaelfte(i)"
   ]
  },
  {
   "cell_type": "markdown",
   "metadata": {},
   "source": [
    "***"
   ]
  },
  {
   "cell_type": "markdown",
   "metadata": {
    "deletable": false,
    "editable": false
   },
   "source": [
    "### 1.5 Der untere Teil der Raute\n",
    "\n",
    "Führen Sie nun die gleichen Schritte wie oben für den unteren Teil der Raute durch. Schreiben Sie analog zur Funktion `printRauteObereHaelfte()` eine Funktion `printRauteUntereHaelfte()`, welche die untere Hälfte der Raute ausgibt."
   ]
  },
  {
   "cell_type": "code",
   "execution_count": 6,
   "metadata": {
    "tags": []
   },
   "outputs": [],
   "source": [
    "def printRauteUntereHaelfte(_rhombusSize):\n",
    "    '''\n",
    "    prints lower half rhombus at desired size\n",
    "    '''\n",
    "    _lowerRhombusLineCounter = ( (_rhombusSize) // 2 )\n",
    "    if (_rhombusSize % 2) == 0: #GeradeGroesse\n",
    "\n",
    "        for _ in range( ( int(_rhombusSize) // 2) ):\n",
    "            printSpaces( ( ( int(_rhombusSize) // 2) - int(_lowerRhombusLineCounter) ) )\n",
    "            print('*', end= '')\n",
    "            printSpaces( ( int(_lowerRhombusLineCounter)*2) - 2 )\n",
    "\n",
    "            print('*') #End of line\n",
    "\n",
    "            _lowerRhombusLineCounter -= 1\n",
    "        \n",
    "    if (_rhombusSize % 2) != 0: #UngeradeGroesse\n",
    "        #_lowerRhombusLineCounter -= 1\n",
    "        for _ in range( ( ( int(_rhombusSize) - 1) //2 ) ) :\n",
    "            printSpaces( ( ( int(_rhombusSize // 2) + 1 ) - int(_lowerRhombusLineCounter) ) )\n",
    "            print('*', end= '')\n",
    "            printSpaces( ( ( int(_lowerRhombusLineCounter) * 2 ) - 3) )\n",
    "            \n",
    "            if _ == ( ( (int(_rhombusSize) - 1) //2) - 1 ):\n",
    "                print('') #End of line\n",
    "            else:\n",
    "                print('*') #End of line\n",
    "\n",
    "            _lowerRhombusLineCounter -= 1\n",
    "\n",
    "     #Test\n",
    "#for i in range(3, 15):\n",
    "#    printRauteObereHaelfte(i)\n",
    "#    printRauteUntereHaelfte(i)\n"
   ]
  },
  {
   "cell_type": "markdown",
   "metadata": {},
   "source": [
    "***"
   ]
  },
  {
   "cell_type": "markdown",
   "metadata": {
    "deletable": false,
    "editable": false
   },
   "source": [
    "### 1.6 Raute ausgeben\n",
    "\n",
    "Schreiben Sie nun noch eine Funktion `printRaute()`, welcher die gewünschte Größe der Raute übergeben wird und welche dann beide Hälften unter Verwendung der oben geschriebenen Funktionen ausgibt."
   ]
  },
  {
   "cell_type": "code",
   "execution_count": 7,
   "metadata": {
    "tags": []
   },
   "outputs": [],
   "source": [
    "def printRaute(_):\n",
    "    '''\n",
    "    prints out full rhombus by calling two functions with desired size _ as input parameter, that print lower/upper half\n",
    "    '''\n",
    "    printRauteObereHaelfte(_)\n",
    "    printRauteUntereHaelfte(_)\n",
    "\n",
    "#printRaute(11) #Test"
   ]
  },
  {
   "cell_type": "markdown",
   "metadata": {},
   "source": [
    "***"
   ]
  },
  {
   "cell_type": "markdown",
   "metadata": {
    "deletable": false,
    "editable": false
   },
   "source": [
    "### 1.7 Rautendrucker\n",
    "\n",
    "Schreiben Sie nun noch ein Programm, welches die Funktion `getRautenGroesse()` nutzt, um den Nutzer nach der gewünschten Rautengröße zu fragen und rufen Sie dann `printRaute()` auf, um die Raute der gewünschten Größe aufzurufen."
   ]
  },
  {
   "cell_type": "code",
   "execution_count": 8,
   "metadata": {
    "tags": []
   },
   "outputs": [],
   "source": [
    "def printRauteContext():\n",
    "    '''\n",
    "    asks for rhombus size + prints out full rhombus by calling two functions with desired size _ as input parameter, that print lower/upper half\n",
    "    '''\n",
    "    printRaute( int( getRautenGroesse() ) )\n",
    "\n",
    "# printRauteContext() #Test"
   ]
  },
  {
   "cell_type": "markdown",
   "metadata": {},
   "source": [
    "***"
   ]
  },
  {
   "cell_type": "markdown",
   "metadata": {
    "deletable": false,
    "editable": false
   },
   "source": [
    "### 1.8 Rautengenerator\n",
    "\n",
    "Schreiben Sie nun noch eine Funktion namens `rautenGenerator()`, welche alle Rauten der Größe 3 bis 10 nacheinander ausgibt."
   ]
  },
  {
   "cell_type": "code",
   "execution_count": 9,
   "metadata": {
    "tags": []
   },
   "outputs": [
    {
     "name": "stdout",
     "output_type": "stream",
     "text": [
      " *\n",
      "* *\n",
      " *\n",
      "\n",
      " **\n",
      "*  *\n",
      "*  *\n",
      " **\n",
      "\n",
      "  *\n",
      " * *\n",
      "*   *\n",
      " * *\n",
      "  *\n",
      "\n",
      "  **\n",
      " *  *\n",
      "*    *\n",
      "*    *\n",
      " *  *\n",
      "  **\n",
      "\n",
      "   *\n",
      "  * *\n",
      " *   *\n",
      "*     *\n",
      " *   *\n",
      "  * *\n",
      "   *\n",
      "\n",
      "   **\n",
      "  *  *\n",
      " *    *\n",
      "*      *\n",
      "*      *\n",
      " *    *\n",
      "  *  *\n",
      "   **\n",
      "\n",
      "    *\n",
      "   * *\n",
      "  *   *\n",
      " *     *\n",
      "*       *\n",
      " *     *\n",
      "  *   *\n",
      "   * *\n",
      "    *\n",
      "\n",
      "    **\n",
      "   *  *\n",
      "  *    *\n",
      " *      *\n",
      "*        *\n",
      "*        *\n",
      " *      *\n",
      "  *    *\n",
      "   *  *\n",
      "    **\n",
      "\n"
     ]
    }
   ],
   "source": [
    "def rautenGenerator():\n",
    "    '''\n",
    "    Gets Userinput in desired int Range of 3 to 10\n",
    "    '''\n",
    "    for _ in range(3, 11):\n",
    "        printRaute(_)\n",
    "        print()\n",
    "\n",
    "rautenGenerator() #Check"
   ]
  },
  {
   "cell_type": "markdown",
   "metadata": {},
   "source": [
    "***"
   ]
  },
  {
   "cell_type": "markdown",
   "metadata": {},
   "source": [
    "## 2. Fehlersuche\n",
    "\n",
    "In den folgenden kleineren Funktionen haben ein, oder mehrere Fehler versteckt. Schreiben Sie Code, um die Funktionen zu testen und verwenden Sie den Debugger, um die Fehler zu finden und zu korrigieren."
   ]
  },
  {
   "cell_type": "markdown",
   "metadata": {
    "deletable": false,
    "editable": false
   },
   "source": [
    "### 2.1 Primzahl oder nicht?"
   ]
  },
  {
   "cell_type": "code",
   "execution_count": 10,
   "metadata": {
    "deletable": false,
    "editable": false
   },
   "outputs": [
    {
     "name": "stdout",
     "output_type": "stream",
     "text": [
      "0, True\n",
      "1, True\n",
      "2, True\n",
      "3, True\n",
      "4, False\n",
      "5, True\n",
      "6, False\n",
      "7, True\n",
      "8, False\n",
      "9, False\n",
      "10, False\n",
      "11, True\n",
      "12, False\n",
      "13, True\n",
      "14, False\n",
      "15, False\n",
      "16, False\n",
      "17, True\n",
      "18, False\n",
      "19, True\n",
      "20, False\n",
      "21, False\n",
      "22, False\n",
      "23, True\n",
      "24, False\n",
      "25, False\n",
      "26, False\n",
      "27, False\n",
      "28, False\n",
      "29, True\n",
      "30, False\n",
      "31, True\n",
      "32, False\n",
      "33, False\n",
      "34, False\n",
      "35, False\n",
      "36, False\n",
      "37, True\n",
      "38, False\n",
      "39, False\n",
      "40, False\n",
      "41, True\n",
      "42, False\n",
      "43, True\n",
      "44, False\n",
      "45, False\n",
      "46, False\n",
      "47, True\n",
      "48, False\n",
      "49, False\n",
      "50, False\n",
      "51, False\n",
      "52, False\n",
      "53, True\n",
      "54, False\n",
      "55, False\n",
      "56, False\n",
      "57, False\n",
      "58, False\n",
      "59, True\n",
      "60, False\n",
      "61, True\n",
      "62, False\n",
      "63, False\n",
      "64, False\n",
      "65, False\n",
      "66, False\n",
      "67, True\n",
      "68, False\n",
      "69, False\n",
      "70, False\n",
      "71, True\n",
      "72, False\n",
      "73, True\n",
      "74, False\n",
      "75, False\n",
      "76, False\n",
      "77, False\n",
      "78, False\n",
      "79, True\n",
      "80, False\n",
      "81, False\n",
      "82, False\n",
      "83, True\n",
      "84, False\n",
      "85, False\n",
      "86, False\n",
      "87, False\n",
      "88, False\n",
      "89, True\n",
      "90, False\n",
      "91, False\n",
      "92, False\n",
      "93, False\n",
      "94, False\n",
      "95, False\n",
      "96, False\n",
      "97, True\n",
      "98, False\n",
      "99, False\n",
      "100, False\n",
      "101, True\n",
      "0, False\n",
      "1, False\n",
      "2, True\n",
      "3, True\n",
      "4, False\n",
      "5, True\n",
      "6, False\n",
      "7, True\n",
      "8, False\n",
      "9, False\n",
      "10, False\n",
      "11, True\n",
      "12, False\n",
      "13, True\n",
      "14, False\n",
      "15, False\n",
      "16, False\n",
      "17, True\n",
      "18, False\n",
      "19, True\n",
      "20, False\n",
      "21, False\n",
      "22, False\n",
      "23, True\n",
      "24, False\n",
      "25, False\n",
      "26, False\n",
      "27, False\n",
      "28, False\n",
      "29, True\n",
      "30, False\n",
      "31, True\n",
      "32, False\n",
      "33, False\n",
      "34, False\n",
      "35, False\n",
      "36, False\n",
      "37, True\n",
      "38, False\n",
      "39, False\n",
      "40, False\n",
      "41, True\n",
      "42, False\n",
      "43, True\n",
      "44, False\n",
      "45, False\n",
      "46, False\n",
      "47, True\n",
      "48, False\n",
      "49, False\n",
      "50, False\n",
      "51, False\n",
      "52, False\n",
      "53, True\n",
      "54, False\n",
      "55, False\n",
      "56, False\n",
      "57, False\n",
      "58, False\n",
      "59, True\n",
      "60, False\n",
      "61, True\n",
      "62, False\n",
      "63, False\n",
      "64, False\n",
      "65, False\n",
      "66, False\n",
      "67, True\n",
      "68, False\n",
      "69, False\n",
      "70, False\n",
      "71, True\n",
      "72, False\n",
      "73, True\n",
      "74, False\n",
      "75, False\n",
      "76, False\n",
      "77, False\n",
      "78, False\n",
      "79, True\n",
      "80, False\n",
      "81, False\n",
      "82, False\n",
      "83, True\n",
      "84, False\n",
      "85, False\n",
      "86, False\n",
      "87, False\n",
      "88, False\n",
      "89, True\n",
      "90, False\n",
      "91, False\n",
      "92, False\n",
      "93, False\n",
      "94, False\n",
      "95, False\n",
      "96, False\n",
      "97, True\n",
      "98, False\n",
      "99, False\n",
      "100, False\n",
      "101, True\n"
     ]
    }
   ],
   "source": [
    "# Liefert True zurück, wenn number eine Primzahl ist.\n",
    "def ist_primzahl(number):\n",
    "    \n",
    "    for i in range(2, number):\n",
    "        if number % i == 0:\n",
    "            return False    \n",
    "    return True\n",
    "\n",
    "#Check\n",
    "for ny in range(102):\n",
    "   print(f'{ny}, {ist_primzahl(ny)}')\n",
    "\n",
    "\n",
    "# Ohne großartige Anpassungen am Code bleiben 0 und 1 im Ergebnis eine Primzahl, obwohl Sie es nicht sind.\n",
    "\n",
    "def ist_prim(number):\n",
    "    \n",
    "    if number > 1:\n",
    "        for i in range(2, number ):\n",
    "            if number % i == 0:\n",
    "                return False\n",
    "        return True\n",
    "    else:\n",
    "        return False\n",
    "    \n",
    "#Check\n",
    "for ny in range(102):\n",
    "   print(f'{ny}, {ist_prim(ny)}')\n",
    "\n",
    "\n"
   ]
  },
  {
   "cell_type": "code",
   "execution_count": 11,
   "metadata": {
    "tags": []
   },
   "outputs": [],
   "source": [
    "# Notieren Sie hier, was Sie geändert haben.\n",
    "\n",
    "#Logikfehler 1: Jeder int durch 1 teilbar, range muss erst mit 2 beginnen\n",
    "#Logikfehler 2: Wenn number mod i 0 ist, ist die Zahl keine Primzahl -> False und nicht True\n",
    "#Logikfehler 2.5: False und True sind vertauscht\n",
    "#(Fehler 3): Null und Eins sind keine Primzahlen\n",
    " \n",
    "#Original:\n",
    "def ist_primzahl(number):\n",
    "    for i in range(1, number):\n",
    "        if number % i == 0:\n",
    "            return True\n",
    "    return False"
   ]
  },
  {
   "cell_type": "markdown",
   "metadata": {
    "deletable": false,
    "editable": false
   },
   "source": [
    "### 2.2 Fakultät einer Zahl"
   ]
  },
  {
   "cell_type": "code",
   "execution_count": 12,
   "metadata": {
    "deletable": false,
    "editable": false
   },
   "outputs": [],
   "source": [
    "# Berechnet n! = n * (n - 1) * ... * 2 * 1\n",
    "def factorial(n):\n",
    "    result = 1\n",
    "    while n > 0:\n",
    "        result *= n\n",
    "        n -= 1\n",
    "    return result\n",
    "\n",
    "import math\n",
    "\n",
    "#Check\n",
    "for ny in range(512):\n",
    "    if factorial(ny) == math.factorial(ny):\n",
    "        continue\n",
    "    else:\n",
    "        print('Das Programm funktioniert wohl bei {ny} nicht richtig')\n"
   ]
  },
  {
   "cell_type": "code",
   "execution_count": 13,
   "metadata": {
    "tags": []
   },
   "outputs": [],
   "source": [
    "# Notieren Sie hier, was Sie geändert haben.\n",
    "\n",
    "#Logikfehler 1: > anstatt >= 0 , ansonsten wird immer mit 0 multipliziert und das Ergebnis ist 0 \n",
    "\n",
    "#Original:\n",
    "def factorial(n):\n",
    "    result = 1\n",
    "    while n >= 0:\n",
    "        result *= n\n",
    "        n -= 1\n",
    "    return result"
   ]
  },
  {
   "cell_type": "code",
   "execution_count": 14,
   "metadata": {
    "deletable": false,
    "editable": false
   },
   "outputs": [
    {
     "name": "stdout",
     "output_type": "stream",
     "text": [
      "* \n",
      "* * \n",
      "* \n",
      "* * * \n",
      "* * \n",
      "* \n",
      "* * * * \n",
      "* * * \n",
      "* * \n",
      "* \n",
      "* * * * * \n",
      "* * * * \n",
      "* * * \n",
      "* * \n",
      "* \n",
      "* * * * * * \n",
      "* * * * * \n",
      "* * * * \n",
      "* * * \n",
      "* * \n",
      "* \n",
      "* * * * * * * \n",
      "* * * * * * \n",
      "* * * * * \n",
      "* * * * \n",
      "* * * \n",
      "* * \n",
      "* \n",
      "* * * * * * * * \n",
      "* * * * * * * \n",
      "* * * * * * \n",
      "* * * * * \n",
      "* * * * \n",
      "* * * \n",
      "* * \n",
      "* \n",
      "* * * * * * * * * \n",
      "* * * * * * * * \n",
      "* * * * * * * \n",
      "* * * * * * \n",
      "* * * * * \n",
      "* * * * \n",
      "* * * \n",
      "* * \n",
      "* \n"
     ]
    }
   ],
   "source": [
    "# Soll z.B. für rows = 5 folgendes ausgeben:\n",
    "#\n",
    "# * * * * * \n",
    "# * * * * \n",
    "# * * * \n",
    "# * * \n",
    "# * \n",
    "def print_pattern(rows):\n",
    "    for i in range(rows):\n",
    "        for j in range(rows - i):\n",
    "            print(\"*\", end=\" \")\n",
    "        print()\n",
    "\n",
    "#Check\n",
    "for ny in range(10):\n",
    "    print_pattern(ny)"
   ]
  },
  {
   "cell_type": "code",
   "execution_count": 15,
   "metadata": {
    "tags": []
   },
   "outputs": [],
   "source": [
    "# Notieren Sie hier, was Sie geändert haben.\n",
    "\n",
    "#Logikfehler 1: i muss subtrahiert anstatt addiert werden, um eine abfallende Mege an '*' zu erhalten\n",
    "#Logikfehler 2: + 1 ist nicht nötig, da range(42) ohnehin bei 0 beginnt\n",
    "\n",
    "#Original:\n",
    "def print_pattern(rows):\n",
    "    for i in range(rows):\n",
    "        for j in range(rows + i + 1):\n",
    "            print(\"*\", end=\" \")\n",
    "        print()"
   ]
  },
  {
   "cell_type": "markdown",
   "metadata": {},
   "source": [
    "***"
   ]
  },
  {
   "cell_type": "markdown",
   "metadata": {
    "deletable": false,
    "editable": false
   },
   "source": [
    "### 3. Alphabet - Hoch und runter\n",
    "\n",
    "Schreiben Sie eine Funktion, welche die ersten `n` Buchstaben des Alphabets ausgibt, wobei `n` der Übergabeparamter der Funktion ist. Ist `n` größer als die Anzahl an Buchstaben im Alphabet, soll die Funktion alle Buchstaben von a bis z ausgeben und dann das Alphabet rückwärts ausgeben, bis insgesamt `n` Buchstaben ausgegeben wurden. Sind noch immer auszugebende Buchstaben übrig, wenn man bei `a` ankommt, soll die Ausgaberichtung wieder umgekehrt werden. Das soll so lange wiederholt werden, bis `n` Buchstaben ausgegeben wurden. \n",
    "\n",
    "Folgende Beispiele zeigen Ausgaben einer solchen Funktion:\n",
    "\n",
    "```text\n",
    "    print_alphabet_up_and_down(10)\n",
    "    abcdefghij\n",
    "```\n",
    "\n",
    "```text\n",
    "    print_alphabet_up_and_down(28)\n",
    "    abcdefghijklmnopqrstuvwxyzyx\n",
    "```\n",
    "\n",
    "\n",
    "```text\n",
    "    print_alphabet_up_and_down(60)\n",
    "    abcdefghijklmnopqrstuvwxyzyxwvutsrqponmlkjihgfedcbabcdefghij\n",
    "```"
   ]
  },
  {
   "cell_type": "markdown",
   "metadata": {
    "deletable": false,
    "editable": false
   },
   "source": [
    "*Hilfestellung:* \n",
    "\n",
    "Um einen Buchstaben als Zahl zu interpretieren, können Sie folgende Funktion verwenden:\n",
    "\n",
    "```python\n",
    "ord(\"a\") # liefert 97 zurück\n",
    "```\n",
    "\n",
    "Um eine Zahl als ASCII-Code zu interpretieren, können Sie folgenden Befehl verwenden:\n",
    "\n",
    "```python\n",
    "chr(100) # liefert \"d\" zurück\n",
    "```\n",
    "\n",
    "Mit Hilfe dieser Funktionen kann man also mit Buchstaben \"rechnen\":\n",
    "\n",
    "```python\n",
    "print(chr(ord(\"a\") + 1)) # gibt b aus\n",
    "```"
   ]
  },
  {
   "cell_type": "code",
   "execution_count": 16,
   "metadata": {},
   "outputs": [],
   "source": [
    "def print_alphabet_up_and_down(n):\n",
    "    '''\n",
    "    prints out n letters in alphabetic order back and forth between a and z beginning with a; no same characters aside\n",
    "    '''\n",
    "\n",
    "    _ = 25                                            #cyclecount for loops + indicator for rise/fall within alphabet\n",
    "\n",
    "    try:                                              #check for correct input parameter\n",
    "        n = int(n) - 1                                #adjust input parameter\n",
    "        while n >= 0:\n",
    "            n -= 1\n",
    "\n",
    "            if _ >= 25 :\n",
    "                print( chr(72 + _), end = '')\n",
    "                \n",
    "            else:\n",
    "                print( chr(122 - _), end = '')\n",
    "\n",
    "            _ = 1 if (_ == 50) else (_ + 1)\n",
    "\n",
    "    except:\n",
    "            print('error: only int-compatible input permitted')\n",
    "                            "
   ]
  },
  {
   "cell_type": "code",
   "execution_count": 17,
   "metadata": {},
   "outputs": [],
   "source": [
    "def print_alphabet_up_and_downshort(n):\n",
    "    '''\n",
    "    prints out n letters in alphabetic order back and forth between a and z beginning with a; no same characters aside\n",
    "    '''\n",
    "#####\n",
    "    # _ = 25                                            #cyclecount for loops + indicator for rise/fall within alphabet\n",
    "    # while n > 0:                                  # V2\n",
    "\n",
    "    #     if _ >= 25 :\n",
    "    #         print( chr(72 + _), end = '')\n",
    "            \n",
    "    #     else:\n",
    "    #         print( chr(122 - _), end = '')\n",
    "\n",
    "    #     n -= 1\n",
    "    #     _ = 1 if (_ == 50) else (_ + 1)\n",
    "\n",
    "#####\n",
    "    # _ = 25                                            #cyclecount for loops + indicator for rise/fall within alphabet\n",
    "    # for s in range(n):                              # V3\n",
    "\n",
    "    #     if _ >= 25 :\n",
    "    #         print( chr(72 + _), end = '')\n",
    "            \n",
    "    #     else:\n",
    "    #         print( chr(122 - _), end = '')\n",
    "\n",
    "    #     _ = 1 if (_ == 50) else (_ + 1)\n",
    "\n",
    "#####                                                 #cyclecount for loops + indicator for rise/fall within alphabet\n",
    "    # _ = 0\n",
    "    # for s in range(n):                              # V4  unnecessary double mention of _ + 1\n",
    "\n",
    "    #     if _ >= 0 :\n",
    "    #         print( chr(97 + _), end = '')\n",
    "    #         _ = -25 if (_ == 24) else (_ + 1)\n",
    "    #     else:\n",
    "    #         print( chr(97 - _), end = '')\n",
    "    #         _ +=1\n",
    "\n",
    "\n",
    "#####                                                 #cyclecount for loops + indicator for rise/fall within alphabet\n",
    "    # _ = 0\n",
    "    # for s in range(n):                              # V4.1     .........\n",
    "        \n",
    "    #     if _ >= 0 :\n",
    "    #         print( chr(97 + _), end = '')\n",
    "    #         if (_ == 25):\n",
    "    #             _ = -_\n",
    "\n",
    "    #     else:\n",
    "    #         print( chr(97 - _), end = '')\n",
    "        \n",
    "    #     _ += 1\n",
    "\n",
    "\n",
    "#####Best???                                                  #cyclecount for loops + indicator for rise/fall within alphabet\n",
    "    _ = 0\n",
    "    for s in range(n):                              # V4.1.1   same as 4.5.2\n",
    "\n",
    "        _ += 1\n",
    "        \n",
    "        if _ > 0 :\n",
    "            print( chr(96 + _), end = '')\n",
    "            if (_ == 25):\n",
    "                _ = -_\n",
    "\n",
    "        else:\n",
    "            print( chr(98 - _), end = '')\n",
    "\n",
    "\n",
    "#####                                                  #cyclecount for loops + indicator for rise/fall within alphabet\n",
    "    # _ = 0\n",
    "    # for s in range(n):                              # V4.5 added load by _ == 24 each loop instead of just in if statement\n",
    "\n",
    "    #     if _ >= 0 :\n",
    "    #         print( chr(97 + _), end = '')\n",
    "            \n",
    "    #     else:\n",
    "    #         print( chr(97 - _), end = '')\n",
    "\n",
    "    #     _ = -25 if (_ == 24) else (_ + 1)\n",
    "\n",
    "\n",
    "#####                                                  #cyclecount for loops + indicator for rise/fall within alphabet\n",
    "    # _ = 0\n",
    "    # for s in range(n):                              # V4.5.1 memory overusage by added variable + load for overwriting each cycle compare to if else ????\n",
    "\n",
    "    #     _operand = '+' if (_ >= 0) else '-'             \n",
    "\n",
    "    #     print( chr( eval( '97' + _operand + str(_) ) ), end = '')\n",
    "\n",
    "    #     _ = -25 if (_ == 24) else (_ + 1)\n",
    "\n",
    "\n",
    "#####                                                  #cyclecount for loops + indicator for rise/fall within alphabet\n",
    "    # _ = 0\n",
    "    # for s in range(n):           missing:                   # V4.5.2   implement correct logic for s% 25/26 instead of _\n",
    "\n",
    "    #     _operand = '+' if (_ >= 0) else '-'\n",
    "\n",
    "    #     print( chr( eval( '97' + _operand + str(_) ) ), end = '')\n",
    "\n",
    "    #     _ = -25 if (_ == 24) else (_ + 1)\n"
   ]
  },
  {
   "cell_type": "code",
   "execution_count": 18,
   "metadata": {},
   "outputs": [
    {
     "name": "stdout",
     "output_type": "stream",
     "text": [
      "abcdefghijklmnopqrstuvwxyzyxwvutsrqponmlkjihgfedcbabcdefghijklmnopqrstuvwxyzyx\n",
      "abcdefghijklmnopqrstuvwxyzyxwvutsrqponmlkjihgfedcbabcdefghijklmnopqrstuvwxyzyx"
     ]
    }
   ],
   "source": [
    "print_alphabet_up_and_down(78)  #Check\n",
    "print()\n",
    "print_alphabet_up_and_downshort(78)  #Check"
   ]
  },
  {
   "cell_type": "markdown",
   "metadata": {
    "deletable": false,
    "editable": false
   },
   "source": [
    "## Abgabe\n",
    "\n",
    "Stellen Sie sicher, dass Sie alle Zellen von oben nach unten ausgeführt haben und Ihr Notebook abgespeichert haben. Wenn Sie die folgende Zelle ausführen wird eine zip-Datei generiert. Laden Sie diese Datei in Moodle in der entsprechenden Abgabe hoch!"
   ]
  },
  {
   "cell_type": "code",
   "execution_count": 19,
   "metadata": {
    "deletable": false,
    "editable": false
   },
   "outputs": [
    {
     "data": {
      "application/javascript": "\n            if (typeof Jupyter !== 'undefined') {\n                Jupyter.notebook.save_checkpoint();\n            }\n        ",
      "text/plain": [
       "<IPython.core.display.Javascript object>"
      ]
     },
     "metadata": {},
     "output_type": "display_data"
    },
    {
     "name": "stderr",
     "output_type": "stream",
     "text": [
      "c:\\Users\\Krolo\\AppData\\Local\\Programs\\Python\\Python311\\Lib\\site-packages\\otter\\check\\notebook.py:434: UserWarning: Couldn't automatically save the notebook; we recommend using File > Save & Checkpoint and then re-running this cell. The zip file returned by this call will use the last saved version of this notebook.\n",
      "  warnings.warn(\n"
     ]
    },
    {
     "data": {
      "text/html": [
       "\n",
       "                    <p>\n",
       "                        Your submission has been exported. Click\n",
       "                        <a href=\"06_abgabe1_2023_11_28T15_45_04_314978.zip\" download=\"06_abgabe1_2023_11_28T15_45_04_314978.zip\" target=\"_blank\">here</a> to download\n",
       "                        the zip file.\n",
       "                    </p>\n",
       "                "
      ],
      "text/plain": [
       "<IPython.core.display.HTML object>"
      ]
     },
     "metadata": {},
     "output_type": "display_data"
    }
   ],
   "source": [
    "# grader.export(pdf=False, force_save=True)"
   ]
  },
  {
   "cell_type": "markdown",
   "metadata": {},
   "source": [
    " "
   ]
  }
 ],
 "metadata": {
  "kernelspec": {
   "display_name": "Python 3",
   "language": "python",
   "name": "python3"
  },
  "language_info": {
   "codemirror_mode": {
    "name": "ipython",
    "version": 3
   },
   "file_extension": ".py",
   "mimetype": "text/x-python",
   "name": "python",
   "nbconvert_exporter": "python",
   "pygments_lexer": "ipython3",
   "version": "3.11.6"
  },
  "otter": {
   "OK_FORMAT": false,
   "assignment_name": "06_abgabe1",
   "tests": {}
  }
 },
 "nbformat": 4,
 "nbformat_minor": 2
}
