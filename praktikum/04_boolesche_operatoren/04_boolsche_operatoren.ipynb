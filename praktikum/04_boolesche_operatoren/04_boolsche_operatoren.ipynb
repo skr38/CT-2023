{
 "cells": [
  {
   "cell_type": "code",
   "execution_count": null,
   "metadata": {
    "deletable": false,
    "editable": false
   },
   "outputs": [],
   "source": [
    "# Initialize Otter\n",
    "import otter\n",
    "grader = otter.Notebook(\"04_boolsche_operatoren.ipynb\")"
   ]
  },
  {
   "cell_type": "markdown",
   "metadata": {},
   "source": [
    "# Computational Thinking WS2023/24\n",
    "\n",
    "## Boolesche Operatoren\n",
    "\n",
    "**Autoren:** \n",
    "+ Prof. Benedikt Dietrich"
   ]
  },
  {
   "cell_type": "markdown",
   "metadata": {
    "deletable": false,
    "editable": false
   },
   "source": [
    "### Aufgabe 1 - Schaltjahr\n",
    "\n",
    "In dem von uns verwendeten *gregorianischen Kalender* handelt es sich um ein Schaltjahr, wenn\n",
    "\n",
    "1. die Jahreszahl durch vier ganzzahlig teilbar ist \n",
    "1. und die Jahreszahl *nicht* durch 100 teilbar ist.\n",
    "1. Ist die Jahreszahl durch 400 ganzzahlig teilbar handelt es sich entgegen der Regel 2 trotzdem um ein Schaltjahr.\n",
    "\n",
    "Schreiben Sie ein Programm, das prüft, ob es sich bei einer beliebigen Jahreszahl um ein Schaltjahr handelt oder nicht. Das Ergebnis soll in Form einer booleschen Variable namens `is_year_leap_year` gespeichert werden. \n",
    "\n",
    "Verändern Sie die folgende Funktion so, dass die Variable `is_year_leap_year` den Wert `True` hat, wenn es sich bei `year` um ein Schaltjahr handelt und `False`, wenn es sich nicht um ein Schaltjahr handelt. Verifizieren Sie Ihre Funktion mit Hilfe der weiter unten angegebenen Tests.\n",
    "\n",
    "*Hinweis:* Verwenden Sie keine Kontrollstrukturen (if, while, for, etc.), sondern nur arithmetische und boolesche Operatoren sowie Vergleichsoperatoren."
   ]
  },
  {
   "cell_type": "code",
   "execution_count": null,
   "metadata": {
    "tags": []
   },
   "outputs": [],
   "source": [
    "def is_leap_year(year):\n",
    "    is_year_leap_year = False\n",
    "    ...\n",
    "    \n",
    "    return is_year_leap_year"
   ]
  },
  {
   "cell_type": "code",
   "execution_count": null,
   "metadata": {
    "tags": []
   },
   "outputs": [],
   "source": [
    "assert(is_leap_year(2000) == True), \"Ihre Funktion ist für das Jahr 2000 nicht korrekt\"\n",
    "assert(is_leap_year(2020) == True), \"Ihre Funktion ist für das Jahr 2020 nicht korrekt\"\n",
    "assert(is_leap_year(2024) == True), \"Ihre Funktion ist für das Jahr 2024 nicht korrekt\"\n",
    "assert(is_leap_year(1900) == False), \"Ihre Funktion ist für das Jahr 1900 nicht korrekt\"\n",
    "assert(is_leap_year(2100) == False), \"Ihre Funktion ist für das Jahr 2100 nicht korrekt\"\n",
    "assert(is_leap_year(2021) == False), \"Ihre Funktion ist für das Jahr 2021 nicht korrekt\"\n",
    "assert(is_leap_year(1996) == True), \"Ihre Funktion ist für das Jahr 1996 nicht korrekt\"\n",
    "assert(is_leap_year(1999) == False), \"Ihre Funktion ist für das Jahr 1999 nicht korrekt\"\n",
    "assert(is_leap_year(1800) == False), \"Ihre Funktion ist für das Jahr 1800 nicht korrekt\"\n",
    "assert(is_leap_year(2400) == True), \"Ihre Funktion ist für das Jahr 2400 nicht korrekt\""
   ]
  },
  {
   "cell_type": "markdown",
   "metadata": {},
   "source": [
    "### Einschub Nutzereingaben\n",
    "\n",
    "Mit Hilfe der Funktion `input()` können Sie den Nutzer um eine Eingabe bitten. \n",
    "\n",
    "Vollziehen Sie folgende Codebeispiele nach, um zu verstehen, wie die Funktion zu nutzen ist."
   ]
  },
  {
   "cell_type": "code",
   "execution_count": null,
   "metadata": {},
   "outputs": [],
   "source": [
    "name = input(\"Bitte geben Sie Ihren Namen ein: \")\n",
    "print(f\"Vielen Dank {name}\")"
   ]
  },
  {
   "cell_type": "code",
   "execution_count": null,
   "metadata": {},
   "outputs": [],
   "source": [
    "alter = input(\"Bitte geben Sie Ihr Alter ein: \")\n",
    "print(f\"Sie sind {alter} Jahre jung.\")\n",
    "print(f\"Der Typ von alter ist: {type(alter)}\")\n",
    "alter_in_einem_jahr = alter + 1 # Schlägt fehl...\n",
    "print(f\"Heute in einem Jahr sind Sie {alter_in_einem_jahr} Jahre alt.\")"
   ]
  },
  {
   "cell_type": "markdown",
   "metadata": {
    "deletable": false,
    "editable": false
   },
   "source": [
    "### 2. Passwortprüfung\n",
    "\n",
    "Häufig wird bei der Eingabe eines neuen Passworts geprüft, ob das eingegebene Passwort den Sicherheitsrichtlinien entspricht. So eine Prüfung sollen Sie im Folgenden mit Hilfe von booleschen Operatoren umsetzen. \n",
    "\n",
    "Prüfen Sie die Nutzereingabe auf \n",
    "* mindestens eins der folgenden Sonderzeichen: !?-_.\n",
    "* minimale Passwortlänge: 8\n",
    "* Konsistenz zwischen der ersten und der zweiten Eingabe.\n",
    "\n",
    "Schreiben Sie das Ergebnis Ihrer Prüfung in die Variable `is_valid_password`. \n",
    "\n",
    "Finden Sie nun noch heraus, wie Sie mit Hilfe von `if` und `else` abhängig von dem in der Variable gespeicherten Wert entweder die eine oder die andere Nachricht ausgeben können.\n",
    "\n",
    "Hier eine Beispielausgabe:\n",
    "\n",
    "```text\n",
    "    Bitte geben Sie ein neues Passwort ein: abcde123\n",
    "    Bitte wiederholen Sie das neue Passwort: abcde123\n",
    "    Fehler: Das Passwort ist ungültig. Es enthält entweder keine Sonderzeichen, ist zu kurz oder die zwei Eingaben sind nicht konsistent.\n",
    "```\n",
    "\n",
    "Ein weiteres gültiges Beispiel:\n",
    "\n",
    "\n",
    "```text\n",
    "    Bitte geben Sie ein neues Passwort ein: abcde123!\n",
    "    Bitte wiederholen Sie das neue Passwort: abcde123!\n",
    "    Fehler: Das Passwort ist ungültig. Es enthält entweder keine Sonderzeichen, ist zu kurz oder die zwei Eingaben sind nicht konsistent.\n",
    "```\n",
    "\n"
   ]
  },
  {
   "cell_type": "code",
   "execution_count": null,
   "metadata": {
    "tags": []
   },
   "outputs": [],
   "source": [
    "is_letter_element_of_string = \"a\" in \"abc\"\n",
    "print(f\"Ergebnis: {is_letter_element_of_string}\")\n",
    "\n",
    "is_letter_element_of_string = \"d\" in \"abc\"\n",
    "print(f\"Ergebnis: {is_letter_element_of_string}\")"
   ]
  },
  {
   "cell_type": "code",
   "execution_count": null,
   "metadata": {
    "tags": []
   },
   "outputs": [],
   "source": [
    "my_string = \"abcd\"\n",
    "laenge_von_my_string = len(my_string)\n",
    "print(laenge_von_my_string)"
   ]
  },
  {
   "cell_type": "code",
   "execution_count": null,
   "metadata": {
    "tags": []
   },
   "outputs": [],
   "source": [
    "\n",
    "is_valid_password = False\n",
    "\n",
    "...\n"
   ]
  },
  {
   "cell_type": "markdown",
   "metadata": {
    "deletable": false,
    "editable": false
   },
   "source": [
    "### Aufgabe 3 - Heizungssteuerung"
   ]
  },
  {
   "cell_type": "markdown",
   "metadata": {
    "deletable": false,
    "editable": false
   },
   "source": [
    "Für die folgende Aufgabe müssen Sie das Paket `ipywidgets` mit folgendem Befehl installieren (innerhalb Ihrer Python Umgebung): \n",
    "\n",
    "```bash\n",
    "    pip install ipywidgets\n",
    "```\n",
    "\n",
    "Nach einem Neustart von VS Code sollten Sie die folgenden zwei Zeile ausführen können und ein User Interface zur Heizungssteuerung erscheinen."
   ]
  },
  {
   "cell_type": "code",
   "execution_count": null,
   "metadata": {
    "deletable": false,
    "editable": false
   },
   "outputs": [],
   "source": [
    "import configuration\n",
    "configuration.show_gui()"
   ]
  },
  {
   "cell_type": "markdown",
   "metadata": {
    "deletable": false,
    "editable": false
   },
   "source": [
    "Die Funktion `do_heat()` soll die konfigurierten Heizungseinstellungen zusammen mit den übergebenen Parametern verwenden, um eine Entscheidung zu treffen, ob geheizt werden soll oder nicht. \n",
    "\n",
    "Übergeben werden der Funktion als Parameter:\n",
    "\n",
    "* `weekday`: der aktuelle Wochentag als String, z.B. \"Dienstag\"\n",
    "* `hour_of_the_day`: Aktuelle Stunde, z.B. 10 für 10:49:33 Uhr\n",
    "* `current_temperature`: Aktuell gemessene Temperatur\n",
    "\n",
    "Sollte für den gegebenen Wochentag und die aktuelle Stunde laut Konfiguration Heizen gewünscht sein und die aktuelle Temperatur niedriger sein, als die gewünschte Soll-Temperatur, dann soll die Funktion `do_heat()` den Wert `True` zurückliefern (d.h. die Variable `heat` muss den Wert `True` haben). Die minimale Gebäudetemperatur darf niemals unterschritten werden.\n",
    "\n",
    "Die folgenden Beispiele zeigen, wie sie die Werte der vorgenommenen Konfiguration abfragen können."
   ]
  },
  {
   "cell_type": "code",
   "execution_count": null,
   "metadata": {
    "deletable": false,
    "editable": false
   },
   "outputs": [],
   "source": [
    "print(configuration.get_minimum_temperature())\n",
    "print(configuration.is_heating_desired(\"Mittwoch\"))\n",
    "print(configuration.get_starting_time(\"Mittwoch\"))\n",
    "print(configuration.get_end_time(\"Mittwoch\"))\n",
    "print(configuration.get_soll_temperature(\"Mittwoch\"))"
   ]
  },
  {
   "cell_type": "markdown",
   "metadata": {
    "deletable": false,
    "editable": false
   },
   "source": [
    "Erweitern Sie den folgenden Source Code so, dass die Variable `heat` den Wert `True` hat, wenn geheizt werden soll und `False`, falls nicht.\n",
    "\n",
    "*Hinweis:* Verwenden Sie nur boolesche Operatoren und Vergleichsoperatoren. Sie benötigen für die Lösung der Aufgabe keinerlei Kontrollstrukturen (if, while, for, ...)."
   ]
  },
  {
   "cell_type": "code",
   "execution_count": null,
   "metadata": {
    "tags": []
   },
   "outputs": [],
   "source": [
    "def do_heat(weekday, hour_of_the_day, current_temperature):\n",
    "    heat = False\n",
    "    ...\n",
    "    return heat\n",
    "\n",
    "print(do_heat(\"Donnerstag\", 6, 20))\n"
   ]
  },
  {
   "cell_type": "code",
   "execution_count": null,
   "metadata": {
    "tags": []
   },
   "outputs": [],
   "source": [
    "import matplotlib.pyplot as plt\n",
    "import numpy as np\n",
    "import datetime\n",
    "import matplotlib.dates as md\n",
    "import matplotlib.ticker as ticker\n",
    "\n",
    "\n",
    "for weekday in configuration.WOCHENTAGE:\n",
    "    # Simulate building temperature \n",
    "    temperature_loss_per_minute = 0.05 # sehr pessimistisch, aber für's Debuggen macht es dieser Wert einfacher\n",
    "    temperature_raise_per_minute = 0.2 # sehr optimistisch, aber für's Debuggen macht es dieser Wert einfacher\n",
    "    temperature_values = [configuration.get_minimum_temperature()]\n",
    "    minutes = np.arange(0, 1440, 1)\n",
    "    for minute in minutes:\n",
    "        heating_on = do_heat(weekday, minute // 60, temperature_values[-1])\n",
    "        temperature_values.append(temperature_values[-1] + temperature_raise_per_minute if heating_on else temperature_values[-1] - temperature_loss_per_minute)\n",
    "\n",
    "    # Create plot\n",
    "    hour_labels = [datetime.datetime(2023, 1, 1, 0, 0) + datetime.timedelta(minutes=int(ts)) for ts in minutes]\n",
    "    hour_labels = [dt.strftime('%H:%M') for dt in hour_labels]\n",
    "\n",
    "    fig, ax = plt.subplots()\n",
    "    ax.plot(hour_labels, temperature_values[:-1], linestyle='-')\n",
    "    ax.xaxis.set_major_locator(ticker.MultipleLocator(60))\n",
    "\n",
    "    plt.xticks(rotation=45)\n",
    "    ax.set_xlabel('Time of Day')\n",
    "    ax.set_ylabel('Temperature (°C)')\n",
    "    plt.title(f'Temperaturverlauf am {weekday}')\n",
    "    plt.tight_layout()\n",
    "    plt.show()\n"
   ]
  },
  {
   "cell_type": "markdown",
   "metadata": {
    "deletable": false,
    "editable": false
   },
   "source": [
    "### Aufgabe 4 (aus der Vorlesung von Informatik und Design)\n",
    "\n",
    "Eine Bewässerungsanlage soll nur dann bewässern, wenn \n",
    "\n",
    "* die Bodenfeuchtigkeit unter 40% liegt und der Sensor OK ist,\n",
    "* es vor 11 Uhr oder nach 15 Uhr ist und\n",
    "* im Tank noch Wasser vorhanden ist.\n",
    "\n",
    "Gegeben ist eine Funktion `do_water`, welcher folgende Parameter übergeben: \n",
    "\n",
    "* `moisture`: Bodenfeuchtigkeit in Prozent als ganze Zahl (0 bis 100)\n",
    "* `is_sensor_ok`: `True` falls der Sensor ordnungsgemäß funktioniert.\n",
    "* `hour_of_the_day`: aktuelle Stunde (z.B. 14 für 14:31:23 Uhr).\n",
    "* `is_water_in_tank`: boolesche Variable. `True` bedeutet, es ist noch Wasser im Tank. \n",
    "\n",
    "Verwenden Sie diese Parameter in der Funktion als wären es Variablen mit einem Ihnen unbekannten Wert.\n",
    "\n",
    "Ändern Sie die gegebene Funktion so ab, dass basierend auf den Parametern und dem Regelwerk in der Variable `do_water` entweder `True` oder `False` steht, wobei `True` natürlich bedeutet, dass bewässert werden soll. "
   ]
  },
  {
   "cell_type": "code",
   "execution_count": null,
   "metadata": {
    "tags": []
   },
   "outputs": [],
   "source": [
    "def do_water(moisture, is_sensor_ok, hour_of_the_day, is_water_in_tank):\n",
    "    do_water = False\n",
    "    \n",
    "    ...\n",
    "    return do_water"
   ]
  },
  {
   "cell_type": "markdown",
   "metadata": {
    "deletable": false,
    "editable": false
   },
   "source": [
    "Der folgende Code testet ihre Funktion auf verschiedene Kombinationen von Zuständen. Beachten Sie, dass die Tests nicht vollständig sind, sondern nur einen Teil der Funktionalität testen. \n",
    "\n",
    "Um die Tests auszuführen, führen Sie zuerst die Zelle mit Ihrer Funktion aus und danach die Zelle mit den Tests. Sollten Sie etwas an Ihrer Funktion ändern, müssen Sie beide Zellen erneut ausführen."
   ]
  },
  {
   "cell_type": "code",
   "execution_count": null,
   "metadata": {
    "deletable": false,
    "editable": false
   },
   "outputs": [],
   "source": [
    "# Bodenfeuchtigkeit\n",
    "assert do_water(30, True, 10, True) == True\n",
    "assert do_water(39, True, 10, True) == True\n",
    "assert do_water(40, True, 10, True) == False\n",
    "\n",
    "# Sensorzustand\n",
    "assert do_water(30, False, 10, True) == False\n",
    "assert do_water(39, False, 10, True) == False\n",
    "assert do_water(40, False, 10, True) == False\n",
    "\n",
    "# Uhrzeit\n",
    "assert do_water(35, True, 10, True) == True\n",
    "assert do_water(35, True, 11, True) == False\n",
    "assert do_water(35, True, 12, True) == False\n",
    "assert do_water(35, True, 13, True) == False\n",
    "assert do_water(35, True, 14, True) == False\n",
    "assert do_water(35, True, 15, True) == True\n",
    "assert do_water(35, True, 15, True) == True\n",
    "\n",
    "# Wassertank\n",
    "assert do_water(35, True, 10, False) == False\n",
    "assert do_water(35, True, 11, False) == False\n",
    "assert do_water(35, True, 12, False) == False\n",
    "assert do_water(35, True, 13, False) == False\n",
    "assert do_water(35, True, 14, False) == False\n",
    "assert do_water(35, True, 15, False) == False\n",
    "assert do_water(35, True, 15, False) == False"
   ]
  },
  {
   "cell_type": "markdown",
   "metadata": {
    "deletable": false,
    "editable": false
   },
   "source": [
    "Für wie viele verschiedene Fälle müsste die Funktion aufgerufen werden, um diese vollständig zu testen?"
   ]
  },
  {
   "cell_type": "code",
   "execution_count": null,
   "metadata": {
    "tags": []
   },
   "outputs": [],
   "source": [
    "..."
   ]
  },
  {
   "cell_type": "markdown",
   "metadata": {
    "deletable": false,
    "editable": false
   },
   "source": [
    "### Aufgabe 5 - Ternärer Operator\n",
    "\n",
    "Mit Hilfe des sogenannten *ternären Operators* können Sie in Python basierend auf einem booleschen Wert entweder einen Wert oder einen anderen zurückliefern. \n",
    "\n",
    "Die Syntax lautet: \n",
    "\n",
    "`a if condition else b`\n",
    "\n",
    "`a` wird zurückgeliefert, wenn `condition == True`. Ansonsten liefert der Ausdruck `b` zurück. Folgendes Beispiel zeigt, wie das verwendet werden kann: "
   ]
  },
  {
   "cell_type": "code",
   "execution_count": null,
   "metadata": {
    "deletable": false,
    "editable": false
   },
   "outputs": [],
   "source": [
    "condition = True\n",
    "a = 1 if condition else 2\n",
    "print(a)\n",
    "\n",
    "condition = False\n",
    "a = 1 if condition else 2\n",
    "print(a)"
   ]
  },
  {
   "cell_type": "markdown",
   "metadata": {
    "deletable": false,
    "editable": false
   },
   "source": [
    "Hier sind nun mehrere Teilaufgaben, die Sie mit Hilfe des ternären Operators lösen sollen:"
   ]
  },
  {
   "cell_type": "code",
   "execution_count": null,
   "metadata": {
    "tags": []
   },
   "outputs": [],
   "source": [
    "# Nutzen Sie den ternären Operator, um die größere von zwei Zahlen zurückzuliefern und das Ergebnis in c zu schreiben. \n",
    "# Es soll möglich sein im Code die Werte von a und b zu verändern.\n",
    "a = 10\n",
    "b = 15\n",
    "c = 0\n",
    "\n",
    "..."
   ]
  },
  {
   "cell_type": "code",
   "execution_count": null,
   "metadata": {
    "tags": []
   },
   "outputs": [],
   "source": [
    "# Nutzen Sie den ternären Operator, um den Variablennamen der größeren Zahl auszugeben. \n",
    "# Tätigen Sie dann eine Ausgabe in folgendem Format: \"Der Wert der Variable a ist größer als b\".\n",
    "# Tip: Schreiben Sie den Namen abhängig vom Wert als String in eine Variable. \n",
    "a = 10\n",
    "b = 15\n",
    "\n",
    "..."
   ]
  },
  {
   "cell_type": "code",
   "execution_count": null,
   "metadata": {
    "tags": []
   },
   "outputs": [],
   "source": [
    "# Fragen Sie den Nutzer nach seinem Alter. Geben Sie dann einen Eintrittspreis \n",
    "# abhängig vom Alter ab: Ist der Nutzer 18 oder älter soll er 10 € zahlen, ansonsten 3 €.\n",
    "# Nutzen Sie kein if, sondern nur den ternären Operator\n",
    "\n",
    "..."
   ]
  },
  {
   "cell_type": "markdown",
   "metadata": {
    "deletable": false,
    "editable": false
   },
   "source": [
    "---\n",
    "\n",
    "**Hinweis**: Durch Auswertung der folgenden Zelle werden alle Tests ausgeführt.\n",
    "Sie sollten das Notebook zuvor bis hier hin von oben nach unten ausgewertet haben.\n",
    "\n"
   ]
  },
  {
   "cell_type": "code",
   "execution_count": null,
   "metadata": {
    "deletable": false,
    "editable": false
   },
   "outputs": [],
   "source": [
    "grader.check_all()"
   ]
  }
 ],
 "metadata": {
  "kernelspec": {
   "display_name": "Python 3",
   "language": "python",
   "name": "python3"
  },
  "language_info": {
   "codemirror_mode": {
    "name": "ipython",
    "version": 3
   },
   "file_extension": ".py",
   "mimetype": "text/x-python",
   "name": "python",
   "nbconvert_exporter": "python",
   "pygments_lexer": "ipython3",
   "version": "3.10.12"
  },
  "otter": {
   "OK_FORMAT": false,
   "assignment_name": "04_boolesche_operatoren",
   "tests": {}
  }
 },
 "nbformat": 4,
 "nbformat_minor": 2
}
