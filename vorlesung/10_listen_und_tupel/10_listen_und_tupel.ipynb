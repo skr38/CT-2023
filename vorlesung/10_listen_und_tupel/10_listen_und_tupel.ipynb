{
 "cells": [
  {
   "cell_type": "code",
   "execution_count": null,
   "metadata": {
    "deletable": false,
    "editable": false
   },
   "outputs": [],
   "source": [
    "# Initialize Otter\n",
    "import otter\n",
    "grader = otter.Notebook(\"10_listen_und_tupel.ipynb\")"
   ]
  },
  {
   "cell_type": "markdown",
   "metadata": {},
   "source": [
    "# Computational Thinking - WS 2023/2024\n",
    "\n",
    "## Listen und Tupel\n",
    "\n",
    "Autor: Prof. Dr.-Ing. Benedikt Dietrich"
   ]
  },
  {
   "cell_type": "markdown",
   "metadata": {
    "deletable": false,
    "editable": false
   },
   "source": [
    "### Aufgabe 1 - Fünf Würfel\n",
    "\n",
    "Die Funktion `throw` im Modul `dice` wirft einen Würfel und gibt eine Zahl zwischen 1 und 6 zurück.\n",
    "\n",
    "Schreiben Sie ein Programm, dass den Würfel 5 mal wirft und die Würfe mit einem einzigen Befehl in folgendem Format ausgibt:\n",
    "\n",
    "```text\n",
    "    Sie haben gewürfelt: 5 3 6 3 2\n",
    "```\n",
    "\n",
    "Zusätzlich soll das Programm die durchschnittlich geworfenen Augen berechnen und ausgeben:\n",
    "\n",
    "```text\n",
    "    Ihre durchschnittliche Zahl an gewürfelten Augen beträgt: 3.8\n",
    "```\n",
    "\n",
    "*Hinweis:* Verwenden Sie zur Lösung zunächst keine Listen."
   ]
  },
  {
   "cell_type": "code",
   "execution_count": 6,
   "metadata": {
    "tags": []
   },
   "outputs": [
    {
     "name": "stdout",
     "output_type": "stream",
     "text": [
      "1\n",
      " Sie haben gewürfelt: 1 6 1 3 3\n"
     ]
    }
   ],
   "source": [
    "import dice\n",
    "\n",
    "# Beispiel, wie throw() aus dem Modul dice aufgerufen werden kann\n",
    "# print(dice.throw()) \n",
    "\n",
    "print (f' Sie haben gewürfelt: {\" \".join (str(dice.throw()) for i in range(5) ) }' )"
   ]
  },
  {
   "cell_type": "markdown",
   "metadata": {},
   "source": [
    "***"
   ]
  },
  {
   "cell_type": "markdown",
   "metadata": {
    "deletable": false,
    "editable": false
   },
   "source": [
    "### Aufgabe 2 - 1, 2 oder 3\n",
    "\n",
    "Gegeben ist eine Liste mit Zahlen. \n",
    "\n",
    "Wählen Sie mit Hilfe des Index Operators `[]` die Elemente so aus, dass die gewünschte Ausgabe erzeugt wird."
   ]
  },
  {
   "cell_type": "code",
   "execution_count": 8,
   "metadata": {
    "tags": []
   },
   "outputs": [],
   "source": [
    "liste_mit_zahlen = [1, 2, 3, 4, 5, 6, 7, 8, 9]"
   ]
  },
  {
   "cell_type": "code",
   "execution_count": 9,
   "metadata": {
    "tags": []
   },
   "outputs": [
    {
     "data": {
      "text/plain": [
       "5"
      ]
     },
     "execution_count": 9,
     "metadata": {},
     "output_type": "execute_result"
    }
   ],
   "source": [
    "# 5\n",
    "liste_mit_zahlen[4]"
   ]
  },
  {
   "cell_type": "code",
   "execution_count": null,
   "metadata": {
    "tags": []
   },
   "outputs": [],
   "source": [
    "# 9\n",
    "liste_mit_zahlen[8]"
   ]
  },
  {
   "cell_type": "code",
   "execution_count": 10,
   "metadata": {
    "tags": []
   },
   "outputs": [
    {
     "data": {
      "text/plain": [
       "[1, 2, 3]"
      ]
     },
     "execution_count": 10,
     "metadata": {},
     "output_type": "execute_result"
    }
   ],
   "source": [
    "# 1, 2, 3\n",
    "liste_mit_zahlen[:3]"
   ]
  },
  {
   "cell_type": "code",
   "execution_count": 11,
   "metadata": {
    "tags": []
   },
   "outputs": [
    {
     "data": {
      "text/plain": [
       "[4, 5, 6]"
      ]
     },
     "execution_count": 11,
     "metadata": {},
     "output_type": "execute_result"
    }
   ],
   "source": [
    "# 4, 5, 6\n",
    "liste_mit_zahlen[3:6]"
   ]
  },
  {
   "cell_type": "code",
   "execution_count": 12,
   "metadata": {
    "tags": []
   },
   "outputs": [
    {
     "data": {
      "text/plain": [
       "[2, 4, 6, 8]"
      ]
     },
     "execution_count": 12,
     "metadata": {},
     "output_type": "execute_result"
    }
   ],
   "source": [
    "# 2, 4, 6, 8\n",
    "liste_mit_zahlen[1:9:2]"
   ]
  },
  {
   "cell_type": "markdown",
   "metadata": {},
   "source": [
    "***"
   ]
  },
  {
   "cell_type": "markdown",
   "metadata": {
    "deletable": false,
    "editable": false
   },
   "source": [
    "### Aufgabe 3 - Der Würfler\n",
    "\n",
    "Schreiben Sie eine Funktion `wuerfler()`. Die Funktion soll eine Liste mit `n` Würfelergebnissen erzeugen und diese zurückliefern. Die Anzahl `n` der gewünschten Würfelergebnisse soll der Funktion als Parameter übergeben werden. \n",
    "\n",
    "Schreiben Sie eine weitere Funktion `print_wuerfelergebnisse`, welcher die Liste übergeben werden kann. Die Funktion soll die Liste in folgendem Format ausgeben:\n",
    "\n",
    "```text\n",
    "   Wurf 1: 3\n",
    "   Wurf 2: 6\n",
    "   Wurf ...\n",
    "```\n",
    "\n",
    "Nutzen Sie für die Ausgabe `enumerate()`.\n"
   ]
  },
  {
   "cell_type": "code",
   "execution_count": 67,
   "metadata": {
    "tags": []
   },
   "outputs": [
    {
     "name": "stdout",
     "output_type": "stream",
     "text": [
      "[4, 1, 3, 3, 5, 3, 5, 2, 1, 1, 3, 1, 5, 2, 5, 1, 1, 5, 5, 4, 1, 2, 4, 3, 5, 5, 3, 3, 5, 1, 6, 6, 3, 6, 6, 5, 2, 3, 4, 6, 2, 5]\n",
      "Wurf 1: 4\n",
      "Wurf 2: 1\n",
      "Wurf 3: 3\n",
      "Wurf 4: 3\n",
      "Wurf 5: 5\n",
      "Wurf 6: 3\n",
      "Wurf 7: 5\n",
      "Wurf 8: 2\n",
      "Wurf 9: 1\n",
      "Wurf 10: 1\n",
      "Wurf 11: 3\n",
      "Wurf 12: 1\n",
      "Wurf 13: 5\n",
      "Wurf 14: 2\n",
      "Wurf 15: 5\n",
      "Wurf 16: 1\n",
      "Wurf 17: 1\n",
      "Wurf 18: 5\n",
      "Wurf 19: 5\n",
      "Wurf 20: 4\n",
      "Wurf 21: 1\n",
      "Wurf 22: 2\n",
      "Wurf 23: 4\n",
      "Wurf 24: 3\n",
      "Wurf 25: 5\n",
      "Wurf 26: 5\n",
      "Wurf 27: 3\n",
      "Wurf 28: 3\n",
      "Wurf 29: 5\n",
      "Wurf 30: 1\n",
      "Wurf 31: 6\n",
      "Wurf 32: 6\n",
      "Wurf 33: 3\n",
      "Wurf 34: 6\n",
      "Wurf 35: 6\n",
      "Wurf 36: 5\n",
      "Wurf 37: 2\n",
      "Wurf 38: 3\n",
      "Wurf 39: 4\n",
      "Wurf 40: 6\n",
      "Wurf 41: 2\n",
      "Wurf 42: 5\n",
      "[4, 1, 3, 3, 5, 3, 5, 2, 1, 1, 3, 1, 5, 2, 5, 1, 1, 5, 5, 4, 1, 2, 4, 3, 5, 5, 3, 3, 5, 1, 6, 6, 3, 6, 6, 5, 2, 3, 4, 6, 2]\n"
     ]
    },
    {
     "data": {
      "text/plain": [
       "[4,\n",
       " 1,\n",
       " 3,\n",
       " 3,\n",
       " 5,\n",
       " 3,\n",
       " 5,\n",
       " 2,\n",
       " 1,\n",
       " 1,\n",
       " 3,\n",
       " 1,\n",
       " 5,\n",
       " 2,\n",
       " 5,\n",
       " 1,\n",
       " 1,\n",
       " 5,\n",
       " 5,\n",
       " 4,\n",
       " 1,\n",
       " 2,\n",
       " 4,\n",
       " 3,\n",
       " 5,\n",
       " 5,\n",
       " 3,\n",
       " 3,\n",
       " 5,\n",
       " 1,\n",
       " 6,\n",
       " 6,\n",
       " 3,\n",
       " 6,\n",
       " 6,\n",
       " 5,\n",
       " 2,\n",
       " 3,\n",
       " 4,\n",
       " 6,\n",
       " 2]"
      ]
     },
     "execution_count": 67,
     "metadata": {},
     "output_type": "execute_result"
    }
   ],
   "source": [
    "# import dice # Bibliothek dice importieren\n",
    "\n",
    "# Beispielcode, für einen Würfelwurf\n",
    "#print(f\"Sie haben gewürfelt: {dice.throw()}\")\n",
    "\n",
    " # _list.append({dice.throw()} for i in range (n))\n",
    "    # return _list\n",
    "\n",
    "import dice\n",
    "\n",
    "def wuerfler(n):\n",
    "    '''Funktion die n mal würfelt'''\n",
    "    _list = []\n",
    "    for i in range(n):\n",
    "        _list.append(int(dice.throw()))\n",
    "    return _list\n",
    "\n",
    "\n",
    "def print_wuerfelergebnisse(ergebnisliste):\n",
    "    '''Funktion die Würfelergebnisse druckt'''\n",
    "    # for index, value in enumerate(ergebnisliste):\n",
    "    #     print(f'Wurf {index + 1}: {value}') \n",
    "    #erg = [ergebnisliste[i] for i in range(len(ergebnisliste))]\n",
    "    #print( (f'Wurf {index + 1}: {value}') for index, value in enumerate(ergebnisliste) )\n",
    "    print (\"\\n\".join((f'Wurf {index +1}: {value}') for index, value in enumerate(ergebnisliste) ) )\n",
    "    #(f'Wurf {index + 1}: \n",
    "\n",
    "    # #return \"\\n\".join(map(str, self.__products))  \n",
    "        #return \"\\n\".join( [(f'{self.__products.index(product) + 1}) {str(product)}') for product in self.__products] )\n",
    "\n",
    "\n",
    "liste = wuerfler(42)\n",
    "print(liste)\n",
    "print_wuerfelergebnisse(liste)\n",
    "liste.pop()\n",
    "print(liste)\n",
    "list(map(int, liste))"
   ]
  },
  {
   "cell_type": "markdown",
   "metadata": {
    "deletable": false,
    "editable": false
   },
   "source": [
    "### Aufgabe 4 - Comprehensions\n",
    "\n",
    "**Wichtig:** Führen Sie zunächst diese Zelle aus, die eine Liste mit 10 Würfelwürfen erzeugt"
   ]
  },
  {
   "cell_type": "code",
   "execution_count": 43,
   "metadata": {
    "deletable": false,
    "editable": false
   },
   "outputs": [
    {
     "name": "stdout",
     "output_type": "stream",
     "text": [
      "[4, 5, 5, 5, 6, 6, 3, 4, 3, 4]\n"
     ]
    }
   ],
   "source": [
    "import dice\n",
    "\n",
    "numbers = []\n",
    "for i in range(10):\n",
    "    numbers.append(dice.throw())\n",
    "\n",
    "print(numbers)"
   ]
  },
  {
   "cell_type": "markdown",
   "metadata": {
    "deletable": false,
    "editable": false
   },
   "source": [
    "Lesen und verstehen Sie nun, was folgende Programme machen. Vereinfachen Sie dann die Programme mit Hilfe von List Comprehension."
   ]
  },
  {
   "cell_type": "code",
   "execution_count": 44,
   "metadata": {
    "tags": []
   },
   "outputs": [
    {
     "name": "stdout",
     "output_type": "stream",
     "text": [
      "[6, 6, 6, 6, 6, 6]\n"
     ]
    }
   ],
   "source": [
    "even_numbers = []\n",
    "for i in numbers:\n",
    "    if (numbers[i] % 2 == 0):\n",
    "        even_numbers.append(numbers[i])\n",
    "\n",
    "\n",
    "print(even_numbers)"
   ]
  },
  {
   "cell_type": "code",
   "execution_count": 45,
   "metadata": {
    "tags": []
   },
   "outputs": [
    {
     "name": "stdout",
     "output_type": "stream",
     "text": [
      "[6, 6, 6, 6, 0, 0, 0, 6, 0, 6]\n"
     ]
    }
   ],
   "source": [
    "zero_or_six = []\n",
    "for i in numbers:\n",
    "    if numbers[i] == 6:\n",
    "        zero_or_six.append(6)\n",
    "    else:\n",
    "        zero_or_six.append(0)\n",
    "\n",
    "\n",
    "print(zero_or_six)"
   ]
  }
 ],
 "metadata": {
  "kernelspec": {
   "display_name": "Python 3",
   "language": "python",
   "name": "python3"
  },
  "language_info": {
   "codemirror_mode": {
    "name": "ipython",
    "version": 3
   },
   "file_extension": ".py",
   "mimetype": "text/x-python",
   "name": "python",
   "nbconvert_exporter": "python",
   "pygments_lexer": "ipython3",
   "version": "3.11.6"
  },
  "otter": {
   "OK_FORMAT": true,
   "assignment_name": "10_listen_und_tupel",
   "tests": {}
  }
 },
 "nbformat": 4,
 "nbformat_minor": 2
}
