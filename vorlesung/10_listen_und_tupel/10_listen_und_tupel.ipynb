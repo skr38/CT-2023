{
 "cells": [
  {
   "cell_type": "code",
   "execution_count": null,
   "metadata": {
    "deletable": false,
    "editable": false
   },
   "outputs": [],
   "source": [
    "# Initialize Otter\n",
    "import otter\n",
    "grader = otter.Notebook(\"10_listen_und_tupel.ipynb\")"
   ]
  },
  {
   "cell_type": "markdown",
   "metadata": {},
   "source": [
    "# Computational Thinking - WS 2023/2024\n",
    "\n",
    "## Listen und Tupel\n",
    "\n",
    "Autor: Prof. Dr.-Ing. Benedikt Dietrich"
   ]
  },
  {
   "cell_type": "markdown",
   "metadata": {
    "deletable": false,
    "editable": false
   },
   "source": [
    "### Aufgabe 1 - Fünf Würfel\n",
    "\n",
    "Die Funktion `throw` im Modul `dice` wirft einen Würfel und gibt eine Zahl zwischen 1 und 6 zurück.\n",
    "\n",
    "Schreiben Sie ein Programm, dass den Würfel 5 mal wirft und die Würfe mit einem einzigen Befehl in folgendem Format ausgibt:\n",
    "\n",
    "```text\n",
    "    Sie haben gewürfelt: 5 3 6 3 2\n",
    "```\n",
    "\n",
    "Zusätzlich soll das Programm die durchschnittlich geworfenen Augen berechnen und ausgeben:\n",
    "\n",
    "```text\n",
    "    Ihre durchschnittliche Zahl an gewürfelten Augen beträgt: 3.8\n",
    "```\n",
    "\n",
    "*Hinweis:* Verwenden Sie zur Lösung zunächst keine Listen."
   ]
  },
  {
   "cell_type": "code",
   "execution_count": null,
   "metadata": {
    "tags": []
   },
   "outputs": [],
   "source": [
    "import dice\n",
    "\n",
    "# Beispiel, wie throw() aus dem Modul dice aufgerufen werden kann\n",
    "print(dice.throw()) \n",
    "\n",
    "..."
   ]
  },
  {
   "cell_type": "markdown",
   "metadata": {},
   "source": [
    "***"
   ]
  },
  {
   "cell_type": "markdown",
   "metadata": {
    "deletable": false,
    "editable": false
   },
   "source": [
    "### Aufgabe 2 - 1, 2 oder 3\n",
    "\n",
    "Gegeben ist eine Liste mit Zahlen. \n",
    "\n",
    "Wählen Sie mit Hilfe des Index Operators `[]` die Elemente so aus, dass die gewünschte Ausgabe erzeugt wird."
   ]
  },
  {
   "cell_type": "code",
   "execution_count": null,
   "metadata": {
    "tags": []
   },
   "outputs": [],
   "source": [
    "liste_mit_zahlen = [1, 2, 3, 4, 5, 6, 7, 8, 9]"
   ]
  },
  {
   "cell_type": "code",
   "execution_count": null,
   "metadata": {
    "tags": []
   },
   "outputs": [],
   "source": [
    "# 5\n",
    "..."
   ]
  },
  {
   "cell_type": "code",
   "execution_count": null,
   "metadata": {
    "tags": []
   },
   "outputs": [],
   "source": [
    "# 9\n",
    "..."
   ]
  },
  {
   "cell_type": "code",
   "execution_count": null,
   "metadata": {
    "tags": []
   },
   "outputs": [],
   "source": [
    "# 1, 2, 3\n",
    "..."
   ]
  },
  {
   "cell_type": "code",
   "execution_count": null,
   "metadata": {
    "tags": []
   },
   "outputs": [],
   "source": [
    "# 4, 5, 6\n",
    "..."
   ]
  },
  {
   "cell_type": "code",
   "execution_count": null,
   "metadata": {
    "tags": []
   },
   "outputs": [],
   "source": [
    "# 2, 4, 6, 8\n",
    "..."
   ]
  },
  {
   "cell_type": "markdown",
   "metadata": {},
   "source": [
    "***"
   ]
  },
  {
   "cell_type": "markdown",
   "metadata": {
    "deletable": false,
    "editable": false
   },
   "source": [
    "### Aufgabe 3 - Der Würfler\n",
    "\n",
    "Schreiben Sie eine Funktion `wuerfler()`. Die Funktion soll eine Liste mit `n` Würfelergebnissen erzeugen und diese zurückliefern. Die Anzahl `n` der gewünschten Würfelergebnisse soll der Funktion als Parameter übergeben werden. \n",
    "\n",
    "Schreiben Sie eine weitere Funktion `print_wuerfelergebnisse`, welcher die Liste übergeben werden kann. Die Funktion soll die Liste in folgendem Format ausgeben:\n",
    "\n",
    "```text\n",
    "   Wurf 1: 3\n",
    "   Wurf 2: 6\n",
    "   Wurf ...\n",
    "```\n",
    "\n",
    "Nutzen Sie für die Ausgabe `enumerate()`.\n"
   ]
  },
  {
   "cell_type": "code",
   "execution_count": null,
   "metadata": {
    "tags": []
   },
   "outputs": [],
   "source": [
    "import dice # Bibliothek dice importieren\n",
    "\n",
    "# Beispielcode, für einen Würfelwurf\n",
    "print(f\"Sie haben gewürfelt: {dice.throw()}\")\n",
    "\n",
    "...\n",
    "\n",
    "liste = wuerfler(42)\n",
    "print_wuerfelergebnisse(liste)"
   ]
  },
  {
   "cell_type": "markdown",
   "metadata": {
    "deletable": false,
    "editable": false
   },
   "source": [
    "### Aufgabe 4 - Comprehensions\n",
    "\n",
    "**Wichtig:** Führen Sie zunächst diese Zelle aus, die eine Liste mit 10 Würfelwürfen erzeugt"
   ]
  },
  {
   "cell_type": "code",
   "execution_count": null,
   "metadata": {
    "deletable": false,
    "editable": false
   },
   "outputs": [],
   "source": [
    "import dice\n",
    "\n",
    "numbers = []\n",
    "for i in range(10):\n",
    "    numbers.append(dice.throw())\n",
    "\n",
    "print(numbers)"
   ]
  },
  {
   "cell_type": "markdown",
   "metadata": {
    "deletable": false,
    "editable": false
   },
   "source": [
    "Lesen und verstehen Sie nun, was folgende Programme machen. Vereinfachen Sie dann die Programme mit Hilfe von List Comprehension."
   ]
  },
  {
   "cell_type": "code",
   "execution_count": null,
   "metadata": {
    "tags": []
   },
   "outputs": [],
   "source": [
    "even_numbers = []\n",
    "for i in numbers:\n",
    "    if (numbers[i] % 2 == 0):\n",
    "        even_numbers.append(numbers[i])\n",
    "\n",
    "\n",
    "print(even_numbers)"
   ]
  },
  {
   "cell_type": "code",
   "execution_count": null,
   "metadata": {
    "tags": []
   },
   "outputs": [],
   "source": [
    "zero_or_six = []\n",
    "for i in numbers:\n",
    "    if numbers[i] == 6:\n",
    "        zero_or_six.append(6)\n",
    "    else:\n",
    "        zero_or_six.append(0)\n",
    "\n",
    "\n",
    "print(zero_or_six)"
   ]
  }
 ],
 "metadata": {
  "kernelspec": {
   "display_name": "Python 3",
   "language": "python",
   "name": "python3"
  },
  "language_info": {
   "codemirror_mode": {
    "name": "ipython",
    "version": 3
   },
   "file_extension": ".py",
   "mimetype": "text/x-python",
   "name": "python",
   "nbconvert_exporter": "python",
   "pygments_lexer": "ipython3",
   "version": "3.10.12"
  },
  "otter": {
   "OK_FORMAT": true,
   "assignment_name": "10_listen_und_tupel",
   "tests": {}
  }
 },
 "nbformat": 4,
 "nbformat_minor": 2
}
