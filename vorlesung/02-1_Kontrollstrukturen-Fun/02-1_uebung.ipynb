{
 "cells": [
  {
   "cell_type": "markdown",
   "metadata": {},
   "source": [
    "# Vorlesung \"Computational Thinking\" \n",
    "## Uebung zu Kontrollstrukturen\n",
    "#### Prof. Dr.-Ing. Martin Hobelsberger"
   ]
  },
  {
   "cell_type": "markdown",
   "metadata": {},
   "source": [
    "***\n",
    "### Lernziele dieser Einheit\n",
    "* Dateien Öffnen/Lesen/Schreiben\n",
    "* Sequenzielle Datentypen und ausgewählte Operationen auf diese\n",
    "\n",
    "\n",
    "#### Was Sie bisher schon Wissen/Können sollten\n",
    "\n",
    "* Variablen\n",
    "* Einfache Datentypen\n",
    "* Arithmetische Ausdrücke und Vergleiche\n",
    "* Kontrollstrukturen\n",
    "***"
   ]
  },
  {
   "cell_type": "markdown",
   "metadata": {},
   "source": [
    "## Wiederholung zu Kontrollstrukturen - Ein Beispiel\n",
    "\n",
    "Wir wurden beauftragt einen [Datensatz wirrer Kreaturen](https://www.kaggle.com/abcsds/pokemon/notebooks) zu analysieren. Dieser Datensatz ist zu umfangreich um mit \"der Hand\" analysiert zu werden. Um aber Analysen darauf durchzuführen müssen wir diesen zuallererst [öffnen](https://docs.python.org/3/library/functions.html#open) und einlesen. "
   ]
  },
  {
   "cell_type": "markdown",
   "metadata": {},
   "source": [
    "### Exkurs: Zugriff auf Dateien (Files)"
   ]
  },
  {
   "cell_type": "markdown",
   "metadata": {},
   "source": [
    "```shell\n",
    "\\\n",
    "|\n",
    "|--data\\\n",
    "|  |\n",
    "|  |-- hallowelt.txt\n",
    "|  |-- pokemon.csv\n",
    "|\n",
    "|--img\n",
    "|  |\n",
    "|  |-- bulbasaur.png\n",
    "```"
   ]
  },
  {
   "cell_type": "code",
   "execution_count": 9,
   "metadata": {},
   "outputs": [
    {
     "data": {
      "text/plain": [
       "'Hallo Welt!'"
      ]
     },
     "execution_count": 9,
     "metadata": {},
     "output_type": "execute_result"
    }
   ],
   "source": [
    "# lesen/schreiben in datei hallowelt.txt\n",
    "\n",
    "reader = open('data/hallowelt.txt', 'r')\n",
    "\n",
    "# writer = open('data/hallowelt.txt', 'w')\n",
    "# writer.write('Hallo CT 1\\n')\n",
    "# writer.write('Hallo CT 2\\n')\n",
    "# writer.close()\n",
    "\n",
    "# for line in reader:\n",
    "#     print(line)\n",
    "# reader.close()"
   ]
  },
  {
   "cell_type": "code",
   "execution_count": null,
   "metadata": {},
   "outputs": [],
   "source": [
    "# Files öffnen, lesen, schreiben, schließen\n",
    "\n",
    "reader = open('data\\hallowelt.txt', 'r')\n",
    "print(reader.read())\n",
    "reader.close()\n",
    "\n",
    "writer = open('data\\hallowelt.txt', 'w')\n",
    "writer.write('Hallo Welt!\\n')\n",
    "writer.write('Hallo Welt2!\\n')\n",
    "writer.close()\n",
    "\n",
    "reader = open('data\\hallowelt.txt', 'r')\n",
    "for line in reader:\n",
    "    print(line)\n",
    "reader.close()"
   ]
  },
  {
   "cell_type": "code",
   "execution_count": null,
   "metadata": {},
   "outputs": [],
   "source": [
    "with open('data\\hallowelt.txt') as reader:\n",
    "    print(reader.readline())"
   ]
  },
  {
   "cell_type": "markdown",
   "metadata": {},
   "source": [
    "<span style='color:blue '> **Homework:** </span>\n",
    "Lesen/Schreiben Sie in eine Datei *name.txt* Ihren Namen. Experimentieren Sie mit den verschiedenen Parametern `r, w, a, b` und diskutieren Sie diese mit Ihrer/Ihrem Teampartnerin/Teampartner."
   ]
  },
  {
   "cell_type": "markdown",
   "metadata": {},
   "source": [
    "Da es sich bei dem Datensatz um \"Comma Separeted Values\" (CSV) Daten handelt nutzen wir hierzu eine von Python [zur Verfügung gestellte Bibliothek](https://docs.python.org/3/library/csv.html)."
   ]
  },
  {
   "cell_type": "code",
   "execution_count": null,
   "metadata": {},
   "outputs": [],
   "source": [
    "# CSV Einlesen\n",
    "import csv\n",
    "\n",
    "with open('data/pokemon.csv', newline='') as f:\n",
    "    creatures = csv.reader(f)\n",
    "    for row in creatures: \n",
    "        print(row)"
   ]
  },
  {
   "cell_type": "code",
   "execution_count": null,
   "metadata": {},
   "outputs": [],
   "source": [
    "with open('data/pokemon.csv', newline='') as f:\n",
    "    creatures = csv.reader(f)\n",
    "    header = next(creatures, None)\n",
    "    for zeile in creatures:\n",
    "        if zeile[1]=='Bulbasaur':\n",
    "            creature = zeile[:]\n",
    "            print(zeile)\n",
    "            break\n",
    "        else:\n",
    "            continue\n",
    "\n",
    "            \n",
    "Bulbasaur = list(zip(header,creature))\n",
    "print(Bulbasaur)\n",
    "\n",
    "\n",
    "# index = list(range(5))\n",
    "# index\n",
    "# zeichen = list('abcd')\n",
    "# list(zip(index,zeichen))\n",
    "\n",
    "# for i,z in zip(index,zeichen):\n",
    "#     print(f'An Index {i} steht Zeichen {z}')\n",
    "\n",
    "\n",
    "for header,element in Bulbasaur:\n",
    "    if header == 'Attack':\n",
    "        print(f'Der Bulbasaur hat einen Angriffswert von {element}')\n",
    "    else:\n",
    "        continue"
   ]
  },
  {
   "cell_type": "code",
   "execution_count": null,
   "metadata": {},
   "outputs": [],
   "source": [
    "# Datensatz mit dem Modul Pandas einlesen --> Eigene Vorlesung dazu später im Semester\n",
    "\n",
    "import pandas as pd\n",
    "df = pd.read_csv('data\\pokemon.csv', nrows=100)\n",
    "df[:50]"
   ]
  }
 ],
 "metadata": {
  "kernelspec": {
   "display_name": "Python 3.10.2 64-bit",
   "language": "python",
   "name": "python3"
  },
  "language_info": {
   "codemirror_mode": {
    "name": "ipython",
    "version": 3
   },
   "file_extension": ".py",
   "mimetype": "text/x-python",
   "name": "python",
   "nbconvert_exporter": "python",
   "pygments_lexer": "ipython3",
   "version": "3.11.2"
  },
  "vscode": {
   "interpreter": {
    "hash": "e7ccb2a435b656723dafd2fb88eb02b6891256ab8b77d2cf3044cea9811453d0"
   }
  }
 },
 "nbformat": 4,
 "nbformat_minor": 2
}
