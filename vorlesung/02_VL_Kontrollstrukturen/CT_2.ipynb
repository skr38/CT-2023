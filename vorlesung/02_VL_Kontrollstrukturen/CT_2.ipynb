{
 "cells": [
  {
   "cell_type": "code",
   "execution_count": 12,
   "metadata": {},
   "outputs": [
    {
     "ename": "FileNotFoundError",
     "evalue": "[Errno 2] No such file or directory: 'control-structures.ipynb'",
     "output_type": "error",
     "traceback": [
      "\u001b[0;31m---------------------------------------------------------------------------\u001b[0m",
      "\u001b[0;31mAttributeError\u001b[0m                            Traceback (most recent call last)",
      "File \u001b[0;32m~/Library/Python/3.11/lib/python/site-packages/nbformat/__init__.py:166\u001b[0m, in \u001b[0;36mread\u001b[0;34m(fp, as_version, capture_validation_error, **kwargs)\u001b[0m\n\u001b[1;32m    165\u001b[0m \u001b[39mtry\u001b[39;00m:\n\u001b[0;32m--> 166\u001b[0m     buf \u001b[39m=\u001b[39m fp\u001b[39m.\u001b[39;49mread()\n\u001b[1;32m    167\u001b[0m \u001b[39mexcept\u001b[39;00m \u001b[39mAttributeError\u001b[39;00m:\n",
      "\u001b[0;31mAttributeError\u001b[0m: 'str' object has no attribute 'read'",
      "\nDuring handling of the above exception, another exception occurred:\n",
      "\u001b[0;31mFileNotFoundError\u001b[0m                         Traceback (most recent call last)",
      "\u001b[1;32m/Users/mhobelsb/Library/CloudStorage/Dropbox/02_HM/02_Vorlesungen/12_Computational-Thinking/WS_2023/ct_ws2023_students/ct_ws2023_students/vorlesung/02_VL_Kontrollstrukturen/CT_2.ipynb Zelle 1\u001b[0m line \u001b[0;36m3\n\u001b[1;32m      <a href='vscode-notebook-cell:/Users/mhobelsb/Library/CloudStorage/Dropbox/02_HM/02_Vorlesungen/12_Computational-Thinking/WS_2023/ct_ws2023_students/ct_ws2023_students/vorlesung/02_VL_Kontrollstrukturen/CT_2.ipynb#W0sZmlsZQ%3D%3D?line=0'>1</a>\u001b[0m \u001b[39m# Initialize Otter\u001b[39;00m\n\u001b[1;32m      <a href='vscode-notebook-cell:/Users/mhobelsb/Library/CloudStorage/Dropbox/02_HM/02_Vorlesungen/12_Computational-Thinking/WS_2023/ct_ws2023_students/ct_ws2023_students/vorlesung/02_VL_Kontrollstrukturen/CT_2.ipynb#W0sZmlsZQ%3D%3D?line=1'>2</a>\u001b[0m \u001b[39mimport\u001b[39;00m \u001b[39motter\u001b[39;00m\n\u001b[0;32m----> <a href='vscode-notebook-cell:/Users/mhobelsb/Library/CloudStorage/Dropbox/02_HM/02_Vorlesungen/12_Computational-Thinking/WS_2023/ct_ws2023_students/ct_ws2023_students/vorlesung/02_VL_Kontrollstrukturen/CT_2.ipynb#W0sZmlsZQ%3D%3D?line=2'>3</a>\u001b[0m grader \u001b[39m=\u001b[39m otter\u001b[39m.\u001b[39;49mNotebook(\u001b[39m\"\u001b[39;49m\u001b[39mcontrol-structures.ipynb\u001b[39;49m\u001b[39m\"\u001b[39;49m)\n",
      "File \u001b[0;32m/Library/Frameworks/Python.framework/Versions/3.11/lib/python3.11/site-packages/otter/check/utils.py:217\u001b[0m, in \u001b[0;36mlogs_event.<locals>.event_logger\u001b[0;34m(wrapped, self, args, kwargs)\u001b[0m\n\u001b[1;32m    215\u001b[0m \u001b[39mexcept\u001b[39;00m \u001b[39mException\u001b[39;00m \u001b[39mas\u001b[39;00m e:\n\u001b[1;32m    216\u001b[0m     \u001b[39mself\u001b[39m\u001b[39m.\u001b[39m_log_event(event_type, success\u001b[39m=\u001b[39m\u001b[39mFalse\u001b[39;00m, error\u001b[39m=\u001b[39me)\n\u001b[0;32m--> 217\u001b[0m     \u001b[39mraise\u001b[39;00m e\n\u001b[1;32m    219\u001b[0m \u001b[39mif\u001b[39;00m ret \u001b[39mis\u001b[39;00m \u001b[39mNone\u001b[39;00m:\n\u001b[1;32m    220\u001b[0m     ret \u001b[39m=\u001b[39m LoggedEventReturnValue(\u001b[39mNone\u001b[39;00m)\n",
      "File \u001b[0;32m/Library/Frameworks/Python.framework/Versions/3.11/lib/python3.11/site-packages/otter/check/utils.py:213\u001b[0m, in \u001b[0;36mlogs_event.<locals>.event_logger\u001b[0;34m(wrapped, self, args, kwargs)\u001b[0m\n\u001b[1;32m    208\u001b[0m \u001b[39m\u001b[39m\u001b[39m\"\"\"\u001b[39;00m\n\u001b[1;32m    209\u001b[0m \u001b[39mRuns a method, catching any errors and logging the call. Returns the unwrapped return value\u001b[39;00m\n\u001b[1;32m    210\u001b[0m \u001b[39mof the wrapped function.\u001b[39;00m\n\u001b[1;32m    211\u001b[0m \u001b[39m\"\"\"\u001b[39;00m\n\u001b[1;32m    212\u001b[0m \u001b[39mtry\u001b[39;00m:\n\u001b[0;32m--> 213\u001b[0m     ret: Optional[LoggedEventReturnValue[T]] \u001b[39m=\u001b[39m wrapped(\u001b[39m*\u001b[39;49margs, \u001b[39m*\u001b[39;49m\u001b[39m*\u001b[39;49mkwargs)\n\u001b[1;32m    215\u001b[0m \u001b[39mexcept\u001b[39;00m \u001b[39mException\u001b[39;00m \u001b[39mas\u001b[39;00m e:\n\u001b[1;32m    216\u001b[0m     \u001b[39mself\u001b[39m\u001b[39m.\u001b[39m_log_event(event_type, success\u001b[39m=\u001b[39m\u001b[39mFalse\u001b[39;00m, error\u001b[39m=\u001b[39me)\n",
      "File \u001b[0;32m/Library/Frameworks/Python.framework/Versions/3.11/lib/python3.11/site-packages/otter/check/notebook.py:144\u001b[0m, in \u001b[0;36mNotebook.__init__\u001b[0;34m(self, nb_path, tests_dir, tests_url_prefix, colab, jupyterlite)\u001b[0m\n\u001b[1;32m    140\u001b[0m     \u001b[39mself\u001b[39m\u001b[39m.\u001b[39m_notebook \u001b[39m=\u001b[39m \u001b[39mself\u001b[39m\u001b[39m.\u001b[39m_config[\u001b[39m\"\u001b[39m\u001b[39mnotebook\u001b[39m\u001b[39m\"\u001b[39m]\n\u001b[1;32m    142\u001b[0m \u001b[39mif\u001b[39;00m \u001b[39mself\u001b[39m\u001b[39m.\u001b[39m_notebook:\n\u001b[1;32m    143\u001b[0m     \u001b[39mself\u001b[39m\u001b[39m.\u001b[39m_nbmeta_config \u001b[39m=\u001b[39m NBMetadataConfig\u001b[39m.\u001b[39mfrom_notebook(\n\u001b[0;32m--> 144\u001b[0m         nbf\u001b[39m.\u001b[39;49mread(\u001b[39mself\u001b[39;49m\u001b[39m.\u001b[39;49m_notebook, nbf\u001b[39m.\u001b[39;49mNO_CONVERT))\n\u001b[1;32m    145\u001b[0m \u001b[39melse\u001b[39;00m:\n\u001b[1;32m    146\u001b[0m     \u001b[39mself\u001b[39m\u001b[39m.\u001b[39m_nbmeta_config \u001b[39m=\u001b[39m NBMetadataConfig()\n",
      "File \u001b[0;32m~/Library/Python/3.11/lib/python/site-packages/nbformat/__init__.py:168\u001b[0m, in \u001b[0;36mread\u001b[0;34m(fp, as_version, capture_validation_error, **kwargs)\u001b[0m\n\u001b[1;32m    166\u001b[0m     buf \u001b[39m=\u001b[39m fp\u001b[39m.\u001b[39mread()\n\u001b[1;32m    167\u001b[0m \u001b[39mexcept\u001b[39;00m \u001b[39mAttributeError\u001b[39;00m:\n\u001b[0;32m--> 168\u001b[0m     \u001b[39mwith\u001b[39;00m \u001b[39mopen\u001b[39;49m(fp, encoding\u001b[39m=\u001b[39;49m\u001b[39m\"\u001b[39;49m\u001b[39mutf-8\u001b[39;49m\u001b[39m\"\u001b[39;49m) \u001b[39mas\u001b[39;00m f:\n\u001b[1;32m    169\u001b[0m         \u001b[39mreturn\u001b[39;00m reads(f\u001b[39m.\u001b[39mread(), as_version, capture_validation_error, \u001b[39m*\u001b[39m\u001b[39m*\u001b[39mkwargs)\n\u001b[1;32m    171\u001b[0m \u001b[39mreturn\u001b[39;00m reads(buf, as_version, capture_validation_error, \u001b[39m*\u001b[39m\u001b[39m*\u001b[39mkwargs)\n",
      "\u001b[0;31mFileNotFoundError\u001b[0m: [Errno 2] No such file or directory: 'control-structures.ipynb'"
     ]
    }
   ],
   "source": [
    "# Initialize Otter\n",
    "import otter\n",
    "grader = otter.Notebook(\"control-structures.ipynb\")"
   ]
  },
  {
   "cell_type": "markdown",
   "metadata": {},
   "source": [
    "# Vorlesung \"Computational Thinking\"        \n",
    "#### Prof. Dr.-Ing. Martin Hobelsberger, Dr. Benedikt Zönnchen\n",
    "\n",
    "[CT-Buch Kapitel 17. Kontrollstukturen](https://bzoennchen.github.io/ct-book/chapters/03-7/intro.html) \n",
    "\n",
    "***"
   ]
  },
  {
   "cell_type": "markdown",
   "metadata": {},
   "source": [
    "### Lernziele dieser Einheit\n",
    "* Kontrollstrukturen in Python\n",
    "    * Fallunterscheidung\n",
    "    * Schleifenkonstrukte\n",
    "* Strukturiere Ein-/Ausgabe\n",
    "* Zusammengesetzte Datentypen\n",
    "\n",
    "#### Was Sie bisher schon Wissen/Können sollten\n",
    "\n",
    "* Variablen\n",
    "* Einfache Datentypen\n",
    "* Arithmetische Ausdrücke und Vergleiche"
   ]
  },
  {
   "cell_type": "markdown",
   "metadata": {},
   "source": [
    "## Kontrollstrukturen\n",
    "Kontrollstrukturen werden in der Programmierung verwendet, um den **Ablauf eines Programmes zu steuern**. Es gibt sie in jeder Programmiersprache, wobei nicht jeder Compiler einer Sprache alle möglichen Strukturen unterstützt. Wir unterscheiden dabei zwischen einer **Sequenz, einem Schleifenkonstrukt und einer Fallunterscheidung**:\n",
    "\n",
    "Eine Sequenz ist dabei eine definierte Reihenfolge von Anweisungen. Auch diese ist eine Form der Kontrollstruktur (kontrollierter Ablauf eines Programmes, vorgegeben durch eine Sequenz). Von Kontrollstrukturen spricht man meist im Falle der Schleifenkonstrukte und der Fallunterscheidung. In Programmiersprachen wird hier meist zwischen drei Arten unterschieden:\n",
    "\n",
    " * If-Then-Else Anweisungen\n",
    " * For-Schleifen\n",
    " * While Schleifen\n",
    "\n",
    "Zur Beschreibung bzw. dem Entwurf von Programmen verwendet man sogenannte **Struktogramme** (Nassi-Shneiderman-Diagram oder ähnliche). [Wikipedia: Nassi-Shneiderman](https://de.wikipedia.org/wiki/Nassi-Shneiderman-Diagramm) "
   ]
  },
  {
   "cell_type": "code",
   "execution_count": null,
   "metadata": {},
   "outputs": [],
   "source": [
    "# Beispiel\n",
    "from random import randrange\n",
    "\n",
    "x = randrange(1, 7)\n",
    "\n",
    "if x == 6: # Kontrollanweisung (if) + Bedingung (x == 6)\n",
    "    print(\"Herzlichen Glückwunsch! Sie haben 6 gewürfelt\")\n",
    "else:\n",
    "    print(f\"Sie haben {x} gewürfelt. Leider verloren.\")"
   ]
  },
  {
   "cell_type": "code",
   "execution_count": null,
   "metadata": {},
   "outputs": [],
   "source": [
    "x = 5\n",
    "if x == 5:\n",
    "    print('Hallo')"
   ]
  },
  {
   "cell_type": "markdown",
   "metadata": {},
   "source": [
    "### Problemstellung\n",
    "Die Frage ist, warum brauchen wir Fallunterscheidungen und Schleifenkonstrukte in der Programmierung?\n",
    "\n",
    "Die Antwort ist relativ simple: Programmierung an sich besteht quasi nur aus geschicktem anwenden und verknüpfen von Bedingungen *(Wenn X dann/nicht Y)* und Schleifen *(Wiederhole solange/bis)* um Daten zu bearbeiten und darzustellen. Ein einfaches Beispiel: *Wenn `x` größer `x` dann weise `a` den Wert 1 und `b` den Wert 2 zu.* \n",
    "\n",
    "```C\n",
    "# In einer Programmiersprache X\n",
    "if (x>y){\n",
    "    a = 1;\n",
    "    b = 2;\n",
    "}\n",
    "```\n",
    "```python\n",
    "# In der Programmiersprache Python\n",
    "if x>y:\n",
    "    a = 1\n",
    "    b = 2\n",
    "```\n",
    "\n",
    "Was fällt auf? Python verzichtet auf die Klammern `()`, `{}` sowie dem Semikolon und verwendet stattdessen einen Doppelpunkt und **Whitespaces** (Indentation). \n",
    "\n",
    "Bevor wir dies auf ein umfangreicheres Beispiel anwenden die Konzepte in kürze. Es gibt zwei wesentliche Kontrollstrukturen:\n",
    "\n",
    "1. **Fallunterscheidungen:** Führe entweder Codeabschnitt A oder B oder C ... aus\n",
    "2. **Schleifen:** Führe Codeabschnitt A wiederholt aus"
   ]
  },
  {
   "cell_type": "markdown",
   "metadata": {},
   "source": [
    "### **If-Then-Else** Anweisung\n",
    "\n",
    "[CT-Buch Kapitel 17.1 Fallunterscheidungen](https://bzoennchen.github.io/ct-book/chapters/03-7/1-cases.html) \n",
    "\n",
    "Über sogenannte `if`-*Statements* kann der Programmablauf gesteuert werden.\n",
    "Dabei wird eine *Befehlsfolge* an eine **Bedingungen** geknüpft: \n",
    "\n",
    "*Computer, nur wenn Bedingung A zutrifft führe Codezeilen 4-6 aus!*\n",
    "\n",
    "```python\n",
    "if Bedingung A:\n",
    "    Befehl 1\n",
    "    Befehl 2\n",
    "    ...\n",
    "elif Bedingung B: #und nicht Bedingung A\n",
    "    Befehl 3\n",
    "    Befehl 4\n",
    "    ...\n",
    "else: # weder Bedingung A noch Bedingung B\n",
    "    Befehl 5\n",
    "    Befehl 6\n",
    "    ...\n",
    "```\n",
    "\n",
    "<span style='color:#C70039'>**Wichtig: Die Einrückung und der ``:`` spielen DIE entscheidende Rolle!**</span>"
   ]
  },
  {
   "cell_type": "code",
   "execution_count": null,
   "metadata": {},
   "outputs": [],
   "source": [
    "# Einfache Beispiele: if, if-else, if-elif, if if if-else\n",
    "x = 2\n",
    "\n",
    "if x <= 2:\n",
    "    print(f'x <= 2')\n",
    "    x += 1\n",
    "elif x <= 5:\n",
    "    print(f'x <= 5')\n",
    "    x += 2\n",
    "elif x <= 6:\n",
    "    print(f'x <= 4')\n",
    "    x += 6\n",
    "print(x)\n",
    "\n",
    "\n",
    "# if if \n",
    "\n",
    "\n",
    "# if if else nested"
   ]
  },
  {
   "cell_type": "code",
   "execution_count": null,
   "metadata": {},
   "outputs": [],
   "source": [
    "# Natürlich können if-Anweisungen auch ineinander verschachtelt werden.\n",
    "# Überlegen Sie sich für folgenden Code, für welchen Werte von x die Anweisungsblöcke 1), 2), 3) und 4) aufgerufen werden:\n",
    "\n",
    "if x < 10:\n",
    "    if x > 5:\n",
    "        # 1) ? 6,7,8,9\n",
    "    else:\n",
    "        # 2) ? ..., -1, 0, 1 , 2... 5 \n",
    "else:\n",
    "    if x <= 20:\n",
    "        # 3) ? 10... 20\n",
    "    else:\n",
    "        # 4) ? 21, 22 ..."
   ]
  },
  {
   "cell_type": "markdown",
   "metadata": {},
   "source": [
    "***\n",
    "***Aufgabe*** Schreiben Sie ein Programm um *Schere-Stein-Papier* zu spielen."
   ]
  },
  {
   "cell_type": "code",
   "execution_count": null,
   "metadata": {},
   "outputs": [],
   "source": [
    "# Mehrere Branches, formatierte Eingabe, \n",
    "\n",
    "scissors = 'Schere'\n",
    "stone = 'Stein'\n",
    "paper = 'Papier'\n",
    "\n",
    "player1 = input(f'Spieler 1: {scissors}, {stone}, {paper}? ')\n",
    "player2 = input(f'Spieler 2: {scissors}, {stone}, {paper}? ')\n",
    "\n",
    "if player1 == player2:\n",
    "    print('Unentschieden! Beide trinken!')\n",
    "elif player1 == 'Stein' and player2 == 'Schere':\n",
    "    print('Stein gewinnt!')\n",
    "elif player1 == 'Stein' and player2 == 'Papier':\n",
    "    print('Papier gewinnt!')\n",
    "elif player1 == 'Schere' and player2 == 'Papier':\n",
    "    print('Schere gewinnt!')\n",
    "elif player1 == 'Schere' and player2 == 'Stein':\n",
    "    print('Stein gewinnt!')\n",
    "elif player1 == 'Papier' and player2 == 'Stein':\n",
    "    print('Papier gewinnt!')\n",
    "elif player1 == 'Papier' and player2 == 'Schere':\n",
    "    print('Schere gewinnt!')\n",
    "else:\n",
    "    print('Irgendwas lief schief!')"
   ]
  },
  {
   "cell_type": "markdown",
   "metadata": {},
   "source": [
    "**Hauptpunkte die bei If-Statements zu beachten sind:**\n",
    "\n",
    "* Keywords: `if`, `elif` and `else`\n",
    "* Der Doppelpunkt `:` endet die Auswahl-Expression\n",
    "* Indentation (4 Leerzeichen) definieren einen Code-Block\n",
    "* In einem `if` Statement, der erste Block welcher beim Bedingungs-Statement `True` zurückliefert wird ausgeführt\n",
    "* `if` Statements brauchen nicht unbedingt `elif` oder `else`\n",
    "* `elif` lässt verschiedene Bedingungen überprüfen\n",
    "* `else` dient als *Default* Block der ausgeführt wird wenn alle anderen Bedingungen `False`sind. "
   ]
  },
  {
   "cell_type": "markdown",
   "metadata": {},
   "source": [
    "#### Anmerkung:\n",
    "* Die Doppelpunkte nicht vergessen!\n",
    "* Es gibt **IMMER** eine else-Verzweigung (default)\n",
    "* Die Einrückung ist sehr wichtig!!"
   ]
  },
  {
   "cell_type": "markdown",
   "metadata": {},
   "source": [
    "## Schleifen\n",
    "\n",
    "[CT-Buch Kapitel 17.2 Schleifen](https://bzoennchen.github.io/ct-book/chapters/03-7/2-loops.html) \n",
    "\n",
    "Erst durch die Wiederholen werden Computer zu mächtigen Rechenmaschine und *Schleifen* verkörpern diese Wiederholung wie kaum eine Struktur. Dabei gibt es in ``Python`` zwei Typen von Schleifen:\n",
    "\n",
    "1. ``for``-Schleifen\n",
    "2. ``while``-Schleifen"
   ]
  },
  {
   "cell_type": "markdown",
   "metadata": {},
   "source": [
    "### For-Schleife\n",
    "\n",
    "Mit der ``for``-Schleife können Sie eine Folge an Befehlen (*Statements*) für eine, **vor dem Eintritt in die Wiederholung bekannte Anzahl**, ausführen.\n",
    "Sie können die ``for``-Schleife jedoch abhängig von einer Bedingung frühzeitig verlassen/abbrechen.\n",
    "\n",
    "Dabei *iteriert* die ``for``-Schleife über eine *iterierbare* Ansammlung (*Collection*) an Objekten (z.B. Zahlen, Zeichen, etc.).\n",
    "Der Codeblock der Schleife erlangt für jede Wiederholung Zugriff auf das nächste Element der Ansammlung.\n",
    "In welcher Reihenfolge, hängt von der Datenstruktur ab, welche diese Ansammlung repräsentiert. \n",
    "\n",
    "```python\n",
    "for element in elements: #Für jedes Element in der Menge Elemente\n",
    "    # führe folgenden Codeblock abhängig von element aus\n",
    "    pass\n",
    "```\n",
    "\n",
    "Der Variablenname für `element` kann frei vergeben werden. Diese Variable kann als Referenz innerhalb einer Schleife verwendet werden. "
   ]
  },
  {
   "cell_type": "code",
   "execution_count": null,
   "metadata": {},
   "outputs": [],
   "source": [
    "# str und list\n",
    "\n",
    "namen =['Sarah', 'Sebastian', 'Babar', 'Simon', 'Martin']\n",
    "\n",
    "for name in namen:\n",
    "    if name == 'Martin':\n",
    "        print('Servus Martin!')\n",
    "    else:\n",
    "        print(name)\n",
    "\n",
    "\n"
   ]
  },
  {
   "cell_type": "code",
   "execution_count": 7,
   "metadata": {},
   "outputs": [
    {
     "name": "stdout",
     "output_type": "stream",
     "text": [
      "(1, 2)\n",
      "(3, 4)\n",
      "(4, 5)\n",
      "x:1, y:2\n",
      "x:3, y:4\n",
      "x:4, y:5\n",
      "1\n",
      "3\n",
      "5\n",
      "7\n",
      "9\n"
     ]
    }
   ],
   "source": [
    "# fun with for\n",
    "\n",
    "liste1 = [1, 2, 3, 4, 'eins', 'zwei', 'drei']\n",
    "listentupel = [(1,2),(3,4),(4,5)]\n",
    "\n",
    "for element in listentupel:\n",
    "    print(element)\n",
    "\n",
    "for k1,k2 in listentupel:\n",
    "    print(f'x:{k1}, y:{k2}')\n",
    "\n",
    "for _ in range(1,10,2):\n",
    "    print(_)"
   ]
  },
  {
   "cell_type": "markdown",
   "metadata": {},
   "source": [
    "Als statement wird *oft* (nicht immer) eine Folge von Zahlen angegeben. Dafür gibt es die **Standard-Funktion** `range(x)`: liefert eine Folge von Zahlen von 0 bis exklusive x"
   ]
  },
  {
   "cell_type": "markdown",
   "metadata": {},
   "source": [
    "Die range()-Funktion liefert eine Sequenz an Zahlen zurück.\n",
    "\n",
    "Syntax:\n",
    "\n",
    "```python\n",
    "range(start, stop, step)\n",
    "```\n",
    "\n",
    "mit\n",
    "\n",
    "start:\tOptional: Eine ganze Zahl, an der die Sequenz beginnen soll. Default ist 0\n",
    "\n",
    "stop:\tEine ganze Zahl, an der die Sequenz enden soll (die Zahl selbst wird nicht inkludiert)\n",
    "\n",
    "step:\tOptional: Eine ganze Zahl, die die Schrittweite angibt. Default ist 1"
   ]
  },
  {
   "cell_type": "code",
   "execution_count": null,
   "metadata": {},
   "outputs": [],
   "source": [
    "# range funktion"
   ]
  },
  {
   "cell_type": "markdown",
   "metadata": {},
   "source": [
    "***\n",
    "***Aufgabe:*** Schreiben Sie ein Programm was Ihnen die Summe ``sum_squares`` der Quadratzahlen von ``1`` bis ``n`` berechnet."
   ]
  },
  {
   "cell_type": "code",
   "execution_count": 8,
   "metadata": {},
   "outputs": [],
   "source": [
    "n = 12"
   ]
  },
  {
   "cell_type": "code",
   "execution_count": 18,
   "metadata": {},
   "outputs": [
    {
     "name": "stdout",
     "output_type": "stream",
     "text": [
      "506\n",
      "650\n"
     ]
    }
   ],
   "source": [
    "sum_squares = 0\n",
    "\n",
    "print(sum_squares)\n"
   ]
  },
  {
   "cell_type": "markdown",
   "metadata": {},
   "source": [
    "***"
   ]
  },
  {
   "cell_type": "markdown",
   "metadata": {},
   "source": [
    "Mit ``break`` können wir eine Schleife frühzeitig verlassen."
   ]
  },
  {
   "cell_type": "code",
   "execution_count": 19,
   "metadata": {},
   "outputs": [
    {
     "name": "stdout",
     "output_type": "stream",
     "text": [
      "0\n",
      "1\n",
      "2\n",
      "3\n",
      "4\n",
      "5\n",
      "schwelle erreicht. Break!\n"
     ]
    }
   ],
   "source": [
    "# break\n",
    "\n",
    "for x in range(20):\n",
    "    if x > 5:\n",
    "        print('schwelle erreicht. Break!')\n",
    "        break\n",
    "    print(x)"
   ]
  },
  {
   "cell_type": "markdown",
   "metadata": {},
   "source": [
    "Mit ``continue`` können wir die Ausführung des aktuellen Wiederholung abbrechen."
   ]
  },
  {
   "cell_type": "code",
   "execution_count": 21,
   "metadata": {},
   "outputs": [
    {
     "name": "stdout",
     "output_type": "stream",
     "text": [
      "0\n",
      "1\n",
      "2\n",
      "3\n",
      "4\n",
      "überspringen wir....!\n",
      "6\n",
      "7\n",
      "8\n",
      "9\n"
     ]
    }
   ],
   "source": [
    "# continue\n",
    "\n",
    "for x in range(10):\n",
    "    if x == 5:\n",
    "        print('überspringen wir....!')\n",
    "        continue\n",
    "    print(x)"
   ]
  },
  {
   "cell_type": "markdown",
   "metadata": {},
   "source": [
    "***\n",
    "***Aufgabe:*** Schreiben Sie eine Funktion ``is_prime(n)``, die testet ob ``n`` eine Primzahl ist oder nicht."
   ]
  },
  {
   "cell_type": "code",
   "execution_count": null,
   "metadata": {},
   "outputs": [],
   "source": [
    "def is_prime(n):\n",
    "    ..."
   ]
  },
  {
   "cell_type": "code",
   "execution_count": null,
   "metadata": {},
   "outputs": [],
   "source": [
    "print(is_prime(2)) # True\n",
    "print(is_prime(3)) # True\n",
    "print(is_prime(23)) # True\n",
    "print(is_prime(55)) # False\n",
    "print(is_prime(1)) # False"
   ]
  },
  {
   "cell_type": "markdown",
   "metadata": {},
   "source": [
    "***"
   ]
  },
  {
   "cell_type": "markdown",
   "metadata": {},
   "source": [
    "### Die While-Schleife\n",
    "\n",
    "Mit der ``while``-Schleife können Sie eine Folge an Befehlen (*Statements*) solange ausführen, wie eine festgelegt Bedingung zutrifft.\n",
    "Sie können die ``while``-Schleife jedoch abhängig von einer anderen Bedingung auch frühzeitig verlassen/abbrechen.\n",
    "\n",
    "Sie müssen nicht wissen wann die Bedingung erfüllt ist, doch sollten sie irgendwann erfüllt sein!\n",
    "Anderfalls endet die Wiederholung niemals.\n",
    "\n",
    "Dies macht die ``while``-Schleife mächtiger und zugleich fehleranfälliger als die ``for``-Schleife. \n",
    "\n",
    "```python\n",
    "while condtion: #Solange Bedingung erfüllt\n",
    "    # führe folgenden Codeblock aus\n",
    "    pass\n",
    "```\n",
    "\n",
    "Jede ``for``-Schleife lässt sich in eine ``while``-Schleife umwandeln, umgekehrt gilt dies nicht. \n",
    "\n",
    "**Faustregel:** Verwenden Sie die ``for``-Schleife wenn immer Sie sich eignet."
   ]
  },
  {
   "cell_type": "code",
   "execution_count": null,
   "metadata": {},
   "outputs": [],
   "source": [
    "# while\n",
    "\n",
    "y = 0\n",
    "while y < 10:\n",
    "    x = 0\n",
    "    while x < 10:\n",
    "        print(f\"({x}, {y})\")\n",
    "        x += 1\n",
    "    y += 1"
   ]
  },
  {
   "cell_type": "markdown",
   "metadata": {},
   "source": [
    "**break, continue, pass**\n",
    "\n",
    "Die Statement `break`, `continue` und `pass` können verwendet werden um zusätzliche Funktinalität bzw. Fallabdeckungen in Schleifen umzusetzen:\n",
    "* `break`: \"Bricht aus\" der aktuellen nächsten liegenden geschlossenen Schleife aus\n",
    "* `continue`: Geht zum Anfang der am nächsten liegenden geschlossenen Schleifen\n",
    "* `pass`: macht.. nichts!\n",
    "\n",
    "```python\n",
    "while test:\n",
    "    #Code\n",
    "    if test2:\n",
    "        break\n",
    "    if test3:\n",
    "        continue\n",
    "else:\n",
    "    #Code\n",
    "```"
   ]
  },
  {
   "cell_type": "code",
   "execution_count": null,
   "metadata": {},
   "outputs": [],
   "source": [
    "# whilen break continue \n",
    "\n"
   ]
  },
  {
   "cell_type": "markdown",
   "metadata": {},
   "source": [
    "**VORSICHT!!!**\n",
    "\n",
    "Der folgende Code führt zu einer sogenannten **Endlosschleife**\n",
    "\n",
    "```python\n",
    "while True:\n",
    "    print('AH, ich bin in einer Endlosschleife gefangen!')\n",
    "```"
   ]
  },
  {
   "cell_type": "markdown",
   "metadata": {},
   "source": [
    "<span style='color:blue '> **Übung:** </span> Größter gemeinsamer Teiler (ggT)\n",
    "* Gegeben seien zwei positive ganze Zahlen `m` und `n` (z.B.: Zähler und Nenner eines Bruchs)\n",
    "* Finde ihren größten gemeinsamen Teiler, d.h. die größte positive ganze Zahl, die sowohl `m` als auch `n` ohne Rest teilt.\n",
    "* Nutzen Sie hierfür eine While-Schleife und die Modulo Operation\n",
    "\n",
    "*Euklids Algorithmus*\n",
    "\n",
    "1. Teile `m` durch `n`; der Rest der Division sei `r`.\n",
    "2. Setze `m`<- `n`, `n` <- `r` und gehe zurück zu Schritt 1.\n",
    "3. Falls `r` == 0 (und somit `n`==0), so ist der Algorithmus beendet; das Ergebnis (ggT) ist `n`. Ansonsten fahre fort."
   ]
  },
  {
   "cell_type": "code",
   "execution_count": 24,
   "metadata": {},
   "outputs": [
    {
     "name": "stdout",
     "output_type": "stream",
     "text": [
      "3\n"
     ]
    }
   ],
   "source": [
    "# Schreiben Sie ein Programm das den größten gemeinsamen Teiler bestimmt\n",
    "\n"
   ]
  }
 ],
 "metadata": {
  "kernelspec": {
   "display_name": "Python 3 (ipykernel)",
   "language": "python",
   "name": "python3"
  },
  "language_info": {
   "codemirror_mode": {
    "name": "ipython",
    "version": 3
   },
   "file_extension": ".py",
   "mimetype": "text/x-python",
   "name": "python",
   "nbconvert_exporter": "python",
   "pygments_lexer": "ipython3",
   "version": "3.11.2"
  },
  "vscode": {
   "interpreter": {
    "hash": "e7ccb2a435b656723dafd2fb88eb02b6891256ab8b77d2cf3044cea9811453d0"
   }
  }
 },
 "nbformat": 4,
 "nbformat_minor": 4
}
