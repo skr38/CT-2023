{
 "cells": [
  {
   "attachments": {},
   "cell_type": "markdown",
   "metadata": {
    "deletable": false,
    "editable": false
   },
   "source": [
    "# Prüfung Computational Thinking WS2023/24\n",
    "\n",
    "Lesen Sie die Aufgaben genau durch bzw. nutzen Sie die Beispiele. Achten Sie auf Ihre Zeit und bearbeiten Sie zuerst die Aufgaben mit denen Sie sich sicher fühlen.\n",
    "Es sind:\n",
    "\n",
    "+ XXX Aufgaben\n",
    "+ mit insgesamt XXX Punkten\n",
    "\n",
    "**Viel Erfolg!**"
   ]
  },
  {
   "cell_type": "markdown",
   "metadata": {},
   "source": [
    "_____________________\n",
    "\n",
    "Vorname: \n",
    "\n",
    "Nachname: \n",
    "\n",
    "_____________________"
   ]
  },
  {
   "cell_type": "markdown",
   "metadata": {},
   "source": [
    "---\n",
    "### Aufgaben zu Funktionen und Datenstrukturen (X Punkte)\n",
    "\n",
    "---"
   ]
  },
  {
   "attachments": {},
   "cell_type": "markdown",
   "metadata": {
    "deletable": false,
    "editable": false
   },
   "source": [
    "**Aufgabe** *(3 Punkte)*\n",
    "\n",
    "Erstellen Sie eine neue Liste ``lst``, die das erste Zeichen jedes Eintrages in einer String Liste ``strings`` (beliebig viele Einträge) enthält. \n",
    "* Nutzen Sie hierfür eine List Comprehension (unbedingt notwendige Bedingung!). \n"
   ]
  },
  {
   "cell_type": "code",
   "execution_count": 7,
   "metadata": {},
   "outputs": [
    {
     "name": "stdout",
     "output_type": "stream",
     "text": [
      "['a', 'd', 'b']\n"
     ]
    }
   ],
   "source": [
    "\n",
    "strings = ['abc', 'def', 'bene']\n",
    "\n",
    "\n",
    "\n",
    "\n",
    "\n",
    "\n",
    "\n",
    "# lst = []\n",
    "\n",
    "# for i in strings:\n",
    "#     lst.append(i[0])\n",
    "\n",
    "\n",
    "\n",
    "\n",
    "\n",
    "\n",
    "lst = [i[0] for i in strings]\n",
    "\n",
    "\n",
    "\n",
    "print (lst)\n",
    "\n",
    "\n",
    "\n",
    "\n",
    "\n",
    "\n",
    "\n",
    "\n",
    "\n",
    "\n",
    "\n",
    "\n",
    "\n",
    "\n",
    "\n",
    "\n"
   ]
  },
  {
   "cell_type": "code",
   "execution_count": null,
   "metadata": {},
   "outputs": [],
   "source": [
    "strings = ['abc', 'def', 'bene']\n",
    "\n",
    "lst = [entry[0] for entry in strings] # SOLUTION"
   ]
  },
  {
   "cell_type": "markdown",
   "metadata": {},
   "source": [
    "***"
   ]
  },
  {
   "cell_type": "markdown",
   "metadata": {},
   "source": []
  },
  {
   "cell_type": "markdown",
   "metadata": {},
   "source": [
    "---\n",
    "### Aufgaben zu Objektorientierter Programmierung (X Punkte)\n",
    "\n",
    "---"
   ]
  },
  {
   "cell_type": "markdown",
   "metadata": {},
   "source": [
    "**Aufgabe** *(4 Punkte)* \n",
    "\n",
    "Erklären Sie in eigenen Worten den Unterschied zwischen einer Komposition und einer Aggregation"
   ]
  },
  {
   "cell_type": "markdown",
   "metadata": {},
   "source": [
    "Lösung: "
   ]
  },
  {
   "cell_type": "markdown",
   "metadata": {},
   "source": [
    "---"
   ]
  },
  {
   "attachments": {},
   "cell_type": "markdown",
   "metadata": {
    "deletable": false,
    "editable": false
   },
   "source": [
    "**Aufgabe** *(4 Punkte)* \n",
    "\n",
    "Erstellen Sie die Konto-Klasse ``Account`` mit einem Attribut Kontostand ``credits``; diese Attribut wird mit einem Startkapital initialisiert.\n",
    "Die Methode ``display()`` soll den aktuellen Kontostand ausgeben.\n"
   ]
  },
  {
   "cell_type": "code",
   "execution_count": 32,
   "metadata": {},
   "outputs": [
    {
     "name": "stdout",
     "output_type": "stream",
     "text": [
      "Kontostand: 1 credits\n"
     ]
    }
   ],
   "source": [
    "\n",
    "class Account:\n",
    "    def __init__(self, startkap = 1):\n",
    "        self.credits = startkap\n",
    "\n",
    "    def display (self):\n",
    "        print (f'Kontostand: {self.credits} credits')\n",
    "\n",
    "\n",
    "\n",
    "\n",
    "\n",
    "hansi = Account()\n",
    "\n",
    "hansi.display()\n",
    "\n",
    "\n",
    "\n",
    "\n",
    "\n",
    "\n",
    "\n"
   ]
  },
  {
   "cell_type": "code",
   "execution_count": 28,
   "metadata": {},
   "outputs": [],
   "source": [
    "# BEGIN SOLUTION\n",
    "class Account:\n",
    "    def __init__(self, credits):\n",
    "        self.credits = credits\n",
    "        \n",
    "    def display(self):\n",
    "        print(f'credits: {self.credits}')\n",
    "# END SOLUTION"
   ]
  },
  {
   "cell_type": "markdown",
   "metadata": {},
   "source": [
    "***"
   ]
  },
  {
   "cell_type": "markdown",
   "metadata": {},
   "source": [
    "---\n",
    "### Aufgaben zur Theorie (X Punkte)\n",
    "\n",
    "---"
   ]
  },
  {
   "attachments": {},
   "cell_type": "markdown",
   "metadata": {
    "deletable": false,
    "editable": false
   },
   "source": [
    "**Aufgabe** *(4 Punkte)*\n",
    "\n",
    "Setzen Sie den Wert der Liste wenn die entsprechende Aussage wahr ist auf ``True`` und wenn diese falsch ist auf ``False``!\n",
    "\n",
    "*Beispiel*:\n",
    "\n",
    "```python\n",
    "statements_q5 = [\n",
    "    \"Europa ist der einzige Kontinent auf der Welt\",\n",
    "    \"4 ist eine Primzahl\",\n",
    "    \"11 ist eine Primzahl\"\n",
    "]\n",
    "\n",
    "answers_q5 = [\n",
    "    False,\n",
    "    False,\n",
    "    True\n",
    "]\n",
    "```"
   ]
  },
  {
   "cell_type": "code",
   "execution_count": null,
   "metadata": {},
   "outputs": [],
   "source": [
    "statements_q5 = [\n",
    "    \"Europa ist der einzige Kontinent auf der Welt\",\n",
    "    \"4 ist eine Primzahl\",\n",
    "    \"11 ist eine Primzahl\"\n",
    "]\n",
    "\n",
    "answers_q5 = [\n",
    "    None,\n",
    "    None,\n",
    "    None\n",
    "]\n",
    "\n",
    "for i in"
   ]
  },
  {
   "cell_type": "markdown",
   "metadata": {},
   "source": [
    "***"
   ]
  },
  {
   "cell_type": "markdown",
   "metadata": {},
   "source": [
    "***"
   ]
  },
  {
   "cell_type": "markdown",
   "metadata": {},
   "source": [
    "***"
   ]
  },
  {
   "attachments": {},
   "cell_type": "markdown",
   "metadata": {
    "deletable": false,
    "editable": false
   },
   "source": [
    "## Viel Erfolg!!"
   ]
  },
  {
   "cell_type": "markdown",
   "metadata": {},
   "source": [
    "***"
   ]
  },
  {
   "cell_type": "markdown",
   "metadata": {},
   "source": []
  }
 ],
 "metadata": {
  "kernelspec": {
   "display_name": "Python 3 (ipykernel)",
   "language": "python",
   "name": "python3"
  },
  "language_info": {
   "codemirror_mode": {
    "name": "ipython",
    "version": 3
   },
   "file_extension": ".py",
   "mimetype": "text/x-python",
   "name": "python",
   "nbconvert_exporter": "python",
   "pygments_lexer": "ipython3",
   "version": "3.11.6"
  },
  "vscode": {
   "interpreter": {
    "hash": "881d337900756e70a76eada1facb65e60ce30b1cc249c92e2adf60a26cf555a8"
   }
  }
 },
 "nbformat": 4,
 "nbformat_minor": 2
}
